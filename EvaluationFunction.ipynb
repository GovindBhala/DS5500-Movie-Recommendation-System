{
 "cells": [
  {
   "cell_type": "markdown",
   "metadata": {},
   "source": [
    "# Functions to Evaluate Recommendation Models\n",
    "- Personalization\n",
    "\n",
    "- Average Raitings with User Recommendation\n",
    "\n",
    "- Precision at k, Recal at k\n",
    "\n",
    "- Personal diversity\n",
    "\n",
    "- General Diversity - Are we recommending unpopular movies\n",
    "\n",
    "- average of average ratings\n",
    "\n",
    "\n",
    "Set seeds such that evaluate all of these models on the same set of users "
   ]
  },
  {
   "cell_type": "markdown",
   "metadata": {},
   "source": [
    "### Import Recommendation System\n",
    "\n",
    "1)  Convert recommendation system notebook to .py\n",
    "\n",
    "2) Import function here using:\n",
    "\n",
    "from <name.py> import <name of the recomendation function>\n",
    "    \n",
    "example: from contentbasedrecommendationsystem import user_content_recommendations\n",
    "    \n",
    "3) recommendation_system: give the name of the recommendation system, you want to get the evaluations for   \n",
    "    \n",
    "    \n",
    "### How to run iterations\n",
    "- Individual model with full data:\n",
    "    - df1 = sparse dataset\n",
    "    - cols1 = columns from df1\n",
    "    - movieIds = moviesIds (row names) from df1\n",
    "    - keep_movies = movieIds  \n",
    "    - keep_movies1 = []\n",
    "    - keep_movies2 = []\n",
    "    - df2 = False, cols2 = False, recommendation_system_input = False\n",
    "    - recommendation_system = content_based_recommendations.user_content_recommendations\n",
    "- Individual model with specific columns:\n",
    "    - keep_movies = subset of movies (likely either movieIds_tags or movieIds_notags)\n",
    "        - Evaluate on subset\n",
    "    - keep_movies1 = same subset \n",
    "        - Generate recommendations only from subset\n",
    "    - Else same\n",
    "- Combined model with two different input datasets\n",
    "    - df1 = sparse dataset1 , df2 = sparse dataset2\n",
    "    - cols1 = columns from df1, col2 = columns from df2\n",
    "    - keep_movies = movieIds  (evaluate on all movies)\n",
    "    - keep_movies1 = subset 1\n",
    "    - keep_movies2 = subset 2\n",
    "    - keep_movies = movieIds (row names) from df1 or df2 -- identical \n",
    "    - recommendation_system_input = content_based_recommendations.user_content_recommendations\n",
    "    - recommendation_system = content_based_recommendations_combine.content_models_combine"
   ]
  },
  {
   "cell_type": "markdown",
   "metadata": {},
   "source": [
    "### Content Systems: One Model\n",
    "- content_initial_eval (processed_df_sparse): genre, actor, director. Cosine similarity between movies\n",
    "- __Baseline__: contentv2_noMovieNorm_eval (processed_df_sparse): same data, but no normalization of movie vector (true for all others)\n",
    "- __Description TFIDF__: content_desc_eval (processed_df_desc): top 5 TF-IDF tokens from movie description\n",
    "    - Add Genre tokens: content_desc_genre_eval (processed_df_desc_genre_sparse): description tokens and genre\n",
    "- __All meta-data__: content_all_meta_eval (processed_df_all_meta_sparse): genre, actor, director, decade, country, production company \n",
    "    - Try also with each individual feature in the \"all\" version: content_ (genre, actors_directors, decade, country, production) _eval\n",
    "    - content_baseline_plus_prod_eval: genre, actors, director, production company \n",
    "        - country and decade individually perform poorly individually\n",
    "- __Tags TFIDF__: content_tags_eval (processed_df_tags_sparse): top 5 TF-IDF genome tags\n",
    "- __Tags Relevant__: content_tags_rel_eval (processed_df_tags_rel_sparse): top 5 genome tags by relevance score\n",
    "    - __Tags Relevant + Baseline__: content_baseline_tags_rel_eval (processe_df_baseline_tags_rel_sparse): top 5 tags by relevance + baseline features. Attempt to overcome long tail problem\n",
    "    - __Text TFIDF__: content_text_eval (processed_df_text_sparse): top 5 TF-IDF text field (tags + description). Attempt to overcome long tail problem."
   ]
  },
  {
   "cell_type": "markdown",
   "metadata": {},
   "source": [
    "| Model | Personalization | Precision@10 | Recall@10 | Personal diversity | Global diversity | Average rating\n",
    "| --- | --- | --- | --- | --- | --- | --- \n",
    "| Baseline | 0.99 | 0.02 | 0.007 | 0.52 | 6.4 | 3.2\n",
    "| All meta-data | 0.99 | 0.02 | 0.006 | 0.42 | 1.05 | 3\n",
    "| Description TFIDF | 0.99 | 0 | 0 | 0.62 | 1.1 | 3.1\n",
    "| Tags TFIDF | 0.96 | 0.075 | 0.02 | 0.36 | 415 | 3.8\n",
    "| Tags Relevant | 0.98 | 0.06 | 0.02 | 0.60 | 524 | 3.5\n",
    "| Text TFIDF | 0.96 | 0.085 | 0.02 | 0.32 | 647 | 3.8\n",
    "| Tags Relevant + Baseline | 0.99 | 0.045 | 0.02 | 0.64 | 116 | 3.4"
   ]
  },
  {
   "cell_type": "markdown",
   "metadata": {},
   "source": [
    "\n",
    "- Baseline (genre, actor, director): best set of metadata \n",
    "    - Adding in combinations of country, decade, and production company worsen performance -- unimportant features to people's opinions of a movie\n",
    "    - Actors and directors important to include with genre, else no differentiation between movies that have the same genre list\n",
    "- Description tokens perform poorly (precision, recall 0)\n",
    "- Genome tagging performs well in terms of performance (precision, recall) and for personalization, personal diversity,  average rating\n",
    "    - However, worse for global diversity because 75% of movies do not have tagging, and tags heavily biased towards movies with many ratings.\n",
    "    - Top 5 relevant genome tags better than top 5 tf-idf tags in personal diversity. Tags TFIDF better (slightly) in precision, recall, average rating\n",
    "    - Tags capture most important information from other meta-data because include info about most important actors, genres, plot themes\n",
    "- Combining tags with other metadata to increase coverage (baseline metadata, description tokens) worsens performance\n",
    "    - Metadata: assuming these movies don't have info related to that tag. Not a valid assumption, just not labeled\n",
    "    - Description: still not recommending tail even though have description for those. However, for the more popular movies, adding description into the text tfidf does seem to improve performance\n",
    "    \n",
    "    \n",
    "Based on the above, overall conclusion is that genome tagging based on relevance does the best in performance but poor global diversity. Prompted following design: Two separate models for movies with tags and movies without tags. Half recommendations from one, half from the other \n",
    "- Performance and credibility from tag model among popular movies\n",
    "    - Also, people tend to expect recognizable movies in their recommendations so lends to credibilty of system. Preps them to be accepting of the long tail that will increase our overall streaming\n",
    "- Access to long tail for baseline model among untagged, less popular movies       \n",
    "--> exploration and exploitation"
   ]
  },
  {
   "cell_type": "markdown",
   "metadata": {},
   "source": [
    "### Content Systems: Two Models   \n",
    "(1) Evaluate models on relevant dataset     \n",
    "(2) Evaluate combined models on full dataset   \n",
    "    \n",
    "Still debating between two tag models (TFIDF vs relevant) \n",
    "    \n",
    "- __Relevant Tags Only__: content_tags_rel_only_eval (processed_df_tags_rel_sparse + keep_cols = movieIds_tags): top 5 genome tags by relevance score ONLY with movies that have tags\n",
    "- __TFIDF Tags Only__: content_tags_only_eval (processed_df_tags_sparse + keep_cols = movieIds_tags): top 5 genome tags by tfidf ONLY with movies that have tags\n",
    "- __TFIDF Text Only__: content_text_tagsonly_eval (processed_df_text_sparse + keep_cols = movieIds_tags): top 5 tags+description fields by tfidf ONLY with movies that have tags\n",
    "- __Baseline no tags__: content_baseline_notags_eval (processed_df_sparse + keep_cols = movieIds_notags): basline model (genre, actor, director) only for movies without tags (long tail) \n",
    "- __Combined Relevant__: content_twomodels_tags_rel_eval: combination of __Baseline no tags__ and __TFIDF Tags Only__ models using content_based_recommendations_combine system. df1 = baseline no tags, df2 = tags (tfidf) tags\n",
    "- __Combined TFIDF__: content_twomodels_tags_eval: combination of prior __Baseline no tags__ and __TFIDF Tags Only__ models using content_based_recommendations_combine system. df1 = baseline no tags, df2 = tags (relevant) tags\n",
    "- __Combined Text__: content_twomodels_text_eval: combination of prior __Baseline no tags__ and __TFIDF Text Only__ models using content_based_recommendations_combine system. df1 = baseline no tags, df2 = text (tfidf) tags"
   ]
  },
  {
   "cell_type": "markdown",
   "metadata": {},
   "source": [
    "| Model | Personalization | Precision@10 | Recall@10 | Personal diversity | Global diversity | Average rating\n",
    "| --- | --- | --- | --- | --- | --- | --- \n",
    "| Relevant Tags Only | 0.98 | 0.03 | 0.007 | 0.59 | 356 | 3.5\n",
    "| TFIDF Tags Only | 0.96 | 0.07 | 0.008 | 0.36 | 910 | 3.8\n",
    "| TFIDF Text Only | 0.95 | 0.075 | 0.02 | 0.31 | 688 | 3.8\n",
    "| Basline no tags | 0.99 | 0.01 | 0.005 | 0.49 | 1.2 | 3.0\n",
    "| Combined Relevant | 0.99 | 0.025 | 0.01 | 0.67 | 1.85 | 3.25\n",
    "| Combined TFIDF | 0.99 | 0.045 | 0.01 | 0.70 | 1.85 | 3.39\n",
    "| Combined Text | 0.98 | 0.055 | 0.015 | 0.69 | 1.85 | 3.42"
   ]
  },
  {
   "cell_type": "markdown",
   "metadata": {},
   "source": [
    "- Genome tagging for movies only with tags: Almost identical evaluations to full data, which makes sense as even with full data effectively just ignored movies without tags. \n",
    "    - Worse recall = likely artifact of different sample users chosen since different universe. These users happened to have rated more movies positively, thus creating a larger denominator for recall. but precision still performing well. \n",
    "    - TFIDF Text is the best on just tags sample \n",
    "- Baseline for movies without tags: compared to full data, slightly worse performance in all stats. To be expected since only evaluating on long tail movies. For example, if rarely viewed then low likelihood that they are in the user's test set for precision, recall \n",
    "- Combined: performance in between two individual models. Higher personal diversity (evaluated on baseline characteristics because available for all movies)\n",
    "    - Better than any single models that consider all movies \n",
    "    - TFIDF tags clearly better\n",
    "    \n",
    "__FINAL MODEL:__ Combined Text"
   ]
  },
  {
   "cell_type": "code",
   "execution_count": 1,
   "metadata": {
    "scrolled": false
   },
   "outputs": [],
   "source": [
    "import pandas as pd\n",
    "import os\n",
    "import numpy as np\n",
    "import matplotlib.pyplot as plt\n",
    "import seaborn as sns\n",
    "import datetime as datetime\n",
    "import operator\n",
    "import scipy.spatial.distance as distance\n",
    "from sklearn import metrics \n",
    "import random\n",
    "import time\n",
    "from sklearn.model_selection import train_test_split\n",
    "from sklearn.linear_model import LinearRegression\n",
    "import fastparquet\n",
    "import pickle\n",
    "import scipy\n",
    "import sklearn\n",
    "import content_based_recommendations\n",
    "import content_based_recommendations_combine"
   ]
  },
  {
   "cell_type": "markdown",
   "metadata": {},
   "source": [
    "## Load Data"
   ]
  },
  {
   "cell_type": "code",
   "execution_count": 2,
   "metadata": {
    "scrolled": true
   },
   "outputs": [],
   "source": [
    "df1 = scipy.sparse.load_npz(\"processed_df_text_sparse.npz\")\n",
    "#df2 = scipy.sparse.load_npz(\"processed_df_text_sparse.npz\")\n",
    "df2 = False\n",
    "\n",
    "ratings = pd.read_pickle('ratings_sample.pkl')\n",
    "ratings = ratings.reset_index()\n",
    "movies_raitings = pd.read_parquet('movies_ratings.parq')\n",
    "movies_raitings = movies_raitings.rename(columns={\"avg\": \"Average_Ratings\"})"
   ]
  },
  {
   "cell_type": "code",
   "execution_count": 3,
   "metadata": {},
   "outputs": [],
   "source": [
    "with open('sparse_metadata_text', \"rb\") as f:\n",
    "    cols1 = pickle.load(f)\n",
    "    movieIds = pickle.load(f)\n",
    "    \n",
    "#with open('sparse_metadata_text', \"rb\") as f:\n",
    "#    cols2 = pickle.load(f)\n",
    "#    movieIds = pickle.load(f)\n",
    "cols2 = False\n",
    "\n",
    "# movieIds are identical (list of full movies)"
   ]
  },
  {
   "cell_type": "code",
   "execution_count": 4,
   "metadata": {},
   "outputs": [],
   "source": [
    "# load movieId lists for movies with and without tags so can specify which movies to keep for which models\n",
    "with open('movieIds_tags', \"rb\") as f:\n",
    "    movieIds_tags = pickle.load(f)\n",
    "with open('movieIds_notags', \"rb\") as f:\n",
    "    movieIds_notags = pickle.load(f)"
   ]
  },
  {
   "cell_type": "code",
   "execution_count": 5,
   "metadata": {},
   "outputs": [],
   "source": [
    "keep_movies = movieIds\n",
    "keep_movies1 = movieIds_tags\n",
    "keep_movies2 = []"
   ]
  },
  {
   "cell_type": "code",
   "execution_count": 6,
   "metadata": {
    "scrolled": true
   },
   "outputs": [],
   "source": [
    "# use to only get a subset of columns from processed_df_all_meta_sparse\n",
    "#index = [cols.index(i) for i in cols if i.startswith('production') | i.startswith('genres') | i.startswith('actors') |\n",
    "#        i.startswith('director')]\n",
    "#df = df[:, index]\n",
    "#cols = [cols[i] for i in index]"
   ]
  },
  {
   "cell_type": "markdown",
   "metadata": {},
   "source": [
    "## Helper Fns"
   ]
  },
  {
   "cell_type": "code",
   "execution_count": 7,
   "metadata": {},
   "outputs": [],
   "source": [
    "def user_top(movies,n):\n",
    "    return movies[['title_eng','Average_Ratings']][:n]\n",
    "\n",
    "def user_movie_id(movies,n):\n",
    "    return movies['movieId'][:n]\n",
    "\n",
    "def user_avg_rating(movies,n):\n",
    "    return movies['Average_Ratings'][:n]"
   ]
  },
  {
   "cell_type": "markdown",
   "metadata": {},
   "source": [
    "## Specify recommendation system"
   ]
  },
  {
   "cell_type": "code",
   "execution_count": 8,
   "metadata": {},
   "outputs": [],
   "source": [
    "#recommendation_system_input = content_based_recommendations.user_content_recommendations\n",
    "#recommendation_system = content_based_recommendations_combine.content_models_combine\n",
    "\n",
    "recommendation_system_input = False\n",
    "recommendation_system = content_based_recommendations.user_content_recommendations"
   ]
  },
  {
   "cell_type": "markdown",
   "metadata": {},
   "source": [
    "## Open file to record evaluations"
   ]
  },
  {
   "cell_type": "code",
   "execution_count": 9,
   "metadata": {},
   "outputs": [],
   "source": [
    "f = open(\"evaluations/content_text_tagsonly_eval.txt\", \"w\")"
   ]
  },
  {
   "cell_type": "markdown",
   "metadata": {},
   "source": [
    "## Evaluation: Personalization\n",
    "\n"
   ]
  },
  {
   "cell_type": "code",
   "execution_count": 10,
   "metadata": {},
   "outputs": [],
   "source": [
    "\"\"\"\n",
    "get_users_prediction: returns user prediction\n",
    "\n",
    "user_matrix: generated user by movies, 0: movie not recommended, 1: movie got recommended\n",
    "\n",
    "\"\"\"\n",
    "def get_users_prediction(users_list,top_n,users_prediction,recommendation_system, df1, ratings, movieIds, keep_movies1,\n",
    "                        df2 = False, keep_movies2 = False, recommendation_system_input = False):\n",
    "    for i in users_list:\n",
    "        recommendation = recommendation_system(i, df1, ratings, movieIds,\n",
    "                                               keep_movies1, df2, keep_movies2, recommendation_system_input)\n",
    "        prediction = user_movie_id(recommendation,top_n).astype(int).values\n",
    "        users_prediction = users_prediction.append(pd.Series(prediction),ignore_index=True)\n",
    "        \n",
    "    return users_prediction\n",
    "\n",
    "def user_matrix(users_pred):\n",
    "    data_melt= pd.DataFrame(data=users_pred).reset_index().melt(id_vars='index', value_name='movieId',)\n",
    "    data_melt = data_melt[['index', 'movieId']].pivot(index='index', columns='movieId', values='movieId')\n",
    "    cols = data_melt.columns\n",
    "    for i in cols:\n",
    "        data_melt[i] = np.where(data_melt[i].isna(), 0, 1)\n",
    "    return data_melt\n",
    "\n",
    "\n",
    "def personalization(users_matrix,n):\n",
    "    # generating cosine similarity between the users\n",
    "    #then getting the indicies of elements above diagonal (giving diagonal offsert =1 in triu_indices)\n",
    "    #calculating the avg of the element above diagonal \n",
    "    #Personalization means 1 - similarity\n",
    "    #higher the personalization score, better the recommendation system in recommending personalized movies\n",
    "   \n",
    "    users_sim = metrics.pairwise.cosine_similarity(users_matrix)\n",
    "    iu1 = np.triu_indices(n,k=1)\n",
    "    similarity_avg = np.mean(users_sim[iu1])\n",
    "    personalization_score = 1 - similarity_avg\n",
    "\n",
    "    return personalization_score\n",
    "\n",
    "def cross_fold_eval(unique_users,recommendation_system, df1, keep_movies1, \n",
    "                    df2 = False, keep_movies2 = False, recommendation_system_input = False, \n",
    "                    k_fold=10,n=10,top_n=10):\n",
    "    #users_list: List of random n users\n",
    "    \n",
    "    kfold_personalization=0\n",
    "    for i in range(k_fold):\n",
    "        users_list = random.sample(unique_users, n)\n",
    "        \n",
    "        #columns: top_n recommendations\n",
    "        #users_prediction:  top_n recommendations for n users\n",
    "        column_names = list(range(top_n))\n",
    "        users_prediction = pd.DataFrame(columns = column_names)\n",
    "                \n",
    "        # getting predictions for sampled users\n",
    "        users_pred = get_users_prediction(users_list,top_n,users_prediction,recommendation_system, \n",
    "                                          df1, ratings, movieIds, keep_movies1,\n",
    "                                          df2 = df2, keep_movies2 = keep_movies2, \n",
    "                                          recommendation_system_input = recommendation_system_input)\n",
    "        \n",
    "        # getting user by movies matrix with binary indicators 0: movie not recommended, 1: movie got recommended\n",
    "        users_matrix = user_matrix(users_pred)\n",
    "        kfold_personalization+=personalization(users_matrix,n)\n",
    "    kfold_eval = kfold_personalization/k_fold\n",
    "    print(f'Personalization score for {k_fold} folds across {n} users for top {top_n} recommendations: {kfold_eval}', file = f)"
   ]
  },
  {
   "cell_type": "code",
   "execution_count": 11,
   "metadata": {
    "scrolled": true
   },
   "outputs": [],
   "source": [
    "\"\"\"\n",
    "    unique_users: getting unique user set \n",
    "    \n",
    "    default values given in function\n",
    "    n: number of users \n",
    "    top_n: top number of recommendations (10)\n",
    "    recommendation_system: Name of the recommendation system\n",
    "    \n",
    "\"\"\"\n",
    "\n",
    "unique_users = set(ratings.userId)\n",
    "start_time = time.time()\n",
    "cross_fold_eval(unique_users,recommendation_system, df1, keep_movies1, df2 = df2, keep_movies2 = keep_movies2, \n",
    "                recommendation_system_input = recommendation_system_input, n = 20)\n",
    "\n",
    "#end_time = time.time() - start_time\n",
    "#print(f'Time take {end_time} seconds')"
   ]
  },
  {
   "cell_type": "markdown",
   "metadata": {},
   "source": [
    "# Precision and Recall "
   ]
  },
  {
   "cell_type": "markdown",
   "metadata": {},
   "source": [
    "### Keeping the users who have rated minimum of 20 movies OUT OF target movies (keep_movies)\n",
    "If model for tagged movies, find users that have rated min 20 tagged movies since this will be the universe for precision,recall\n",
    "- n_users: Number of users to filter the from the dataset\n"
   ]
  },
  {
   "cell_type": "code",
   "execution_count": 12,
   "metadata": {},
   "outputs": [
    {
     "name": "stdout",
     "output_type": "stream",
     "text": [
      " Number of users who rated at least 20 movies: 115856\n"
     ]
    }
   ],
   "source": [
    "user_list = ratings[ratings.movieId.isin(keep_movies)].groupby('userId')['userId'].count().reset_index(name=\"rating_count\")\n",
    "users_list = set(user_list[user_list['rating_count']>=20]['userId'].values)\n",
    "print(f' Number of users who rated at least 20 movies: {len(users_list)}')"
   ]
  },
  {
   "cell_type": "code",
   "execution_count": 13,
   "metadata": {},
   "outputs": [
    {
     "data": {
      "text/plain": [
       "95207"
      ]
     },
     "execution_count": 13,
     "metadata": {},
     "output_type": "execute_result"
    }
   ],
   "source": [
    "random.seed(42)\n",
    "n_users = 1000\n",
    "random_users = random.sample(users_list, n_users)\n",
    "users_ratings = ratings[ratings.userId.isin(random_users)]\n",
    "len(users_ratings)"
   ]
  },
  {
   "cell_type": "markdown",
   "metadata": {},
   "source": [
    "### train/test split - Keeping the users distribution similar"
   ]
  },
  {
   "cell_type": "code",
   "execution_count": 14,
   "metadata": {},
   "outputs": [],
   "source": [
    "# creating train/test empty dataframe\n",
    "\n",
    "train = pd.DataFrame(columns=['index','userId', 'movieId', 'rating','timestamp'])\n",
    "test = pd.DataFrame(columns=['index','userId', 'movieId', 'rating','timestamp'])"
   ]
  },
  {
   "cell_type": "code",
   "execution_count": 15,
   "metadata": {},
   "outputs": [],
   "source": [
    "# spliting each user data equally in train test\n",
    "for i in random_users:\n",
    "    #getting individual user index\n",
    "    random_index =set(users_ratings[users_ratings['userId'] == i].index.values)\n",
    "    \n",
    "    # dividing the user ratings count/2\n",
    "    n_len = np.math.floor(len(random_index)/2)\n",
    "    \n",
    "\n",
    "    # getting index for train data\n",
    "    train_ind = set(random.sample(random_index, n_len))\n",
    "\n",
    "    # getting index for test data by removing train index from all index for that user\n",
    "    test_ind = set(random_index-train_ind)\n",
    "    \n",
    "\n",
    "    # getting data for that user\n",
    "    df_train = users_ratings.loc[train_ind]\n",
    "    df_test = users_ratings.loc[test_ind]\n",
    "    # appending that user data to train/test df\n",
    "    \n",
    "    train = train.append(df_train)\n",
    "    test = test.append(df_test)"
   ]
  },
  {
   "cell_type": "markdown",
   "metadata": {},
   "source": [
    "#### random sample a user from train set"
   ]
  },
  {
   "cell_type": "code",
   "execution_count": 16,
   "metadata": {},
   "outputs": [
    {
     "data": {
      "text/plain": [
       "122124"
      ]
     },
     "execution_count": 16,
     "metadata": {},
     "output_type": "execute_result"
    }
   ],
   "source": [
    "n = 20\n",
    "top_n = 10\n",
    "random.seed(42)\n",
    "train_user_id = set(train.userId.values)\n",
    "random_userId = random.sample(train_user_id, n)\n",
    "random_userId[0]"
   ]
  },
  {
   "cell_type": "code",
   "execution_count": 17,
   "metadata": {},
   "outputs": [],
   "source": [
    "def calc_precision_k(recommended_relevant_count,recommended_count):\n",
    "    precision_k = recommended_relevant_count/recommended_count\n",
    "    return precision_k\n",
    "\n",
    "def calc_recall_k(recommended_relevant_count,relevant_count):\n",
    "    if relevant_count==0:\n",
    "        return 0\n",
    "    else:\n",
    "        recall_k = recommended_relevant_count/relevant_count\n",
    "        return recall_k\n",
    "    \n",
    "def avg_precision_recall(random_userId, keep_movies, df1, keep_movies1, df2 = False, keep_movies2 = False, \n",
    "                         recommendation_system_input = False, top_n = 10, k = 5):\n",
    "    avg_precision=[]\n",
    "    avg_recall =[]\n",
    "    tot_rec_rel = []\n",
    "    for i in random_userId:\n",
    "        recommendation = recommendation_system(i, df1, train, movieIds, keep_movies1,\n",
    "                                               df2 = df2, keep_movies2 = keep_movies2, \n",
    "                                               recommendation_system = recommendation_system_input)\n",
    "        # getting the recommended movies @k\n",
    "        recommended_movies = set(recommendation[:k].movieId)\n",
    "\n",
    "        # number of recommended movie @k\n",
    "        recommended_count = k\n",
    "        # getting relevant movies, where ratings >= 2\n",
    "        # limit to keep movies as these are the only movies being possibly produced by the recommendation system \n",
    "        relevant_movies =set(test[(test.movieId.isin(keep_movies)) &\n",
    "                                  (test['userId']==i) & (test['rating']>=2) ]['movieId'].values)\n",
    "        # Total number of relevant movie\n",
    "        relevant_count = len(relevant_movies)\n",
    "        # Getting movies that are relevant and recommended\n",
    "        recommended_relevant_movies = recommended_movies.intersection(relevant_movies)\n",
    "        # number of relevant recommended movies\n",
    "        recommended_relevant_count = len(recommended_relevant_movies)\n",
    "        precision_k = calc_precision_k(recommended_relevant_count,recommended_count)\n",
    "        recall_k = calc_recall_k(recommended_relevant_count,relevant_count)\n",
    "        avg_precision.append(precision_k)\n",
    "        avg_recall.append(recall_k)\n",
    "        tot_rec_rel.append(recommended_relevant_count)\n",
    "        \n",
    "    precision_avg = np.mean(avg_precision)\n",
    "    recall_avg = np.mean(avg_recall)\n",
    "    rec_rel_avg = np.mean(tot_rec_rel)\n",
    "\n",
    "    return precision_avg,recall_avg, rec_rel_avg"
   ]
  },
  {
   "cell_type": "markdown",
   "metadata": {},
   "source": [
    "## Getting Precision and Recall for n user\n",
    "\n",
    "\n",
    "### Relevant item: Has in test with rating >= 3\n",
    "### Precision@k = (# of recommended items @k that are relevant) / (# of recommended items @k)\n",
    "\n",
    "### Recall@k = (# of recommended items @k that are relevant) / (total # of relevant items)   \n",
    "\n",
    "For combination model with default top 10 (5 recs from each), k = 5 does not make sense because may only be from one movie. Use k = 10 in this case.  "
   ]
  },
  {
   "cell_type": "code",
   "execution_count": 18,
   "metadata": {
    "scrolled": true
   },
   "outputs": [],
   "source": [
    "k = 5\n",
    "precision_k,recall_k, rec_rel_avg = avg_precision_recall(random_userId, keep_movies, df1, keep_movies1, df2, keep_movies2, \n",
    "                                                         recommendation_system_input, top_n, k)\n",
    "\n",
    "print(f'Avg Precision at {k} for {n} users: {precision_k}', file = f)\n",
    "print(f'Avg Recall at {k} for {n} users: {recall_k}', file = f)\n",
    "print(f'Avg Number of relevant recommendations at {k} for {n} users: {rec_rel_avg}', file = f)"
   ]
  },
  {
   "cell_type": "code",
   "execution_count": 19,
   "metadata": {
    "scrolled": true
   },
   "outputs": [],
   "source": [
    "k = 10\n",
    "precision_k,recall_k, rec_rel_avg = avg_precision_recall(random_userId, keep_movies, df1, keep_movies1, df2, keep_movies2, \n",
    "                                                         recommendation_system_input, top_n, k)\n",
    "print(f'Avg Precision at {k} for {n} users: {precision_k}', file = f)\n",
    "print(f'Avg Recall at {k} for {n} users: {recall_k}', file = f)\n",
    "print(f'Avg Number of relevant recommendations at {k} for {n} users: {rec_rel_avg}', file = f)"
   ]
  },
  {
   "cell_type": "code",
   "execution_count": 20,
   "metadata": {},
   "outputs": [],
   "source": [
    "k = 30\n",
    "precision_k,recall_k, rec_rel_avg = avg_precision_recall(random_userId, keep_movies, df1, keep_movies1, df2, keep_movies2, \n",
    "                                                         recommendation_system_input, top_n, k)\n",
    "print(f'Avg Precision at {k} for {n} users: {precision_k}', file = f)\n",
    "print(f'Avg Recall at {k} for {n} users: {recall_k}', file = f)\n",
    "print(f'Avg Number of relevant recommendations at {k} for {n} users: {rec_rel_avg}', file = f)"
   ]
  },
  {
   "cell_type": "markdown",
   "metadata": {},
   "source": [
    "# Diversity\n",
    "\n",
    "## Personal Diversity: \n",
    "\n",
    "### Calculate for n users and then do an average.\n",
    "\n",
    "diversity based off of baseline features in df1 (genre, actors, directors) so that all movies equally comparable\n"
   ]
  },
  {
   "cell_type": "code",
   "execution_count": 21,
   "metadata": {},
   "outputs": [],
   "source": [
    "def personal_diversity(top_n,n,list_user, df1, df2, keep_movies1, keep_movies2, recommendation_system_input, cols1):\n",
    "    random.seed(42)\n",
    "    rand_user = random.sample(list_user, n)  \n",
    "    length = len(rand_user)\n",
    "    # storing diversity for n users\n",
    "    diversity =[]\n",
    "    for u in range(length):\n",
    "        # getting recommended movies\n",
    "        recommendation = recommendation_system(rand_user[u], df1, ratings, movieIds, keep_movies1,\n",
    "                                               df2 = df2, keep_movies2 = keep_movies2, \n",
    "                                               recommendation_system = recommendation_system_input)\n",
    "        \n",
    "        prediction = user_movie_id(recommendation,top_n).astype(int).values\n",
    "        predicted_index = [movieIds.index(i) for i in prediction] \n",
    "        ### diversity based off of baseline features in df1 (genre, actors, directors) so that all movies equally comparable\n",
    "        user_df = df1[predicted_index, :]\n",
    "        user_movie_features = pd.DataFrame()\n",
    "        \n",
    "        # getting only the columns that have any value 1\n",
    "        for i in range(len(prediction)):\n",
    "            nonzero_cols = [cols1[j] for j in user_df[i,:].nonzero()[1]]\n",
    "            d = {k:1 for k in nonzero_cols}\n",
    "            d = pd.DataFrame(data = d, index = [prediction[i]])    \n",
    "            user_movie_features = pd.concat([user_movie_features, d])\n",
    "\n",
    "        # replace NaN with 0\n",
    "        user_movie_features = user_movie_features.fillna(0)\n",
    "        \n",
    "        # generating cosine similarity between the users\n",
    "        #then getting the indicies of elements above diagonal (giving diagonal offsert =1 in triu_indices)\n",
    "        #calculating the avg of the element above diagonal \n",
    "        sim = metrics.pairwise.cosine_similarity(np.asmatrix(user_movie_features))\n",
    "\n",
    "        iu1 = np.triu_indices(user_movie_features.shape[0],k=1)\n",
    "        avg = 1 - np.mean(sim[iu1])\n",
    "        \n",
    "        print(f'Diversity of movies recommended for user {rand_user[u]}: {avg}')\n",
    "        diversity.append(avg)\n",
    "        \n",
    "    # calculating avg diversity over n users\n",
    "    avg_diversity = np.mean(diversity)\n",
    "    print(avg_diversity)\n",
    "    print(f'Average diversity over {n} users for their top {top_n} recommendations (0 = identical): {avg_diversity}', file = f)"
   ]
  },
  {
   "cell_type": "code",
   "execution_count": 22,
   "metadata": {
    "scrolled": true
   },
   "outputs": [
    {
     "name": "stdout",
     "output_type": "stream",
     "text": [
      "Diversity of movies recommended for user 29185: 0.20444444444444465\n",
      "Diversity of movies recommended for user 6557: 0.2755555555555559\n",
      "Diversity of movies recommended for user 72099: 0.7147540449444492\n",
      "Diversity of movies recommended for user 64198: 0.2000000000000003\n",
      "Diversity of movies recommended for user 58515: 0.10222222222222255\n",
      "Diversity of movies recommended for user 36580: 0.18222222222222262\n",
      "Diversity of movies recommended for user 26869: 0.42666666666666675\n",
      "Diversity of movies recommended for user 142970: 0.3999999999999999\n",
      "Diversity of movies recommended for user 22791: 0.6222222222222222\n",
      "Diversity of movies recommended for user 154800: 0.48444444444444446\n",
      "Diversity of movies recommended for user 110607: 0.27111111111111097\n",
      "Diversity of movies recommended for user 8332: 0.2533333333333334\n",
      "Diversity of movies recommended for user 7812: 0.4878104631722313\n",
      "Diversity of movies recommended for user 24562: 0.14666666666666706\n",
      "Diversity of movies recommended for user 57316: 0.44963538077780585\n",
      "Diversity of movies recommended for user 60992: 0.21333333333333349\n",
      "Diversity of movies recommended for user 132479: 0.12888888888888916\n",
      "Diversity of movies recommended for user 157821: 0.21777777777777785\n",
      "Diversity of movies recommended for user 6957: 0.28888888888888886\n",
      "Diversity of movies recommended for user 147133: 0.2977777777777777\n",
      "0.3183877722225022\n"
     ]
    }
   ],
   "source": [
    "\"\"\"\n",
    "top_n: top n recommendations\n",
    "n: number of users\n",
    "\n",
    "Ignore warning for now - comming from recommendatiom function\n",
    "Fixed the one from this function\n",
    "\"\"\"\n",
    "\n",
    "top_n = 10\n",
    "n = 20\n",
    "list_user = set(ratings.userId)\n",
    "\n",
    "personal_diversity(top_n,n,list_user, df1, df2, keep_movies1, keep_movies2, recommendation_system_input, cols1)\n",
    "\n",
    "# function call for personal diversity"
   ]
  },
  {
   "cell_type": "markdown",
   "metadata": {},
   "source": [
    "## Average Rating \n",
    "\n",
    "\n",
    "### Get average rating for n users\n",
    "\n",
    "1) Getting the top_n ratings of movies recommended to n users.\n",
    "\n",
    "2) Averaging over the all the ratings"
   ]
  },
  {
   "cell_type": "code",
   "execution_count": 23,
   "metadata": {},
   "outputs": [],
   "source": [
    "\"\"\"\n",
    "n: number of users\n",
    "top_n: top n movie recommendations\n",
    "\n",
    "\"\"\"\n",
    "# random users out of users that have rated at least one of keep_movies\n",
    "list_user = set(ratings[ratings.movieId.isin(keep_movies)].userId)\n",
    "n = 20\n",
    "top_n = 10"
   ]
  },
  {
   "cell_type": "code",
   "execution_count": 24,
   "metadata": {},
   "outputs": [],
   "source": [
    "random.seed(42)\n",
    "rand_user = random.sample(list_user, n)  \n",
    "length = len(rand_user)\n",
    "avg_rating = []\n",
    "for u in range(length):\n",
    "    # getting recommended movies\n",
    "    recommendation = recommendation_system(rand_user[u], df1, ratings, movieIds, keep_movies1,\n",
    "                                           df2 = df2, keep_movies2 = keep_movies2, \n",
    "                                           recommendation_system = recommendation_system_input)\n",
    "    recommendation_rating = pd.merge(recommendation, movies_raitings, on = 'movieId')\n",
    "    prediction = user_avg_rating(recommendation_rating,top_n).values\n",
    "    avg_rating.append(prediction)"
   ]
  },
  {
   "cell_type": "code",
   "execution_count": 25,
   "metadata": {},
   "outputs": [],
   "source": [
    "# flatten list \n",
    "# can recommend movies without ratings so lists may be diff lengths: won't work in np.mean natively\n",
    "avg_rating = [item for sublist in avg_rating for item in sublist] \n",
    "\n",
    "print(f'Average movie rating of top {top_n} movies recommended to {n} users: {np.round(np.mean(avg_rating),2)}', file = f)"
   ]
  },
  {
   "cell_type": "code",
   "execution_count": 26,
   "metadata": {},
   "outputs": [],
   "source": [
    "ranges = ['0-1', '1-2', '2-3', '3-4', '4-5']\n",
    "ad = pd.DataFrame(avg_rating).melt()\n",
    "ad['ratingrange'] = pd.cut(ad['value'], bins=[0,1,2,3,4,5], labels=ranges, right=True)"
   ]
  },
  {
   "cell_type": "code",
   "execution_count": 27,
   "metadata": {},
   "outputs": [
    {
     "data": {
      "text/plain": [
       "Text(0.5, 1.0, 'Ratings - Recommended Movies')"
      ]
     },
     "execution_count": 27,
     "metadata": {},
     "output_type": "execute_result"
    },
    {
     "data": {
      "image/png": "[encoded data removed]",
      "text/plain": [
       "<Figure size 432x288 with 1 Axes>"
      ]
     },
     "metadata": {
      "needs_background": "light"
     },
     "output_type": "display_data"
    }
   ],
   "source": [
    "font = {'weight' : 'bold',\n",
    "        'size'   : 15}\n",
    "plt.rc('font', **font)\n",
    "\n",
    "ax = ad.groupby(['ratingrange'])['ratingrange'].count().plot.bar()\n",
    "ax.set_ylabel('Number of Ratings')\n",
    "ax.set_xlabel('Recommended Movie Rating')\n",
    "ax.set_title('Ratings - Recommended Movies')"
   ]
  },
  {
   "cell_type": "markdown",
   "metadata": {},
   "source": [
    "# Checking for the long tail\n",
    "\n",
    "- to check are we recommending unpopular movies?"
   ]
  },
  {
   "cell_type": "code",
   "execution_count": 28,
   "metadata": {
    "scrolled": true
   },
   "outputs": [],
   "source": [
    "n = 20\n",
    "top_n = 10\n",
    "random.seed(42)\n",
    "rand_user = random.sample(list_user, n)  \n",
    "length = len(rand_user)\n",
    "top_n\n",
    "min_cnt = []\n",
    "\n",
    "for u in range(length):\n",
    "    # getting recommended movies\n",
    "    recommendation = recommendation_system(rand_user[u], df1, ratings, movieIds, keep_movies1,\n",
    "                                           df2 = df2, keep_movies2 = keep_movies2, \n",
    "                                           recommendation_system = recommendation_system_input)\n",
    "    recommendation_rating = pd.merge(recommendation, movies_raitings, on = 'movieId')\n",
    "    \n",
    "    # getting the min rating cnt of the movies recommended\n",
    "    min_rating_cnt = recommendation_rating[:top_n]['cnt'].min()\n",
    "    min_cnt.append(min_rating_cnt)\n",
    "\n",
    "avg_min_cnt = np.mean(min_cnt)"
   ]
  },
  {
   "cell_type": "code",
   "execution_count": 29,
   "metadata": {},
   "outputs": [],
   "source": [
    "print(f\"Average of the minimum count of ratings for {n} user's top {top_n} recommendations (long tail): {np.round(avg_min_cnt,2)}\", file = f)"
   ]
  },
  {
   "cell_type": "markdown",
   "metadata": {},
   "source": [
    "## Close File"
   ]
  },
  {
   "cell_type": "code",
   "execution_count": 30,
   "metadata": {},
   "outputs": [],
   "source": [
    "f.close()"
   ]
  }
 ],
 "metadata": {
  "kernelspec": {
   "display_name": "Python 3",
   "language": "python",
   "name": "python3"
  },
  "language_info": {
   "codemirror_mode": {
    "name": "ipython",
    "version": 3
   },
   "file_extension": ".py",
   "mimetype": "text/x-python",
   "name": "python",
   "nbconvert_exporter": "python",
   "pygments_lexer": "ipython3",
   "version": "3.8.3"
  }
 },
 "nbformat": 4,
 "nbformat_minor": 4
}
