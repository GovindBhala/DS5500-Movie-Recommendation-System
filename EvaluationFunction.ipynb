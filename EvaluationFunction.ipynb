{
 "cells": [
  {
   "cell_type": "markdown",
   "metadata": {},
   "source": [
    "# Functions to Evaluate Recommendation Models\n",
    "- Personalization\n",
    "\n",
    "- Average Raitings with User Recommendation\n",
    "\n",
    "- Precision at k, Recal at k\n",
    "\n",
    "- Personal diversity\n",
    "\n",
    "- General Diversity - Are we recommending unpopular movies\n",
    "\n",
    "- average of average ratings"
   ]
  },
  {
   "cell_type": "markdown",
   "metadata": {},
   "source": [
    "### Import Recommendation System\n",
    "\n",
    "1)  Convert recommendation system notebook to .py\n",
    "\n",
    "2) Import function here using:\n",
    "\n",
    "from <name.py> import <name of the recomendation function>\n",
    "    \n",
    "example: from contentbasedrecommendationsystem import user_content_recommendations\n",
    "    \n",
    "3) recommendation_system: give the name of the recommendation system, you want to get the evaluations for"
   ]
  },
  {
   "cell_type": "code",
   "execution_count": 1,
   "metadata": {},
   "outputs": [],
   "source": [
    "import pandas as pd\n",
    "import os\n",
    "import numpy as np\n",
    "import matplotlib.pyplot as plt\n",
    "import seaborn as sns\n",
    "import datetime as datetime\n",
    "import operator\n",
    "import scipy.spatial.distance as distance\n",
    "from sklearn import metrics \n",
    "import random\n",
    "import time\n",
    "from sklearn.model_selection import train_test_split\n",
    "from sklearn.linear_model import LinearRegression\n",
    "import fastparquet\n",
    "import pickle\n",
    "import scipy\n",
    "import sklearn\n",
    "from content_based_recommendations import user_content_recommendations"
   ]
  },
  {
   "cell_type": "markdown",
   "metadata": {},
   "source": [
    "## Load Data"
   ]
  },
  {
   "cell_type": "code",
   "execution_count": 2,
   "metadata": {
    "scrolled": true
   },
   "outputs": [],
   "source": [
    "df = scipy.sparse.load_npz(\"processed_df_genre_sparse.npz\")\n",
    "#df = scipy.sparse.load_npz(\"processed_df_sparse.npz\")\n",
    "ratings = pd.read_pickle('ratings_sample.pkl')\n",
    "ratings = ratings.reset_index()\n",
    "movies_raitings = pd.read_parquet('movies_ratings.parq')\n",
    "movies_raitings = movies_raitings.rename(columns={\"avg\": \"Average_Ratings\"})"
   ]
  },
  {
   "cell_type": "code",
   "execution_count": 3,
   "metadata": {},
   "outputs": [],
   "source": [
    "with open('sparse_metadata_genre', \"rb\") as f:\n",
    "    cols = pickle.load(f)\n",
    "    movieIds = pickle.load(f)\n",
    "#with open('sparse_metadata', \"rb\") as f:\n",
    "#    cols = pickle.load(f)\n",
    "#    movieIds = pickle.load(f)"
   ]
  },
  {
   "cell_type": "markdown",
   "metadata": {},
   "source": [
    "## Helper Fns"
   ]
  },
  {
   "cell_type": "code",
   "execution_count": 4,
   "metadata": {},
   "outputs": [],
   "source": [
    "def user_top(movies,n):\n",
    "    return movies[['title_eng','Average_Ratings']][:n]\n",
    "\n",
    "def user_movie_id(movies,n):\n",
    "    return movies['movieId'][:n]\n",
    "\n",
    "def user_avg_rating(movies,n):\n",
    "    return movies['Average_Ratings'][:n]"
   ]
  },
  {
   "cell_type": "markdown",
   "metadata": {},
   "source": [
    "## Specify recommendation system"
   ]
  },
  {
   "cell_type": "code",
   "execution_count": 5,
   "metadata": {},
   "outputs": [],
   "source": [
    "recommendation_system = user_content_recommendations"
   ]
  },
  {
   "cell_type": "markdown",
   "metadata": {},
   "source": [
    "## Open file to record evaluations"
   ]
  },
  {
   "cell_type": "code",
   "execution_count": 6,
   "metadata": {},
   "outputs": [],
   "source": [
    "f = open(\"content_desc_genre.txt\", \"w\")"
   ]
  },
  {
   "cell_type": "markdown",
   "metadata": {},
   "source": [
    "## Evaluation: Personalization\n",
    "\n"
   ]
  },
  {
   "cell_type": "code",
   "execution_count": 7,
   "metadata": {},
   "outputs": [],
   "source": [
    "\"\"\"\n",
    "get_users_prediction: returns user prediction\n",
    "\n",
    "user_matrix: generated user by movies, 0: movie not recommended, 1: movie got recommended\n",
    "\n",
    "\"\"\"\n",
    "def get_users_prediction(users_list,top_n,users_prediction,recommendation_system, df, ratings, movieIds):\n",
    "    for i in users_list:\n",
    "        recommendation = recommendation_system(i, df, ratings, movieIds)\n",
    "        prediction = user_movie_id(recommendation,top_n).astype(int).values\n",
    "        users_prediction = users_prediction.append(pd.Series(prediction),ignore_index=True)\n",
    "        \n",
    "    return users_prediction\n",
    "\n",
    "def user_matrix(users_pred):\n",
    "    data_melt= pd.DataFrame(data=users_pred).reset_index().melt(id_vars='index', value_name='movieId',)\n",
    "    data_melt = data_melt[['index', 'movieId']].pivot(index='index', columns='movieId', values='movieId')\n",
    "    cols = data_melt.columns\n",
    "    for i in cols:\n",
    "        data_melt[i] = np.where(data_melt[i].isna(), 0, 1)\n",
    "    return data_melt\n",
    "\n",
    "\n",
    "def personalization(users_matrix,n):\n",
    "    # generating cosine similarity between the users\n",
    "    #then getting the indicies of elements above diagonal (giving diagonal offsert =1 in triu_indices)\n",
    "    #calculating the avg of the element above diagonal \n",
    "    #Personalization means 1 - similarity\n",
    "    #higher the personalization score, better the recommendation system in recommending personalized movies\n",
    "   \n",
    "    users_sim = metrics.pairwise.cosine_similarity(users_matrix)\n",
    "    iu1 = np.triu_indices(n,k=1)\n",
    "    similarity_avg = np.mean(users_sim[iu1])\n",
    "    personalization_score = 1 - similarity_avg\n",
    "\n",
    "    return personalization_score\n",
    "\n",
    "def cross_fold_eval(unique_users,recommendation_system,k_fold=10,n=10,top_n=10):\n",
    "    #users_list: List of random n users\n",
    "    \n",
    "    kfold_personalization=0\n",
    "    for i in range(k_fold):\n",
    "        users_list = random.sample(unique_users, n)\n",
    "        \n",
    "        #columns: top_n recommendations\n",
    "        #users_prediction:  top_n recommendations for n users\n",
    "        column_names = list(range(top_n))\n",
    "        users_prediction = pd.DataFrame(columns = column_names)\n",
    "        \n",
    "        # getting predictions for sampled users\n",
    "        users_pred = get_users_prediction(users_list,top_n,users_prediction,recommendation_system, df, ratings, movieIds)\n",
    "        \n",
    "        # getting user by movies matrix with binary indicators 0: movie not recommended, 1: movie got recommended\n",
    "        users_matrix = user_matrix(users_pred)\n",
    "        kfold_personalization+=personalization(users_matrix,n)\n",
    "    kfold_eval = kfold_personalization/k_fold\n",
    "    print(f'Personalization score for {k_fold} folds across {n} users for top {top_n} recommendations: {kfold_eval}', file = f)"
   ]
  },
  {
   "cell_type": "code",
   "execution_count": 8,
   "metadata": {},
   "outputs": [],
   "source": [
    "\"\"\"\n",
    "    unique_users: getting unique user set \n",
    "    \n",
    "    default values given in function\n",
    "    n: number of users \n",
    "    top_n: top number of recommendations (10)\n",
    "    recommendation_system: Name of the recommendation system\n",
    "    \n",
    "\"\"\"\n",
    "\n",
    "unique_users = set(ratings.userId)\n",
    "start_time = time.time()\n",
    "cross_fold_eval(unique_users,recommendation_system, n = 20)\n",
    "\n",
    "#end_time = time.time() - start_time\n",
    "#print(f'Time take {end_time} seconds')"
   ]
  },
  {
   "cell_type": "markdown",
   "metadata": {},
   "source": [
    "# Precision and Recall "
   ]
  },
  {
   "cell_type": "markdown",
   "metadata": {},
   "source": [
    "### Keeping the users who have rated minimum of 20 movies\n",
    "\n",
    "- n_users: Number of users to filter the from the dataset"
   ]
  },
  {
   "cell_type": "code",
   "execution_count": 9,
   "metadata": {},
   "outputs": [
    {
     "name": "stdout",
     "output_type": "stream",
     "text": [
      " Number of users who rated at least 20 movies: 115856\n"
     ]
    }
   ],
   "source": [
    "user_list = ratings.groupby('userId')['userId'].count().reset_index(name=\"rating_count\")\n",
    "users_list = set(user_list[user_list['rating_count']>=20]['userId'].values)\n",
    "print(f' Number of users who rated at least 20 movies: {len(users_list)}')"
   ]
  },
  {
   "cell_type": "code",
   "execution_count": 10,
   "metadata": {},
   "outputs": [
    {
     "data": {
      "text/plain": [
       "95207"
      ]
     },
     "execution_count": 10,
     "metadata": {},
     "output_type": "execute_result"
    }
   ],
   "source": [
    "random.seed(42)\n",
    "n_users = 1000\n",
    "random_users = random.sample(users_list, n_users)\n",
    "users_ratings = ratings[ratings.userId.isin(random_users)]\n",
    "len(users_ratings)"
   ]
  },
  {
   "cell_type": "markdown",
   "metadata": {},
   "source": [
    "### train/test split - Keeping the users distribution similar"
   ]
  },
  {
   "cell_type": "code",
   "execution_count": 11,
   "metadata": {},
   "outputs": [],
   "source": [
    "# creating train/test empty dataframe\n",
    "\n",
    "train = pd.DataFrame(columns=['index','userId', 'movieId', 'rating','timestamp'])\n",
    "test = pd.DataFrame(columns=['index','userId', 'movieId', 'rating','timestamp'])"
   ]
  },
  {
   "cell_type": "code",
   "execution_count": 12,
   "metadata": {},
   "outputs": [],
   "source": [
    "# spliting each user data equally in train test\n",
    "for i in random_users:\n",
    "    #getting individual user index\n",
    "    random_index =set(users_ratings[users_ratings['userId'] == i].index.values)\n",
    "    \n",
    "    # dividing the user ratings count/2\n",
    "    n_len = np.math.floor(len(random_index)/2)\n",
    "    \n",
    "\n",
    "    # getting index for train data\n",
    "    train_ind = set(random.sample(random_index, n_len))\n",
    "\n",
    "    # getting index for test data by removing train index from all index for that user\n",
    "    test_ind = set(random_index-train_ind)\n",
    "    \n",
    "\n",
    "    # getting data for that user\n",
    "    df_train = users_ratings.loc[train_ind]\n",
    "    df_test = users_ratings.loc[test_ind]\n",
    "    # appending that user data to train/test df\n",
    "    \n",
    "    train = train.append(df_train)\n",
    "    test = test.append(df_test)"
   ]
  },
  {
   "cell_type": "markdown",
   "metadata": {},
   "source": [
    "#### Train Records"
   ]
  },
  {
   "cell_type": "code",
   "execution_count": 13,
   "metadata": {},
   "outputs": [
    {
     "data": {
      "text/plain": [
       "(47341, 5)"
      ]
     },
     "execution_count": 13,
     "metadata": {},
     "output_type": "execute_result"
    }
   ],
   "source": [
    "train.shape"
   ]
  },
  {
   "cell_type": "markdown",
   "metadata": {},
   "source": [
    "#### Test Records"
   ]
  },
  {
   "cell_type": "code",
   "execution_count": 14,
   "metadata": {},
   "outputs": [
    {
     "data": {
      "text/plain": [
       "(47866, 5)"
      ]
     },
     "execution_count": 14,
     "metadata": {},
     "output_type": "execute_result"
    }
   ],
   "source": [
    "test.shape"
   ]
  },
  {
   "cell_type": "markdown",
   "metadata": {},
   "source": [
    "#### random sample a user from train set"
   ]
  },
  {
   "cell_type": "code",
   "execution_count": 15,
   "metadata": {},
   "outputs": [
    {
     "data": {
      "text/plain": [
       "122124"
      ]
     },
     "execution_count": 15,
     "metadata": {},
     "output_type": "execute_result"
    }
   ],
   "source": [
    "n = 20\n",
    "top_n = 10\n",
    "random.seed(42)\n",
    "train_user_id = set(train.userId.values)\n",
    "random_userId = random.sample(train_user_id, n)\n",
    "random_userId[0]"
   ]
  },
  {
   "cell_type": "code",
   "execution_count": 16,
   "metadata": {},
   "outputs": [],
   "source": [
    "def calc_precision_k(recommended_relevant_count,recommended_count):\n",
    "    precision_k = recommended_relevant_count/recommended_count\n",
    "    return precision_k\n",
    "\n",
    "def calc_recall_k(recommended_relevant_count,relevant_count):\n",
    "    if relevant_count==0:\n",
    "        return 0\n",
    "    else:\n",
    "        recall_k = recommended_relevant_count/relevant_count\n",
    "        return recall_k\n",
    "    \n",
    "def avg_precision_recall(random_userId,top_n,k):\n",
    "    avg_precision=[]\n",
    "    avg_recall =[]\n",
    "    tot_rec_rel = []\n",
    "    for i in random_userId:\n",
    "        recommendation = recommendation_system(i, df, train, movieIds)\n",
    "        # getting the recommended movies @k\n",
    "        recommended_movies = set(recommendation[:k].movieId)\n",
    "\n",
    "        # number of recommended movie @k\n",
    "        recommended_count = k\n",
    "        # getting relevant movies, where ratings >=\n",
    "\n",
    "        relevant_movies =set(test[(test['userId']==i) & (test['rating']>=2) ]['movieId'].values)\n",
    "        # Total number of relevant movie\n",
    "        relevant_count = len(relevant_movies)\n",
    "        # Getting movies that are relevant and recommended\n",
    "        recommended_relevant_movies = recommended_movies.intersection(relevant_movies)\n",
    "        # number of relevant recommended movies\n",
    "        recommended_relevant_count = len(recommended_relevant_movies)\n",
    "        precision_k = calc_precision_k(recommended_relevant_count,recommended_count)\n",
    "        recall_k = calc_recall_k(recommended_relevant_count,relevant_count)\n",
    "        avg_precision.append(precision_k)\n",
    "        avg_recall.append(recall_k)\n",
    "        tot_rec_rel.append(recommended_relevant_count)\n",
    "    precision_avg = np.mean(avg_precision)\n",
    "    recall_avg = np.mean(avg_recall)\n",
    "    rec_rel_avg = np.mean(tot_rec_rel)\n",
    "\n",
    "    return precision_avg,recall_avg, rec_rel_avg"
   ]
  },
  {
   "cell_type": "markdown",
   "metadata": {},
   "source": [
    "## Getting Precision and Recall for n user\n",
    "\n",
    "\n",
    "### Relevant item: Has in test with rating >= 3\n",
    "### Precision@k = (# of recommended items @k that are relevant) / (# of recommended items @k)\n",
    "\n",
    "### Recall@k = (# of recommended items @k that are relevant) / (total # of relevant items)"
   ]
  },
  {
   "cell_type": "code",
   "execution_count": 17,
   "metadata": {},
   "outputs": [],
   "source": [
    "k = 5\n",
    "precision_k,recall_k, rec_rel_avg = avg_precision_recall(random_userId,top_n,k)\n",
    "print(f'Avg Precision at {k} for {n} users: {precision_k}', file = f)\n",
    "print(f'Avg Recall at {k} for {n} users: {recall_k}', file = f)\n",
    "print(f'Avg Number of relevant recommendations at {k} for {n} users: {rec_rel_avg}', file = f)"
   ]
  },
  {
   "cell_type": "code",
   "execution_count": 18,
   "metadata": {},
   "outputs": [],
   "source": [
    "k = 10\n",
    "precision_k,recall_k, rec_rel_avg = avg_precision_recall(random_userId,top_n,k)\n",
    "print(f'Avg Precision at {k} for {n} users: {precision_k}', file = f)\n",
    "print(f'Avg Recall at {k} for {n} users: {recall_k}', file = f)\n",
    "print(f'Avg Number of relevant recommendations at {k} for {n} users: {rec_rel_avg}', file = f)"
   ]
  },
  {
   "cell_type": "code",
   "execution_count": 19,
   "metadata": {},
   "outputs": [],
   "source": [
    "k = 30\n",
    "precision_k,recall_k, rec_rel_avg = avg_precision_recall(random_userId,top_n,k)\n",
    "print(f'Avg Precision at {k} for {n} users: {precision_k}', file = f)\n",
    "print(f'Avg Recall at {k} for {n} users: {recall_k}', file = f)\n",
    "print(f'Avg Number of relevant recommendations at {k} for {n} users: {rec_rel_avg}', file = f)"
   ]
  },
  {
   "cell_type": "markdown",
   "metadata": {},
   "source": [
    "# Diversity\n",
    "\n",
    "## Personal Diversity: \n",
    "\n",
    "### Calculate for n users and then do an average.\n"
   ]
  },
  {
   "cell_type": "code",
   "execution_count": 20,
   "metadata": {},
   "outputs": [],
   "source": [
    "def personal_diversity(top_n,n,list_user):\n",
    "    random.seed(42)\n",
    "    rand_user = random.sample(list_user, n)  \n",
    "    length = len(rand_user)\n",
    "    # storing diversity for n users\n",
    "    diversity =[]\n",
    "    for u in range(length):\n",
    "        # getting recommended movies\n",
    "        recommendation = recommendation_system(rand_user[u], df, ratings, movieIds)\n",
    "        prediction = user_movie_id(recommendation,top_n).astype(int).values\n",
    "        predicted_index = [movieIds.index(i) for i in prediction]        \n",
    "        user_df = df[predicted_index, :]\n",
    "        user_movie_features = pd.DataFrame()\n",
    "        \n",
    "        # getting only the columns that have any value 1\n",
    "        for i in range(len(prediction)):\n",
    "            nonzero_cols = [cols[j] for j in user_df[i,:].nonzero()[1]]\n",
    "            d = {k:1 for k in nonzero_cols}\n",
    "            d = pd.DataFrame(data = d, index = [prediction[i]])    \n",
    "            user_movie_features = pd.concat([user_movie_features, d])\n",
    "\n",
    "        # replace NaN with 0\n",
    "        user_movie_features = user_movie_features.fillna(0)\n",
    "        \n",
    "        # generating cosine similarity between the users\n",
    "        #then getting the indicies of elements above diagonal (giving diagonal offsert =1 in triu_indices)\n",
    "        #calculating the avg of the element above diagonal \n",
    "        sim = metrics.pairwise.cosine_similarity(np.asmatrix(user_movie_features))\n",
    "\n",
    "        iu1 = np.triu_indices(user_movie_features.shape[0],k=1)\n",
    "        avg = 1 - np.mean(sim[iu1])\n",
    "        \n",
    "        print(f'Diversity of movies recommended for user {rand_user[u]}: {avg}')\n",
    "        diversity.append(avg)\n",
    "        \n",
    "    # calculating avg diversity over n users\n",
    "    avg_diversity = np.mean(diversity)\n",
    "    print(avg_diversity)\n",
    "    print(f'Average diversity over {n} users for their top {top_n} recommendations (0 = identical): {avg_diversity}', file = f)"
   ]
  },
  {
   "cell_type": "code",
   "execution_count": 21,
   "metadata": {
    "scrolled": true
   },
   "outputs": [
    {
     "name": "stdout",
     "output_type": "stream",
     "text": [
      "Diversity of movies recommended for user 29185: -2.220446049250313e-16\n",
      "Diversity of movies recommended for user 6557: 0.16824735456114326\n",
      "Diversity of movies recommended for user 72099: 0.18191758891144982\n",
      "Diversity of movies recommended for user 64198: 0.1638321448222465\n",
      "Diversity of movies recommended for user 58515: 0.0\n",
      "Diversity of movies recommended for user 36580: -2.220446049250313e-16\n",
      "Diversity of movies recommended for user 26869: 0.1333333333333333\n",
      "Diversity of movies recommended for user 142970: 0.1440313954416177\n",
      "Diversity of movies recommended for user 22791: 1.1102230246251565e-16\n",
      "Diversity of movies recommended for user 154800: 0.021114561800016918\n",
      "Diversity of movies recommended for user 110607: -2.220446049250313e-16\n",
      "Diversity of movies recommended for user 8332: 0.1777777777777776\n",
      "Diversity of movies recommended for user 7812: 0.14101373347750157\n",
      "Diversity of movies recommended for user 24562: 0.021114561800016918\n",
      "Diversity of movies recommended for user 57316: 0.110969149054297\n",
      "Diversity of movies recommended for user 60992: -2.220446049250313e-16\n",
      "Diversity of movies recommended for user 132479: 0.05332753100896881\n",
      "Diversity of movies recommended for user 157821: 0.021114561800016918\n",
      "Diversity of movies recommended for user 6957: 0.18949842516827198\n",
      "Diversity of movies recommended for user 147133: 1.1102230246251565e-16\n",
      "0.07636460594783287\n"
     ]
    }
   ],
   "source": [
    "\"\"\"\n",
    "top_n: top n recommendations\n",
    "n: number of users\n",
    "\n",
    "Ignore warning for now - comming from recommendatiom function\n",
    "Fixed the one from this function\n",
    "\"\"\"\n",
    "\n",
    "top_n = 10\n",
    "n = 20\n",
    "list_user = set(ratings.userId)\n",
    "\n",
    "personal_diversity(top_n,n,list_user)\n",
    "# function call for personal diversity"
   ]
  },
  {
   "cell_type": "markdown",
   "metadata": {},
   "source": [
    "## Average Rating \n",
    "\n",
    "\n",
    "### Get average rating for n users\n",
    "\n",
    "1) Getting the top_n ratings of movies recommended to n users.\n",
    "\n",
    "2) Averaging over the all the ratings"
   ]
  },
  {
   "cell_type": "code",
   "execution_count": 22,
   "metadata": {},
   "outputs": [],
   "source": [
    "\"\"\"\n",
    "n: number of users\n",
    "top_n: top n movie recommendations\n",
    "\n",
    "\"\"\"\n",
    "\n",
    "list_user = set(ratings.userId)\n",
    "n = 20\n",
    "top_n = 10"
   ]
  },
  {
   "cell_type": "code",
   "execution_count": 23,
   "metadata": {},
   "outputs": [],
   "source": [
    "random.seed(42)\n",
    "rand_user = random.sample(list_user, n)  \n",
    "length = len(rand_user)\n",
    "avg_rating = []\n",
    "for u in range(length):\n",
    "    # getting recommended movies\n",
    "    recommendation = recommendation_system(rand_user[u], df, ratings, movieIds)\n",
    "    recommendation_rating = pd.merge(recommendation, movies_raitings, on = 'movieId')\n",
    "    prediction = user_avg_rating(recommendation_rating,top_n).values\n",
    "    avg_rating.append(prediction)"
   ]
  },
  {
   "cell_type": "code",
   "execution_count": 24,
   "metadata": {},
   "outputs": [],
   "source": [
    "print(f'Average movie rating of top {top_n} movies recommended to {n} users: {np.round(np.mean(avg_rating),2)}', file = f)"
   ]
  },
  {
   "cell_type": "code",
   "execution_count": 25,
   "metadata": {},
   "outputs": [],
   "source": [
    "ranges = ['0-1', '1-2', '2-3', '3-4', '4-5']\n",
    "ad = pd.DataFrame(avg_rating).melt()\n",
    "ad['ratingrange'] = pd.cut(ad['value'], bins=[0,1,2,3,4,5], labels=ranges, right=True)"
   ]
  },
  {
   "cell_type": "code",
   "execution_count": 26,
   "metadata": {},
   "outputs": [
    {
     "data": {
      "text/plain": [
       "Text(0.5, 1.0, 'Ratings - Recommended Movies')"
      ]
     },
     "execution_count": 26,
     "metadata": {},
     "output_type": "execute_result"
    },
    {
     "data": {
      "image/png": "[encoded data removed]",
      "text/plain": [
       "<Figure size 432x288 with 1 Axes>"
      ]
     },
     "metadata": {
      "needs_background": "light"
     },
     "output_type": "display_data"
    }
   ],
   "source": [
    "font = {'weight' : 'bold',\n",
    "        'size'   : 15}\n",
    "plt.rc('font', **font)\n",
    "\n",
    "ax = ad.groupby(['ratingrange'])['ratingrange'].count().plot.bar()\n",
    "ax.set_ylabel('Number of Ratings')\n",
    "ax.set_xlabel('Recommended Movie Rating')\n",
    "ax.set_title('Ratings - Recommended Movies')"
   ]
  },
  {
   "cell_type": "markdown",
   "metadata": {},
   "source": [
    "# Checking for the long tail\n",
    "\n",
    "- to check are we recommending unpopular movies?"
   ]
  },
  {
   "cell_type": "code",
   "execution_count": 27,
   "metadata": {
    "scrolled": true
   },
   "outputs": [],
   "source": [
    "n = 20\n",
    "top_n = 10\n",
    "random.seed(42)\n",
    "rand_user = random.sample(list_user, n)  \n",
    "length = len(rand_user)\n",
    "top_n\n",
    "min_cnt = []\n",
    "\n",
    "for u in range(length):\n",
    "    # getting recommended movies\n",
    "    recommendation = recommendation_system(rand_user[u], df, ratings, movieIds)\n",
    "    recommendation_rating = pd.merge(recommendation, movies_raitings, on = 'movieId')\n",
    "\n",
    "    # getting the min rating cnt of the movies recommended\n",
    "    min_rating_cnt = recommendation_rating[:top_n]['cnt'].min()\n",
    "    min_cnt.append(min_rating_cnt)\n",
    "\n",
    "avg_min_cnt = np.mean(min_cnt)"
   ]
  },
  {
   "cell_type": "code",
   "execution_count": 28,
   "metadata": {},
   "outputs": [],
   "source": [
    "print(f\"Average of the minimum count of ratings for {n} user's top {top_n} recommendations (long tail): {np.round(avg_min_cnt,2)}\", file = f)"
   ]
  },
  {
   "cell_type": "markdown",
   "metadata": {},
   "source": [
    "## Close File"
   ]
  },
  {
   "cell_type": "code",
   "execution_count": 29,
   "metadata": {},
   "outputs": [],
   "source": [
    "f.close()"
   ]
  }
 ],
 "metadata": {
  "kernelspec": {
   "display_name": "Python 3",
   "language": "python",
   "name": "python3"
  },
  "language_info": {
   "codemirror_mode": {
    "name": "ipython",
    "version": 3
   },
   "file_extension": ".py",
   "mimetype": "text/x-python",
   "name": "python",
   "nbconvert_exporter": "python",
   "pygments_lexer": "ipython3",
   "version": "3.8.3"
  }
 },
 "nbformat": 4,
 "nbformat_minor": 4
}
