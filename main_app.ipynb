{
 "cells": [
  {
   "cell_type": "markdown",
   "metadata": {},
   "source": [
    "# Main Streamlit HomePage\n",
    "5 pages:\n",
    "- Top rated movies with filtering \n",
    "- Item-Item recommendations\n",
    "- Personalized recommendations\n",
    "- User profile creation: provide ratings\n",
    "- Visualizations   "
   ]
  },
  {
   "cell_type": "code",
   "execution_count": 1,
   "metadata": {},
   "outputs": [],
   "source": [
    "import streamlit as st \n",
    "import pandas as pd\n",
    "import os\n",
    "import numpy as np\n",
    "import operator\n",
    "import fastparquet\n",
    "import re\n",
    "from fuzzywuzzy import fuzz\n",
    "from sklearn.feature_extraction.text import TfidfVectorizer\n",
    "from sklearn.metrics.pairwise import linear_kernel"
   ]
  },
  {
   "cell_type": "markdown",
   "metadata": {},
   "source": [
    "### Import Individual Pages"
   ]
  },
  {
   "cell_type": "code",
   "execution_count": null,
   "metadata": {},
   "outputs": [],
   "source": [
    "import pages.home_page\n",
    "import pages.non_user_recommendations\n",
    "import pages.item_item_rec_app\n",
    "import pages.personalized_rec_app\n",
    "import pages.profile_add_app\n",
    "import pages.EDA_Streamlit_page"
   ]
  },
  {
   "cell_type": "markdown",
   "metadata": {},
   "source": [
    "## Set up data and unique lists for filtering \n",
    "Needed for multiple of the pages, so more efficient to only load once"
   ]
  },
  {
   "cell_type": "code",
   "execution_count": 3,
   "metadata": {},
   "outputs": [],
   "source": [
    "@st.cache(allow_output_mutation=True)\n",
    "def data_setup():\n",
    "    # read in data created in recommendation_data_display.ipynb\n",
    "    df = pd.read_parquet('recommendation_display.parq')\n",
    "    \n",
    "    # recombine genre lists to string for tf-idf\n",
    "    df['genre_str'] = df.Genres.apply(lambda row: ' '.join(row))\n",
    "\n",
    "    # get unique lists of all filter values\n",
    "    genres_unique, actors_df, directors_df, countries_unique, language_unique, tags_unique = pages.non_user_recommendations.unique_lists(df)\n",
    "    \n",
    "    # data for item-item recommendations\n",
    "    movieIds, indices, tfidf_matrix, movies_unique = pages.item_item_rec_app.cached_functions(df)\n",
    "    \n",
    "    # data for personalized recommendations\n",
    "    df_dummies, ratings_df = pages.personalized_rec_app.load_data()\n",
    "    \n",
    "    return df, genres_unique, actors_df, directors_df, countries_unique, language_unique, tags_unique, movieIds, indices, tfidf_matrix, movies_unique, df_dummies, ratings_df"
   ]
  },
  {
   "cell_type": "code",
   "execution_count": 1,
   "metadata": {
    "scrolled": true
   },
   "outputs": [],
   "source": [
    "df, genres_unique, actors_df, directors_df, countries_unique, language_unique, tags_unique, movieIds, indices, tfidf_matrix, movies_unique, df_dummies, ratings_df = data_setup()"
   ]
  },
  {
   "cell_type": "markdown",
   "metadata": {},
   "source": [
    "## Set up Empty New User Profile"
   ]
  },
  {
   "cell_type": "code",
   "execution_count": null,
   "metadata": {},
   "outputs": [],
   "source": [
    "# function creates empty lists, but allow output mutation such that not overwritten when page refreshes\n",
    "# only works with mutable data types\n",
    "@st.cache(allow_output_mutation=True)\n",
    "def list_create():\n",
    "    return [], [], [], [], []"
   ]
  },
  {
   "cell_type": "code",
   "execution_count": null,
   "metadata": {},
   "outputs": [],
   "source": [
    "@st.cache(allow_output_mutation=True)\n",
    "def empty_profile_create(ratings_df):\n",
    "\n",
    "    # empty lists to hold user input: will persist across user refresh because of function\n",
    "    new_ratings, new_users, new_movies, new_titles, userId_new = list_create()    \n",
    "\n",
    "    # generate a new user id \n",
    "    # append to list because changes every time the page is run. Only want first max entry. \n",
    "    userId_new.append(int(ratings_df.userId.max() + 1))\n",
    "    \n",
    "    return new_ratings, new_users, new_movies, new_titles, userId_new"
   ]
  },
  {
   "cell_type": "code",
   "execution_count": null,
   "metadata": {},
   "outputs": [],
   "source": [
    "new_ratings, new_users, new_movies, new_titles, userId_new = empty_profile_create(ratings_df)"
   ]
  },
  {
   "cell_type": "markdown",
   "metadata": {},
   "source": [
    "# Main Function: Navigation between Pages\n",
    "- Side radio button. Upon selection, call write() function within each page. Pass in arguments from cached calls. "
   ]
  },
  {
   "cell_type": "code",
   "execution_count": null,
   "metadata": {},
   "outputs": [],
   "source": [
    "PAGES = ['Home', 'Top Movie Visualizations', 'Top Rated Movies', 'Movie Based Recommendations',\n",
    "         'Personalized Recommendations', 'Add Profile']"
   ]
  },
  {
   "cell_type": "code",
   "execution_count": 12,
   "metadata": {},
   "outputs": [],
   "source": [
    "def main(df, genres_unique, actors_df, directors_df, countries_unique, language_unique, tags_unique,\n",
    "         movieIds, indices, tfidf_matrix, movies_unique, df_dummies, ratings_df,\n",
    "         new_ratings, new_users, new_movies, new_titles, userId_new):\n",
    "    \n",
    "    st.sidebar.title(\"Navigation\")\n",
    "    selection = st.sidebar.radio(\"Go to\", PAGES)    \n",
    "    \n",
    "    if selection == 'Home':\n",
    "        pages.home_page.write()\n",
    "    if selection == 'Top Movie Visualizations':\n",
    "        pages.EDA_Streamlit_page.write()\n",
    "    if selection == 'Top Rated Movies':\n",
    "        pages.non_user_recommendations.write(df, genres_unique, actors_df, \n",
    "                                             directors_df, countries_unique, language_unique, tags_unique)\n",
    "    if selection == 'Movie Based Recommendations':\n",
    "        pages.item_item_rec_app.write(df, movieIds, indices, tfidf_matrix, movies_unique)\n",
    "    if selection == 'Personalized Recommendations':\n",
    "        pages.personalized_rec_app.write(df, genres_unique, actors_df, directors_df, countries_unique,\n",
    "                                         language_unique, tags_unique, new_ratings, new_users, new_movies, df_dummies,\n",
    "                                         ratings_df)\n",
    "    if selection == 'Add Profile':\n",
    "        new_ratings, new_users, new_movies, new_titles = pages.profile_add_app.write(df, new_ratings, new_users,\n",
    "                                                                                     new_movies, new_titles, userId_new)\n",
    "        \n",
    "    return new_ratings, new_users, new_movies, new_titles"
   ]
  },
  {
   "cell_type": "code",
   "execution_count": null,
   "metadata": {},
   "outputs": [],
   "source": [
    "new_ratings, new_users, new_movies, new_titles = main(df, genres_unique, actors_df, directors_df, countries_unique,\n",
    "                                                      language_unique, tags_unique,\n",
    "                                                      movieIds, indices, tfidf_matrix, movies_unique, df_dummies, ratings_df,\n",
    "                                                      new_ratings, new_users, new_movies, new_titles, userId_new)"
   ]
  }
 ],
 "metadata": {
  "kernelspec": {
   "display_name": "Python 3",
   "language": "python",
   "name": "python3"
  },
  "language_info": {
   "codemirror_mode": {
    "name": "ipython",
    "version": 3
   },
   "file_extension": ".py",
   "mimetype": "text/x-python",
   "name": "python",
   "nbconvert_exporter": "python",
   "pygments_lexer": "ipython3",
   "version": "3.8.3"
  }
 },
 "nbformat": 4,
 "nbformat_minor": 4
}
