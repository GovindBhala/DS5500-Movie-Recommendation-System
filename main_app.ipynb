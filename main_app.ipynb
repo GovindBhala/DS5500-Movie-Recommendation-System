{
 "cells": [
  {
   "cell_type": "markdown",
   "metadata": {},
   "source": [
    "# Main Streamlit HomePage\n",
    "5 pages:\n",
    "- Top rated movies with filtering \n",
    "- Item-Item recommendations\n",
    "- Personalized recommendations\n",
    "- User profile creation: provide ratings\n",
    "- Visualizations   "
   ]
  },
  {
   "cell_type": "code",
   "execution_count": 1,
   "metadata": {},
   "outputs": [],
   "source": [
    "import streamlit as st \n",
    "import pandas as pd\n",
    "import os\n",
    "import numpy as np\n",
    "import operator\n",
    "import fastparquet\n",
    "import re\n",
    "from fuzzywuzzy import fuzz\n",
    "from sklearn.feature_extraction.text import TfidfVectorizer\n",
    "from sklearn.metrics.pairwise import linear_kernel"
   ]
  },
  {
   "cell_type": "markdown",
   "metadata": {},
   "source": [
    "### Import Individual Pages"
   ]
  },
  {
   "cell_type": "code",
   "execution_count": null,
   "metadata": {},
   "outputs": [],
   "source": [
    "import pages.home_page\n",
    "import pages.non_user_recommendations\n",
    "import pages.item_item_rec_app\n",
    "import pages.personalized_rec_app\n",
    "import pages.profile_add_app\n",
    "import pages.EDA_Streamlit_page"
   ]
  },
  {
   "cell_type": "markdown",
   "metadata": {},
   "source": [
    "## Set up data and unique lists for filtering \n",
    "Needed for multiple of the pages, so more efficient to only load once"
   ]
  },
  {
   "cell_type": "code",
   "execution_count": 3,
   "metadata": {},
   "outputs": [],
   "source": [
    "@st.cache(allow_output_mutation=True)\n",
    "def data_setup():\n",
    "    # read in data created in recommendation_data_display.ipynb\n",
    "    df = pd.read_parquet('recommendation_display.parq')\n",
    "    \n",
    "    # recombine genre lists to string for tf-idf\n",
    "    df['genre_str'] = df.Genres.apply(lambda row: ' '.join(row))\n",
    "\n",
    "    # get unique lists of all filter values\n",
    "    genres_unique, actors_df, directors_df, countries_unique, language_unique, tags_unique = pages.non_user_recommendations.unique_lists(df)\n",
    "    \n",
    "    return df, genres_unique, actors_df, directors_df, countries_unique, language_unique, tags_unique"
   ]
  },
  {
   "cell_type": "code",
   "execution_count": 1,
   "metadata": {
    "scrolled": true
   },
   "outputs": [],
   "source": [
    "df, genres_unique, actors_df, directors_df, countries_unique, language_unique, tags_unique = data_setup()"
   ]
  },
  {
   "cell_type": "markdown",
   "metadata": {},
   "source": [
    "## Run cached set up functions"
   ]
  },
  {
   "cell_type": "code",
   "execution_count": null,
   "metadata": {},
   "outputs": [],
   "source": [
    "movieIds, indices, tfidf_matrix, movies_unique = pages.item_item_rec_app.cached_functions(df)"
   ]
  },
  {
   "cell_type": "code",
   "execution_count": null,
   "metadata": {},
   "outputs": [],
   "source": [
    "df_dummies, ratings_lst, user_lst, movies_lst = pages.personalized_rec_app.load_data()"
   ]
  },
  {
   "cell_type": "markdown",
   "metadata": {},
   "source": [
    "# Main Function: Navigation between Pages\n",
    "- Side radio button. Upon selection, call write() function within each page. Pass in arguments from cached calls. "
   ]
  },
  {
   "cell_type": "code",
   "execution_count": null,
   "metadata": {},
   "outputs": [],
   "source": [
    "PAGES = ['Home', 'Top Movie Visualizations', 'Top Rated Movies', 'Movie Based Recommendations',\n",
    "         'Personalized Recommendations', 'Add Profile']"
   ]
  },
  {
   "cell_type": "code",
   "execution_count": 12,
   "metadata": {},
   "outputs": [],
   "source": [
    "def main(df, genres_unique, actors_df, directors_df, countries_unique, language_unique, tags_unique,\n",
    "         movieIds, indices, tfidf_matrix, movies_unique, df_dummies, ratings_lst, user_lst, movies_lst):\n",
    "    \n",
    "    st.sidebar.title(\"Navigation\")\n",
    "    selection = st.sidebar.radio(\"Go to\", PAGES)    \n",
    "    \n",
    "    if selection == 'Home':\n",
    "        pages.home_page.write()\n",
    "    if selection == 'Top Movie Visualizations':\n",
    "        pages.EDA_Streamlit_page.write()\n",
    "    if selection == 'Top Rated Movies':\n",
    "        pages.non_user_recommendations.write(df, genres_unique, actors_df, \n",
    "                                             directors_df, countries_unique, language_unique, tags_unique)\n",
    "    if selection == 'Movie Based Recommendations':\n",
    "        pages.item_item_rec_app.write(df, movieIds, indices, tfidf_matrix, movies_unique)\n",
    "    if selection == 'Personalized Recommendations':\n",
    "        pages.personalized_rec_app.write(df, genres_unique, actors_df, directors_df, countries_unique,\n",
    "                                          language_unique, tags_unique, ratings_lst, user_lst, movies_lst, df_dummies)\n",
    "    if selection == 'Add Profile':\n",
    "        ratings_lst, user_lst, movies_lst = pages.profile_add_app.write(df, ratings_lst, user_lst, movies_lst)\n",
    "        \n",
    "    return ratings_lst, user_lst, movies_lst"
   ]
  },
  {
   "cell_type": "code",
   "execution_count": null,
   "metadata": {},
   "outputs": [],
   "source": [
    "ratings_lst, user_lst, movies_lst = main(df, genres_unique, actors_df, directors_df, countries_unique,\n",
    "                                         language_unique, tags_unique,\n",
    "                                         movieIds, indices, tfidf_matrix, movies_unique, df_dummies, \n",
    "                                         ratings_lst, user_lst, movies_lst)"
   ]
  }
 ],
 "metadata": {
  "kernelspec": {
   "display_name": "Python 3",
   "language": "python",
   "name": "python3"
  },
  "language_info": {
   "codemirror_mode": {
    "name": "ipython",
    "version": 3
   },
   "file_extension": ".py",
   "mimetype": "text/x-python",
   "name": "python",
   "nbconvert_exporter": "python",
   "pygments_lexer": "ipython3",
   "version": "3.8.3"
  }
 },
 "nbformat": 4,
 "nbformat_minor": 4
}
