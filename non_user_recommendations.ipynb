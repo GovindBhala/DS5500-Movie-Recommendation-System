{
 "cells": [
  {
   "cell_type": "markdown",
   "metadata": {},
   "source": [
    "# Generate Recommendations for Non-Users & Streamlit"
   ]
  },
  {
   "cell_type": "markdown",
   "metadata": {},
   "source": [
    "1. Top rated movies within a filter: weighted average of # of reviews and average ratings - DONE\n",
    "    - Genomes: only display if above X threshold? Or add relevance score into the weighted average?\n",
    "\n",
    "UI elements to do:\n",
    "- Biographic information for the actor, director (IMDB) (?)\n",
    "\n",
    "UI in the future: \n",
    "- Filtering within personalized recommendations (user ID field)\n",
    "- Tab allowing users to input own ratings and get a recommendation out\n",
    "- EDA"
   ]
  },
  {
   "cell_type": "markdown",
   "metadata": {},
   "source": [
    "#### To Run:\n",
    "1. Convert notebook to py file\n",
    "    - Run in command line: py -m jupyter nbconvert --to script streamlit_example.ipynb\n",
    "2. Run streamlit app\n",
    "    - Run in command line: streamlit run streamlit_example.py"
   ]
  },
  {
   "cell_type": "code",
   "execution_count": 1,
   "metadata": {},
   "outputs": [],
   "source": [
    "import pandas as pd\n",
    "import os\n",
    "import numpy as np\n",
    "from scipy.sparse import csc_matrix\n",
    "from pandas.api.types import CategoricalDtype\n",
    "import matplotlib.pyplot as plt\n",
    "import seaborn as sns\n",
    "import datetime as datetime\n",
    "import operator\n",
    "import streamlit as st\n",
    "import fastparquet\n",
    "import re\n",
    "from fuzzywuzzy import fuzz"
   ]
  },
  {
   "cell_type": "markdown",
   "metadata": {},
   "source": [
    "## Get Unique Lists of Filter Options"
   ]
  },
  {
   "cell_type": "code",
   "execution_count": 2,
   "metadata": {},
   "outputs": [],
   "source": [
    "def cat_list_expand(df, var):\n",
    "    \n",
    "    # expand lists such that one entry per row \n",
    "    expanded = df[[var, 'movieId']]\n",
    "    expanded = pd.DataFrame({\n",
    "        col:np.repeat(expanded[col].values, expanded[var].str.len()) for col in expanded.columns.drop(var)}\n",
    "    ).assign(**{var:np.concatenate(expanded[var].values)})[expanded.columns]\n",
    "\n",
    "    return expanded"
   ]
  },
  {
   "cell_type": "code",
   "execution_count": 42,
   "metadata": {},
   "outputs": [],
   "source": [
    "def unique_lists(df):\n",
    "    \n",
    "    # unique lists. Sort alphabetically\n",
    "    genres_unique = np.sort(cat_list_expand(df, 'Genres').Genres.unique())\n",
    "    countries_unique  = np.sort(cat_list_expand(df, 'Filming Countries')['Filming Countries'].unique())\n",
    "    language_unique = np.sort(cat_list_expand(df, 'Language(s)')['Language(s)'].unique())\n",
    "    tags_unique = np.sort(cat_list_expand(df, 'Tags').Tags.unique())\n",
    "    \n",
    "    # actors and directors: user input fuzzy string matching.\n",
    "    # Get version with lower case for user matching + upper case for display\n",
    "    actors_df = pd.merge(cat_list_expand(df, 'actors_downcased').actors_downcased,\n",
    "                         cat_list_expand(df, 'Actors').Actors, left_index = True, right_index = True)\n",
    "    # drop duplicated rows so unique\n",
    "    actors_df = actors_df[actors_df.duplicated() == False]\n",
    "    actors_df.columns = ['actors_downcased', 'actors_upcased']\n",
    "\n",
    "    directors_df = pd.merge(cat_list_expand(df, 'directors_downcased').directors_downcased,\n",
    "                         cat_list_expand(df, 'Director(s)')['Director(s)'], left_index = True, right_index = True)\n",
    "    directors_df = directors_df[directors_df.duplicated() == False]    \n",
    "    directors_df.columns = ['directors_downcased', 'directors_upcased']\n",
    "    \n",
    "    \n",
    "    return genres_unique, actors_df, directors_df, countries_unique, language_unique, tags_unique"
   ]
  },
  {
   "cell_type": "markdown",
   "metadata": {},
   "source": [
    "# Run above functions w. cacheing\n",
    "These functions will not change when user inputs to filtering change, so only run first time app is opened     \n",
    "st.cache not compatabile with jupyter notebook. Comment out when running in jupyter. "
   ]
  },
  {
   "cell_type": "code",
   "execution_count": 43,
   "metadata": {},
   "outputs": [],
   "source": [
    "@st.cache\n",
    "def cached_functions():\n",
    "    \n",
    "    # read in data created in recommendation_data_display.ipynb\n",
    "    df = pd.read_parquet('recommendation_display.parq')\n",
    "\n",
    "    # get unique lists of all filter values\n",
    "    genres_unique, actors_df, directors_df, countries_unique, language_unique, tags_unique = unique_lists(df)\n",
    "    \n",
    "    return df, genres_unique, actors_df, directors_df, countries_unique, language_unique, tags_unique, actors_df, directors_df"
   ]
  },
  {
   "cell_type": "code",
   "execution_count": 44,
   "metadata": {
    "scrolled": false
   },
   "outputs": [],
   "source": [
    "df_display, genres_unique, actors_df, directors_df, countries_unique, language_unique, tags_unique, actors_df, directors_df = cached_functions()"
   ]
  },
  {
   "cell_type": "markdown",
   "metadata": {},
   "source": [
    "## Display in Streamlit with filter options\n",
    "Display:\n",
    "- Title\n",
    "- Year\n",
    "- Description\n",
    "- Duration\n",
    "- Genres\n",
    "- Actors\n",
    "- Directors\n",
    "- Production Company\n",
    "- Country\n",
    "- Language\n",
    "- Genome Tags\n",
    "- Number of ratings\n",
    "- Average rating    \n",
    "   \n",
    "Filter by:\n",
    "- Genres\n",
    "- Actors\n",
    "- Directors\n",
    "- Country\n",
    "- Language\n",
    "- Genome Tags\n",
    "\n",
    "Default table is highest rated movies without filters    \n",
    "   \n",
    "   \n",
    "Extensions:\n",
    "- AND/OR advanced search option? This might be difficult"
   ]
  },
  {
   "cell_type": "code",
   "execution_count": null,
   "metadata": {},
   "outputs": [],
   "source": [
    "st.title('Top Rated Movie Recommendations')\n",
    "st.header('Enter desired filters and select \"Display Recommendations\" \\n')\n",
    "st.write('Please note filters use AND logic')\n",
    "st.write('If you wish to see overall top rated movies, select Display Recommendations without any filters')"
   ]
  },
  {
   "cell_type": "code",
   "execution_count": null,
   "metadata": {},
   "outputs": [],
   "source": [
    "# get user inputs: multiple selection possible per category\n",
    "genre_input = st.multiselect('Select genre(s)', genres_unique)\n",
    "country_input = st.multiselect('Select filming country(s)', countries_unique)\n",
    "language_input = st.multiselect('Select language(s)', language_unique)\n",
    "tag_input = st.multiselect('Select genome tags(s)', tags_unique)\n",
    "\n",
    "# actors, directors get text inputs\n",
    "# Dropdowns too much for streamlit to handle\n",
    "# allow multiple entires\n",
    "actor_input = st.text_input('Type actor(s) names separated by comma. Select intended actor(s) from dropdown that appears')\n",
    "if actor_input != '':\n",
    "    # downcase input\n",
    "    actor_input = actor_input.lower()\n",
    "    # split into list \n",
    "    actor_input = actor_input.split(', ')\n",
    "    \n",
    "    # fuzzy string matching to find similarity ratio between user input and actual actors (downcased)\n",
    "    # works for misspellings as well \n",
    "    # limit to 70% similarity \n",
    "    options = []\n",
    "    for i in actor_input:\n",
    "        actors_df['sim'] = actors_df.actors_downcased.apply(lambda row: fuzz.ratio(row, i))\n",
    "        options.append(actors_df[actors_df.sim > 70].sort_values('sim', ascending = False).head(3).actors_upcased.unique())\n",
    "    options = [item for sublist in options for item in sublist]    \n",
    "    \n",
    "    # list actors that are similar to what they typed\n",
    "    if len(options) > 0:\n",
    "        actor_input = st.multiselect('Select Actor(s)', options)\n",
    "    else:\n",
    "        st.write(\"Sorry, we can't find any matching actors\")\n",
    "\n",
    "else:\n",
    "    actor_input = []\n",
    "\n",
    "director_input = st.text_input('Type director(s) names separated by comma. Select intended director(s) from dropdown that appears')\n",
    "if director_input != '':\n",
    "    # downcase input\n",
    "    director_input = director_input.lower()\n",
    "    # split into list \n",
    "    director_input = director_input.split(', ')\n",
    "    \n",
    "    # fuzzy string matching to find similarity ratio between user input and actual directors (downcased)\n",
    "    # works for misspellings as well \n",
    "    # limit to 70% similarity \n",
    "    options = []\n",
    "    for i in director_input:\n",
    "        directors_df['sim'] = directors_df.directors_downcased.apply(lambda row: fuzz.ratio(row, i))\n",
    "        options.append(directors_df[directors_df.sim > 70].sort_values('sim', ascending = False).head(3).directors_upcased.unique())\n",
    "    options = [item for sublist in options for item in sublist]    \n",
    "    \n",
    "    # list actors that are similar to what they typed\n",
    "    if len(options) > 0:\n",
    "        director_input = st.multiselect('Select Director(s)', options)\n",
    "    else:\n",
    "        st.write(\"Sorry, we can't find any matching directors\")\n",
    "\n",
    "else:\n",
    "    director_input = []\n",
    "\n",
    "# display recommendations once hit button\n",
    "if st.button('Display Recommendations'):\n",
    "    # filter dataframe\n",
    "    df_filtered = df_display[(df_display.Genres.map(set(genre_input).issubset)) & \n",
    "                             (df_display['Filming Countries'].map(set(country_input).issubset)) &\n",
    "                             (df_display['Language(s)'].map(set(language_input).issubset)) & \n",
    "                             (df_display.Tags.map(set(tag_input).issubset))  & \n",
    "                             (df_display['Actors'].map(set(actor_input).issubset)) &\n",
    "                             (df_display['Director(s)'].map(set(director_input).issubset))\n",
    "                            ].sort_values('weighted_avg', ascending = False).head(10).drop(columns = ['weighted_avg',\n",
    "                                                                                                     'actors_downcased', \n",
    "                                                                                                      'directors_downcased',\n",
    "                                                                                                     'title_downcased', \n",
    "                                                                                                     'title_year', 'movieId'])\n",
    "    # if no valid movies with combination of filters, notify. Else display dataframe\n",
    "    if len(df_filtered) > 0:\n",
    "        st.write(df_filtered)\n",
    "    else:\n",
    "        st.write('Found no movies that match your selections')"
   ]
  }
 ],
 "metadata": {
  "kernelspec": {
   "display_name": "Python 3",
   "language": "python",
   "name": "python3"
  },
  "language_info": {
   "codemirror_mode": {
    "name": "ipython",
    "version": 3
   },
   "file_extension": ".py",
   "mimetype": "text/x-python",
   "name": "python",
   "nbconvert_exporter": "python",
   "pygments_lexer": "ipython3",
   "version": "3.8.3"
  }
 },
 "nbformat": 4,
 "nbformat_minor": 4
}
