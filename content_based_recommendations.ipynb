{
 "cells": [
  {
   "cell_type": "code",
   "execution_count": 14,
   "metadata": {},
   "outputs": [],
   "source": [
    "import pandas as pd\n",
    "import os\n",
    "import numpy as np\n",
    "import matplotlib.pyplot as plt\n",
    "import seaborn as sns\n",
    "import datetime as datetime\n",
    "import operator\n",
    "import scipy.spatial.distance as distance\n",
    "from sklearn import metrics \n",
    "import random\n",
    "import time\n",
    "from sklearn.model_selection import train_test_split\n",
    "from sklearn.linear_model import LinearRegression\n",
    "import sklearn\n",
    "import fastparquet\n",
    "import scipy"
   ]
  },
  {
   "cell_type": "markdown",
   "metadata": {},
   "source": [
    "## Content Recommendations\n",
    "Extensions:\n",
    "- Include year (decade)?\n",
    "- Include text from description or genome tags\n",
    "- Downweight older ratings "
   ]
  },
  {
   "cell_type": "markdown",
   "metadata": {},
   "source": [
    "### Version 2\n",
    "Do not normalize ratings vectors. Only normalize profile. Then multiply matricies\n",
    "Previously taking cosine similarity and thus normalizing both vectors. This caused longer movie vectors to be penalized, thereby prioritizing movies without any actor and/or director dummies because they were shorter.    \n",
    "\n",
    "Normalize profile so take into account different # of ratings for different users.   \n",
    "No need to normalize movies because 0/1 values and having more features is not a negative.  "
   ]
  },
  {
   "cell_type": "code",
   "execution_count": null,
   "metadata": {},
   "outputs": [],
   "source": [
    "def user_content_recommendations(user_id, df, ratings, movieIds):   \n",
    "    \"\"\"\n",
    "    ratings_user: limit to one user\n",
    "    \n",
    "    movies_user: movies rated by that user\n",
    "    \n",
    "    watched: keep track of movies already watched\n",
    "    \n",
    "    normalize ratings: subtract mean rating  from ratings\n",
    "                       if rating < mean, normalized rating will be negative. Which is worse than 0 aka not rating movie at all.\n",
    "    \n",
    "    profile:create user profile: multiply item profile by user ratings --> sum of ratings for each attribute \n",
    "    \n",
    "    recommendations: cosine similarity between movie and user profile \n",
    "                     merge to get title\n",
    "                     sort\n",
    "                     remove recommendations already watched\n",
    "    \"\"\"\n",
    "    ratings_user = ratings[ratings.userId == user_id]\n",
    "    ratings_user = ratings_user.sort_values('movieId')\n",
    "    watched = ratings_user.movieId.unique()\n",
    "    watched_index = [movieIds.index(i) for i in watched]\n",
    "    movies_user = df[watched_index, :]\n",
    "        \n",
    "    mean_rating = np.mean(ratings_user.rating)\n",
    "    ratings_user.rating = ratings_user.rating - mean_rating\n",
    "    \n",
    "    profile = scipy.sparse.csr_matrix(movies_user.T.dot(ratings_user.rating.values))\n",
    "    \n",
    "    # normalize profile to account for different numbers of ratings\n",
    "    profile = sklearn.preprocessing.normalize(profile, axis = 1, norm = 'l2')\n",
    "    \n",
    "    # find similarity between profile and movies \n",
    "    # cosine similarity except movies not normalized \n",
    "    recommendations = df.dot(profile.T).todense()\n",
    "    \n",
    "    recommendations = pd.DataFrame(recommendations)\n",
    "    recommendations = pd.merge(recommendations, pd.Series(movieIds).to_frame(), left_index = True, right_index = True)\n",
    "    recommendations.columns = ['prediction', 'movieId']\n",
    "    recommendations = recommendations[~recommendations.movieId.isin(watched)]\n",
    "    recommendations = recommendations.sort_values('prediction', ascending = False)\n",
    "    #recommen_ratings = pd.merge(recommendations,movies_raitings, left_on = 'movieId', right_on = 'id')\n",
    "    return recommendations"
   ]
  }
 ],
 "metadata": {
  "kernelspec": {
   "display_name": "Python 3",
   "language": "python",
   "name": "python3"
  },
  "language_info": {
   "codemirror_mode": {
    "name": "ipython",
    "version": 3
   },
   "file_extension": ".py",
   "mimetype": "text/x-python",
   "name": "python",
   "nbconvert_exporter": "python",
   "pygments_lexer": "ipython3",
   "version": "3.8.3"
  }
 },
 "nbformat": 4,
 "nbformat_minor": 4
}
