{
 "cells": [
  {
   "cell_type": "code",
   "execution_count": 124,
   "metadata": {},
   "outputs": [],
   "source": [
    "import pandas as pd\n",
    "import os\n",
    "import numpy as np\n",
    "import matplotlib.pyplot as plt\n",
    "import seaborn as sns\n",
    "import datetime as datetime\n",
    "import operator\n",
    "import scipy.spatial.distance as distance\n",
    "import sklearn.metrics\n",
    "import random\n",
    "import time"
   ]
  },
  {
   "cell_type": "code",
   "execution_count": 20,
   "metadata": {},
   "outputs": [],
   "source": [
    "df = pd.read_pickle('processed_df.pkl')\n",
    "ratings = pd.read_pickle('ratings_sample.pkl')\n",
    "ratings = ratings.reset_index()"
   ]
  },
  {
   "cell_type": "code",
   "execution_count": 21,
   "metadata": {},
   "outputs": [],
   "source": [
    "movies = df.drop(columns = ['movieId', 'title_eng', 'year'])"
   ]
  },
  {
   "cell_type": "markdown",
   "metadata": {},
   "source": [
    "## Build Recommendations for 1 User\n",
    "To Do:\n",
    "- Extend to all users (function) -done\n",
    "- Test/train split so hold out some recommendations to evaluate against --> evaluate\n",
    "\n",
    "Extensions:\n",
    "- Include year (decade)?\n",
    "- Include text from description or genome tags\n",
    "- Downweight older ratings "
   ]
  },
  {
   "cell_type": "code",
   "execution_count": 22,
   "metadata": {},
   "outputs": [],
   "source": [
    "# limit to one user\n",
    "ratings_user = ratings[ratings.userId == 100]\n",
    "movies_user = df[df.movieId.isin(ratings_user.movieId.unique())]\n",
    "\n",
    "# keep track of movies already watched\n",
    "watched = movies_user.movieId.unique()\n",
    "\n",
    "movies_user = movies_user.drop(columns = ['movieId', 'title_eng', 'year'])"
   ]
  },
  {
   "cell_type": "code",
   "execution_count": 23,
   "metadata": {
    "scrolled": false
   },
   "outputs": [
    {
     "name": "stderr",
     "output_type": "stream",
     "text": [
      "/opt/anaconda3/envs/Peritia1/lib/python3.7/site-packages/pandas/core/generic.py:5303: SettingWithCopyWarning: \n",
      "A value is trying to be set on a copy of a slice from a DataFrame.\n",
      "Try using .loc[row_indexer,col_indexer] = value instead\n",
      "\n",
      "See the caveats in the documentation: https://pandas.pydata.org/pandas-docs/stable/user_guide/indexing.html#returning-a-view-versus-a-copy\n",
      "  self[name] = value\n"
     ]
    }
   ],
   "source": [
    "# normalize ratings: subtract mean rating  from ratings\n",
    "# if rating < mean, normalized rating will be negative. Which is worse than 0 aka not rating movie at all.\n",
    "\n",
    "#### should this be averaged??\n",
    "\n",
    "mean_rating = np.mean(ratings_user.rating)\n",
    "ratings_user.rating = ratings_user.rating - mean_rating"
   ]
  },
  {
   "cell_type": "code",
   "execution_count": 24,
   "metadata": {},
   "outputs": [],
   "source": [
    "# create user profile: multiply item profile by user ratings --> sum of ratings for each attribute \n",
    "profile = movies_user.T.dot(ratings_user.rating.values)"
   ]
  },
  {
   "cell_type": "code",
   "execution_count": 25,
   "metadata": {
    "scrolled": true
   },
   "outputs": [],
   "source": [
    "# cosine similarity between movie and user profile \n",
    "movies = df.drop(columns = ['movieId', 'title_eng', 'year'])\n",
    "recommendations = sklearn.metrics.pairwise.cosine_similarity(movies, np.asmatrix(profile.values))"
   ]
  },
  {
   "cell_type": "code",
   "execution_count": 26,
   "metadata": {},
   "outputs": [],
   "source": [
    "recommendations = pd.DataFrame(recommendations)\n",
    "recommendations.columns = ['prediction']\n",
    "\n",
    "# merge to get title\n",
    "recommendations = pd.merge(recommendations, df[['title_eng', 'movieId']], left_index = True, right_index = True, how = 'left')\n",
    "\n",
    "# sort \n",
    "recommendations = recommendations.sort_values('prediction', ascending = False)"
   ]
  },
  {
   "cell_type": "code",
   "execution_count": 27,
   "metadata": {},
   "outputs": [],
   "source": [
    "# remove recommendations already watched\n",
    "recommendations = recommendations[~recommendations.movieId.isin(watched)]"
   ]
  },
  {
   "cell_type": "code",
   "execution_count": 28,
   "metadata": {},
   "outputs": [
    {
     "data": {
      "text/html": [
       "<div>\n",
       "<style scoped>\n",
       "    .dataframe tbody tr th:only-of-type {\n",
       "        vertical-align: middle;\n",
       "    }\n",
       "\n",
       "    .dataframe tbody tr th {\n",
       "        vertical-align: top;\n",
       "    }\n",
       "\n",
       "    .dataframe thead th {\n",
       "        text-align: right;\n",
       "    }\n",
       "</style>\n",
       "<table border=\"1\" class=\"dataframe\">\n",
       "  <thead>\n",
       "    <tr style=\"text-align: right;\">\n",
       "      <th></th>\n",
       "      <th>prediction</th>\n",
       "      <th>title_eng</th>\n",
       "      <th>movieId</th>\n",
       "    </tr>\n",
       "  </thead>\n",
       "  <tbody>\n",
       "    <tr>\n",
       "      <th>39994</th>\n",
       "      <td>0.512362</td>\n",
       "      <td>In August of 1944 (2001)</td>\n",
       "      <td>188375</td>\n",
       "    </tr>\n",
       "    <tr>\n",
       "      <th>41879</th>\n",
       "      <td>0.512362</td>\n",
       "      <td>Deadline (1987)</td>\n",
       "      <td>195153</td>\n",
       "    </tr>\n",
       "    <tr>\n",
       "      <th>1235</th>\n",
       "      <td>0.459565</td>\n",
       "      <td>Forbidden Christ, The (Cristo proibito, Il) (1...</td>\n",
       "      <td>1368</td>\n",
       "    </tr>\n",
       "    <tr>\n",
       "      <th>24720</th>\n",
       "      <td>0.416294</td>\n",
       "      <td>Ground Zero (1987)</td>\n",
       "      <td>134268</td>\n",
       "    </tr>\n",
       "    <tr>\n",
       "      <th>32214</th>\n",
       "      <td>0.416294</td>\n",
       "      <td>Deo pa-i-beu (2013)</td>\n",
       "      <td>160654</td>\n",
       "    </tr>\n",
       "    <tr>\n",
       "      <th>26212</th>\n",
       "      <td>0.416294</td>\n",
       "      <td>Crimes of the Past (2009)</td>\n",
       "      <td>139657</td>\n",
       "    </tr>\n",
       "    <tr>\n",
       "      <th>27711</th>\n",
       "      <td>0.416294</td>\n",
       "      <td>Broken (2014)</td>\n",
       "      <td>144510</td>\n",
       "    </tr>\n",
       "    <tr>\n",
       "      <th>33375</th>\n",
       "      <td>0.397995</td>\n",
       "      <td>Line Walker (2016)</td>\n",
       "      <td>164407</td>\n",
       "    </tr>\n",
       "    <tr>\n",
       "      <th>24151</th>\n",
       "      <td>0.397995</td>\n",
       "      <td>N.H 10 (2015)</td>\n",
       "      <td>132358</td>\n",
       "    </tr>\n",
       "    <tr>\n",
       "      <th>9185</th>\n",
       "      <td>0.397995</td>\n",
       "      <td>Electra Glide in Blue (1973)</td>\n",
       "      <td>32632</td>\n",
       "    </tr>\n",
       "  </tbody>\n",
       "</table>\n",
       "</div>"
      ],
      "text/plain": [
       "       prediction                                          title_eng  movieId\n",
       "39994    0.512362                           In August of 1944 (2001)   188375\n",
       "41879    0.512362                                    Deadline (1987)   195153\n",
       "1235     0.459565  Forbidden Christ, The (Cristo proibito, Il) (1...     1368\n",
       "24720    0.416294                                 Ground Zero (1987)   134268\n",
       "32214    0.416294                                Deo pa-i-beu (2013)   160654\n",
       "26212    0.416294                          Crimes of the Past (2009)   139657\n",
       "27711    0.416294                                      Broken (2014)   144510\n",
       "33375    0.397995                                 Line Walker (2016)   164407\n",
       "24151    0.397995                                      N.H 10 (2015)   132358\n",
       "9185     0.397995                       Electra Glide in Blue (1973)    32632"
      ]
     },
     "execution_count": 28,
     "metadata": {},
     "output_type": "execute_result"
    }
   ],
   "source": [
    "# movies with the same prediction -- should we secondarily sort by overall popularity of the movie?\n",
    "recommendations[:10]"
   ]
  },
  {
   "cell_type": "code",
   "execution_count": 29,
   "metadata": {},
   "outputs": [],
   "source": [
    "def user_content_recommendations(user_id):   \n",
    "    \"\"\"\n",
    "    ratings_user: limit to one user\n",
    "    \n",
    "    movies_user: movies rated by that user\n",
    "    \n",
    "    watched: keep track of movies already watched\n",
    "    \n",
    "    normalize ratings: subtract mean rating  from ratings\n",
    "                       if rating < mean, normalized rating will be negative. Which is worse than 0 aka not rating movie at all.\n",
    "    \n",
    "    profile:create user profile: multiply item profile by user ratings --> sum of ratings for each attribute \n",
    "    \n",
    "    recommendations: cosine similarity between movie and user profile \n",
    "                     merge to get title\n",
    "                     sort\n",
    "                     remove recommendations already watched\n",
    "    \"\"\"\n",
    "\n",
    "    ratings_user = ratings[ratings.userId == user_id]\n",
    "    movies_user = df[df.movieId.isin(ratings_user.movieId.unique())]\n",
    "    watched = movies_user.movieId.unique()\n",
    "    movies_user = movies_user.drop(columns = ['movieId', 'title_eng', 'year'])\n",
    "    \n",
    "    mean_rating = np.mean(ratings_user.rating)\n",
    "    ratings_user.rating = ratings_user.rating - mean_rating\n",
    "\n",
    "    profile = movies_user.T.dot(ratings_user.rating.values)\n",
    "    \n",
    "    movies = df.drop(columns = ['movieId', 'title_eng', 'year'])\n",
    "   \n",
    "    recommendations = sklearn.metrics.pairwise.cosine_similarity(movies, np.asmatrix(profile.values))\n",
    "    recommendations = pd.DataFrame(recommendations)\n",
    "    recommendations.columns = ['prediction']\n",
    "    recommendations = pd.merge(recommendations, df[['title_eng', 'movieId']], left_index = True, right_index = True, how = 'left')\n",
    "    recommendations = recommendations.sort_values('prediction', ascending = False)\n",
    "    recommendations = recommendations[~recommendations.movieId.isin(watched)]\n",
    "    return recommendations\n",
    "\n",
    "def user_top(movies,n):\n",
    "    return movies['title_eng'][:n]\n",
    "\n",
    "def user_movie_id(movies,n):\n",
    "    return movies['movieId'][:n]"
   ]
  },
  {
   "cell_type": "markdown",
   "metadata": {},
   "source": [
    "### Getting top 10 and top 5 recommendation for user_id = 100"
   ]
  },
  {
   "cell_type": "code",
   "execution_count": 30,
   "metadata": {},
   "outputs": [
    {
     "name": "stderr",
     "output_type": "stream",
     "text": [
      "/opt/anaconda3/envs/Peritia1/lib/python3.7/site-packages/pandas/core/generic.py:5303: SettingWithCopyWarning: \n",
      "A value is trying to be set on a copy of a slice from a DataFrame.\n",
      "Try using .loc[row_indexer,col_indexer] = value instead\n",
      "\n",
      "See the caveats in the documentation: https://pandas.pydata.org/pandas-docs/stable/user_guide/indexing.html#returning-a-view-versus-a-copy\n",
      "  self[name] = value\n"
     ]
    }
   ],
   "source": [
    "userId=100\n",
    "recommendation = user_content_recommendations(userId)"
   ]
  },
  {
   "cell_type": "code",
   "execution_count": 31,
   "metadata": {},
   "outputs": [
    {
     "data": {
      "text/plain": [
       "39994                             In August of 1944 (2001)\n",
       "41879                                      Deadline (1987)\n",
       "1235     Forbidden Christ, The (Cristo proibito, Il) (1...\n",
       "24720                                   Ground Zero (1987)\n",
       "32214                                  Deo pa-i-beu (2013)\n",
       "26212                            Crimes of the Past (2009)\n",
       "27711                                        Broken (2014)\n",
       "33375                                   Line Walker (2016)\n",
       "24151                                        N.H 10 (2015)\n",
       "9185                          Electra Glide in Blue (1973)\n",
       "Name: title_eng, dtype: object"
      ]
     },
     "execution_count": 31,
     "metadata": {},
     "output_type": "execute_result"
    }
   ],
   "source": [
    "# Get the top 10 Movie recommendation for the user\n",
    "user_top(recommendation,10)"
   ]
  },
  {
   "cell_type": "code",
   "execution_count": 32,
   "metadata": {},
   "outputs": [
    {
     "data": {
      "text/plain": [
       "39994                             In August of 1944 (2001)\n",
       "41879                                      Deadline (1987)\n",
       "1235     Forbidden Christ, The (Cristo proibito, Il) (1...\n",
       "24720                                   Ground Zero (1987)\n",
       "32214                                  Deo pa-i-beu (2013)\n",
       "Name: title_eng, dtype: object"
      ]
     },
     "execution_count": 32,
     "metadata": {},
     "output_type": "execute_result"
    }
   ],
   "source": [
    "# Get the top 5 Movie recommendation for the user\n",
    "user_top(recommendation,5)"
   ]
  },
  {
   "cell_type": "markdown",
   "metadata": {},
   "source": [
    "## Evaluation: Personalization\n",
    "\n"
   ]
  },
  {
   "cell_type": "code",
   "execution_count": 125,
   "metadata": {},
   "outputs": [],
   "source": [
    "\"\"\"\n",
    "get_users_prediction: returns user prediction\n",
    "\n",
    "user_matrix: generated user by movies, 0: movie not recommended, 1: movie got recommended\n",
    "\n",
    "\"\"\"\n",
    "def get_users_prediction(users_list,top_n,users_prediction):\n",
    "    for i in users_list:\n",
    "        recommendation = user_content_recommendations(i)\n",
    "        prediction = user_movie_id(recommendation,top_n).astype(int).values\n",
    "        users_prediction = users_prediction.append(pd.Series(prediction),ignore_index=True)\n",
    "        \n",
    "    return users_prediction\n",
    "\n",
    "def user_matrix(df):\n",
    "    data_melt= pd.DataFrame(data=users_pred).reset_index().melt(id_vars='index', value_name='movieId',)\n",
    "    data_melt = data_melt[['index', 'movieId']].pivot(index='index', columns='movieId', values='movieId')\n",
    "    cols = data_melt.columns\n",
    "    for i in cols:\n",
    "        data_melt[i] = np.where(data_melt[i].isna(), 0, 1)\n",
    "    return data_melt\n",
    "\n",
    "\n",
    "def personalization(users_matrix,n):\n",
    "    # generating cosine similarity between the users\n",
    "    #then getting the indicies of elements above diagonal (giving diagonal offsert =1 in triu_indices)\n",
    "    #calculating the avg of the element above diagonal \n",
    "    #Personalization means 1 - similarity\n",
    "    #higher the personalization score, better the recommendation system in recommending personalized movies\n",
    "   \n",
    "    users_sim = sklearn.metrics.pairwise.cosine_similarity(users_matrix)\n",
    "    iu1 = np.triu_indices(n,k=1)\n",
    "    similarity_avg = np.mean(users_sim[iu1])\n",
    "    personalization_score = 1 - similarity_avg\n",
    "\n",
    "    return personalization_score\n",
    "\n",
    "def cross_fold_eval(unique_users,k_fold=5,n=5,top_n=10):\n",
    "    #users_list: List of random n users\n",
    "    \n",
    "    kfold_personalization=0\n",
    "    for i in range(k_fold):\n",
    "        users_list = random.sample(unique_users, n)\n",
    "        \n",
    "        #columns: top_n recommendations\n",
    "        #users_prediction:  top_n recommendations for n users\n",
    "        column_names = list(range(top_n))\n",
    "        users_prediction = pd.DataFrame(columns = column_names)\n",
    "        \n",
    "        # getting predictions for sampled users\n",
    "        users_pred = get_users_prediction(users_list,top_n,users_prediction)\n",
    "        \n",
    "        # getting user by movies matrix with binary indicators 0: movie not recommended, 1: movie got recommended\n",
    "        users_matrix = user_matrix(users_pred)\n",
    "        kfold_personalization+=personalization(users_matrix,n)\n",
    "    kfold_eval = kfold_personalization/k_fold\n",
    "    print(f'Personalization score for {k_fold} k_fols validation: {kfold_eval}')\n",
    "        "
   ]
  },
  {
   "cell_type": "code",
   "execution_count": 126,
   "metadata": {},
   "outputs": [
    {
     "name": "stderr",
     "output_type": "stream",
     "text": [
      "/opt/anaconda3/envs/Peritia1/lib/python3.7/site-packages/pandas/core/generic.py:5303: SettingWithCopyWarning: \n",
      "A value is trying to be set on a copy of a slice from a DataFrame.\n",
      "Try using .loc[row_indexer,col_indexer] = value instead\n",
      "\n",
      "See the caveats in the documentation: https://pandas.pydata.org/pandas-docs/stable/user_guide/indexing.html#returning-a-view-versus-a-copy\n",
      "  self[name] = value\n",
      "/opt/anaconda3/envs/Peritia1/lib/python3.7/site-packages/pandas/core/generic.py:5303: SettingWithCopyWarning: \n",
      "A value is trying to be set on a copy of a slice from a DataFrame.\n",
      "Try using .loc[row_indexer,col_indexer] = value instead\n",
      "\n",
      "See the caveats in the documentation: https://pandas.pydata.org/pandas-docs/stable/user_guide/indexing.html#returning-a-view-versus-a-copy\n",
      "  self[name] = value\n",
      "/opt/anaconda3/envs/Peritia1/lib/python3.7/site-packages/pandas/core/generic.py:5303: SettingWithCopyWarning: \n",
      "A value is trying to be set on a copy of a slice from a DataFrame.\n",
      "Try using .loc[row_indexer,col_indexer] = value instead\n",
      "\n",
      "See the caveats in the documentation: https://pandas.pydata.org/pandas-docs/stable/user_guide/indexing.html#returning-a-view-versus-a-copy\n",
      "  self[name] = value\n",
      "/opt/anaconda3/envs/Peritia1/lib/python3.7/site-packages/pandas/core/generic.py:5303: SettingWithCopyWarning: \n",
      "A value is trying to be set on a copy of a slice from a DataFrame.\n",
      "Try using .loc[row_indexer,col_indexer] = value instead\n",
      "\n",
      "See the caveats in the documentation: https://pandas.pydata.org/pandas-docs/stable/user_guide/indexing.html#returning-a-view-versus-a-copy\n",
      "  self[name] = value\n",
      "/opt/anaconda3/envs/Peritia1/lib/python3.7/site-packages/pandas/core/generic.py:5303: SettingWithCopyWarning: \n",
      "A value is trying to be set on a copy of a slice from a DataFrame.\n",
      "Try using .loc[row_indexer,col_indexer] = value instead\n",
      "\n",
      "See the caveats in the documentation: https://pandas.pydata.org/pandas-docs/stable/user_guide/indexing.html#returning-a-view-versus-a-copy\n",
      "  self[name] = value\n",
      "/opt/anaconda3/envs/Peritia1/lib/python3.7/site-packages/pandas/core/generic.py:5303: SettingWithCopyWarning: \n",
      "A value is trying to be set on a copy of a slice from a DataFrame.\n",
      "Try using .loc[row_indexer,col_indexer] = value instead\n",
      "\n",
      "See the caveats in the documentation: https://pandas.pydata.org/pandas-docs/stable/user_guide/indexing.html#returning-a-view-versus-a-copy\n",
      "  self[name] = value\n"
     ]
    },
    {
     "name": "stdout",
     "output_type": "stream",
     "text": [
      "Personalization score for 2 k_fols validation: 1.0\n",
      "Time take 207.35414505004883 seconds\n"
     ]
    }
   ],
   "source": [
    "\"\"\"\n",
    "    unique_users: getting unique user set \n",
    "    \n",
    "    default values given in function\n",
    "    n: number of users (5)\n",
    "    top_n: top number of recommendations (10)\n",
    "\"\"\"\n",
    "\n",
    "unique_users = set(ratings.userId)\n",
    "start_time = time.time()\n",
    "cross_fold_eval(unique_users)\n",
    "\n",
    "end_time = time.time() - start_time\n",
    "print(f'Time take {end_time} seconds')\n",
    "    \n",
    "    \n",
    "\n",
    "\n",
    "\n"
   ]
  },
  {
   "cell_type": "markdown",
   "metadata": {},
   "source": [
    "## Evaluation: Diversity\n",
    "\n",
    "### Approach 1: Intra List Similarity\n",
    "\n",
    "### Approach 2: Content diversity"
   ]
  },
  {
   "cell_type": "code",
   "execution_count": null,
   "metadata": {},
   "outputs": [],
   "source": []
  }
 ],
 "metadata": {
  "kernelspec": {
   "display_name": "Python 3",
   "language": "python",
   "name": "python3"
  },
  "language_info": {
   "codemirror_mode": {
    "name": "ipython",
    "version": 3
   },
   "file_extension": ".py",
   "mimetype": "text/x-python",
   "name": "python",
   "nbconvert_exporter": "python",
   "pygments_lexer": "ipython3",
   "version": "3.7.7"
  }
 },
 "nbformat": 4,
 "nbformat_minor": 4
}
