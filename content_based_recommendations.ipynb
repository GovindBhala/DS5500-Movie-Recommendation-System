{
 "cells": [
  {
   "cell_type": "code",
   "execution_count": 1,
   "metadata": {},
   "outputs": [],
   "source": [
    "import pandas as pd\n",
    "import os\n",
    "import numpy as np\n",
    "import matplotlib.pyplot as plt\n",
    "import seaborn as sns\n",
    "import datetime as datetime\n",
    "import operator\n",
    "import scipy.spatial.distance as distance\n",
    "import sklearn.metrics"
   ]
  },
  {
   "cell_type": "code",
   "execution_count": 2,
   "metadata": {},
   "outputs": [],
   "source": [
    "df = pd.read_pickle('processed_df.pkl')\n",
    "ratings = pd.read_pickle('ratings_sample.pkl')\n",
    "ratings = ratings.reset_index()"
   ]
  },
  {
   "cell_type": "code",
   "execution_count": 3,
   "metadata": {},
   "outputs": [],
   "source": [
    "movies = df.drop(columns = ['movieId', 'title_eng', 'year'])"
   ]
  },
  {
   "cell_type": "markdown",
   "metadata": {},
   "source": [
    "## Build Recommendations for 1 User\n",
    "To Do:\n",
    "- Extend to all users (function)\n",
    "- Test/train split so hold out some recommendations to evaluate against --> evaluate\n",
    "\n",
    "Extensions:\n",
    "- Include year (decade)?\n",
    "- Include text from description or genome tags\n",
    "- Downweight older ratings "
   ]
  },
  {
   "cell_type": "code",
   "execution_count": 28,
   "metadata": {},
   "outputs": [],
   "source": [
    "# limit to one user\n",
    "ratings_user = ratings[ratings.userId == 33]\n",
    "movies_user = df[df.movieId.isin(ratings_user.movieId.unique())]\n",
    "\n",
    "# keep track of movies already watched\n",
    "watched = movies_user.movieId.unique()\n",
    "\n",
    "movies_user = movies_user.drop(columns = ['movieId', 'title_eng', 'year'])"
   ]
  },
  {
   "cell_type": "code",
   "execution_count": 5,
   "metadata": {
    "scrolled": false
   },
   "outputs": [
    {
     "name": "stderr",
     "output_type": "stream",
     "text": [
      "c:\\users\\gimli\\appdata\\local\\programs\\python\\python38\\lib\\site-packages\\pandas\\core\\generic.py:5303: SettingWithCopyWarning: \n",
      "A value is trying to be set on a copy of a slice from a DataFrame.\n",
      "Try using .loc[row_indexer,col_indexer] = value instead\n",
      "\n",
      "See the caveats in the documentation: https://pandas.pydata.org/pandas-docs/stable/user_guide/indexing.html#returning-a-view-versus-a-copy\n",
      "  self[name] = value\n"
     ]
    }
   ],
   "source": [
    "# normalize ratings: subtract mean rating  from ratings\n",
    "# if rating < mean, normalized rating will be negative. Which is worse than 0 aka not rating movie at all.\n",
    "\n",
    "#### should this be averaged??\n",
    "\n",
    "mean_rating = np.mean(ratings_user.rating)\n",
    "ratings_user.rating = ratings_user.rating - mean_rating"
   ]
  },
  {
   "cell_type": "code",
   "execution_count": 6,
   "metadata": {},
   "outputs": [],
   "source": [
    "# create user profile: multiply item profile by user ratings --> sum of ratings for each attribute \n",
    "profile = movies_user.T.dot(ratings_user.rating.values)"
   ]
  },
  {
   "cell_type": "code",
   "execution_count": 17,
   "metadata": {
    "scrolled": true
   },
   "outputs": [],
   "source": [
    "# cosine similarity between movie and user profile \n",
    "movies = df.drop(columns = ['movieId', 'title_eng', 'year'])\n",
    "recommendations = sklearn.metrics.pairwise.cosine_similarity(movies, np.asmatrix(profile.values))"
   ]
  },
  {
   "cell_type": "code",
   "execution_count": 23,
   "metadata": {},
   "outputs": [],
   "source": [
    "recommendations = pd.DataFrame(recommendations)\n",
    "recommendations.columns = ['prediction']\n",
    "\n",
    "# merge to get title\n",
    "recommendations = pd.merge(recommendations, df[['title_eng', 'movieId']], left_index = True, right_index = True, how = 'left')\n",
    "\n",
    "# sort \n",
    "recommendations = recommendations.sort_values('prediction', ascending = False)"
   ]
  },
  {
   "cell_type": "code",
   "execution_count": 30,
   "metadata": {},
   "outputs": [],
   "source": [
    "# remove recommendations already watched\n",
    "recommendations = recommendations[~recommendations.movieId.isin(watched)]"
   ]
  },
  {
   "cell_type": "code",
   "execution_count": 31,
   "metadata": {},
   "outputs": [
    {
     "data": {
      "text/html": [
       "<div>\n",
       "<style scoped>\n",
       "    .dataframe tbody tr th:only-of-type {\n",
       "        vertical-align: middle;\n",
       "    }\n",
       "\n",
       "    .dataframe tbody tr th {\n",
       "        vertical-align: top;\n",
       "    }\n",
       "\n",
       "    .dataframe thead th {\n",
       "        text-align: right;\n",
       "    }\n",
       "</style>\n",
       "<table border=\"1\" class=\"dataframe\">\n",
       "  <thead>\n",
       "    <tr style=\"text-align: right;\">\n",
       "      <th></th>\n",
       "      <th>prediction</th>\n",
       "      <th>title_eng</th>\n",
       "      <th>movieId</th>\n",
       "    </tr>\n",
       "  </thead>\n",
       "  <tbody>\n",
       "    <tr>\n",
       "      <th>9372</th>\n",
       "      <td>0.337223</td>\n",
       "      <td>Batman Begins (2005)</td>\n",
       "      <td>33794</td>\n",
       "    </tr>\n",
       "    <tr>\n",
       "      <th>34855</th>\n",
       "      <td>0.323734</td>\n",
       "      <td>The Mediator (1990)</td>\n",
       "      <td>169978</td>\n",
       "    </tr>\n",
       "    <tr>\n",
       "      <th>44751</th>\n",
       "      <td>0.323734</td>\n",
       "      <td>Collider (2018)</td>\n",
       "      <td>207197</td>\n",
       "    </tr>\n",
       "    <tr>\n",
       "      <th>38786</th>\n",
       "      <td>0.323734</td>\n",
       "      <td>Battle Planet (2008)</td>\n",
       "      <td>184053</td>\n",
       "    </tr>\n",
       "    <tr>\n",
       "      <th>42293</th>\n",
       "      <td>0.323734</td>\n",
       "      <td>Molly (2017)</td>\n",
       "      <td>196703</td>\n",
       "    </tr>\n",
       "    <tr>\n",
       "      <th>...</th>\n",
       "      <td>...</td>\n",
       "      <td>...</td>\n",
       "      <td>...</td>\n",
       "    </tr>\n",
       "    <tr>\n",
       "      <th>4531</th>\n",
       "      <td>-0.375370</td>\n",
       "      <td>Novocaine (2001)</td>\n",
       "      <td>4898</td>\n",
       "    </tr>\n",
       "    <tr>\n",
       "      <th>20129</th>\n",
       "      <td>-0.375370</td>\n",
       "      <td>Docks of New Orleans (1948)</td>\n",
       "      <td>117608</td>\n",
       "    </tr>\n",
       "    <tr>\n",
       "      <th>14197</th>\n",
       "      <td>-0.381524</td>\n",
       "      <td>Karthik Calling Karthik (2010)</td>\n",
       "      <td>82097</td>\n",
       "    </tr>\n",
       "    <tr>\n",
       "      <th>22958</th>\n",
       "      <td>-0.381524</td>\n",
       "      <td>Inseparable (2011)</td>\n",
       "      <td>128273</td>\n",
       "    </tr>\n",
       "    <tr>\n",
       "      <th>22977</th>\n",
       "      <td>-0.404667</td>\n",
       "      <td>The Hateful Eight (2015)</td>\n",
       "      <td>128360</td>\n",
       "    </tr>\n",
       "  </tbody>\n",
       "</table>\n",
       "<p>45004 rows × 3 columns</p>\n",
       "</div>"
      ],
      "text/plain": [
       "       prediction                       title_eng  movieId\n",
       "9372     0.337223            Batman Begins (2005)    33794\n",
       "34855    0.323734             The Mediator (1990)   169978\n",
       "44751    0.323734                 Collider (2018)   207197\n",
       "38786    0.323734            Battle Planet (2008)   184053\n",
       "42293    0.323734                    Molly (2017)   196703\n",
       "...           ...                             ...      ...\n",
       "4531    -0.375370                Novocaine (2001)     4898\n",
       "20129   -0.375370     Docks of New Orleans (1948)   117608\n",
       "14197   -0.381524  Karthik Calling Karthik (2010)    82097\n",
       "22958   -0.381524              Inseparable (2011)   128273\n",
       "22977   -0.404667        The Hateful Eight (2015)   128360\n",
       "\n",
       "[45004 rows x 3 columns]"
      ]
     },
     "execution_count": 31,
     "metadata": {},
     "output_type": "execute_result"
    }
   ],
   "source": [
    "# movies with the same prediction -- should we secondarily sort by overall popularity of the movie?\n",
    "recommendations"
   ]
  }
 ],
 "metadata": {
  "kernelspec": {
   "display_name": "Python 3",
   "language": "python",
   "name": "python3"
  },
  "language_info": {
   "codemirror_mode": {
    "name": "ipython",
    "version": 3
   },
   "file_extension": ".py",
   "mimetype": "text/x-python",
   "name": "python",
   "nbconvert_exporter": "python",
   "pygments_lexer": "ipython3",
   "version": "3.8.3"
  }
 },
 "nbformat": 4,
 "nbformat_minor": 4
}
