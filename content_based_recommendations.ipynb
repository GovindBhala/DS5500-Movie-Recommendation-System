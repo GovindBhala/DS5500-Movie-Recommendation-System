{
 "cells": [
  {
   "cell_type": "code",
   "execution_count": 1,
   "metadata": {},
   "outputs": [],
   "source": [
    "import pandas as pd\n",
    "import os\n",
    "import numpy as np\n",
    "import matplotlib.pyplot as plt\n",
    "import seaborn as sns\n",
    "import datetime as datetime\n",
    "import operator\n",
    "import scipy.spatial.distance as distance\n",
    "from sklearn import metrics \n",
    "import random\n",
    "import time\n",
    "from sklearn.model_selection import train_test_split\n",
    "from sklearn.linear_model import LinearRegression\n",
    "import fastparquet"
   ]
  },
  {
   "cell_type": "code",
   "execution_count": 2,
   "metadata": {},
   "outputs": [],
   "source": [
    "df = pd.read_pickle('processed_df.pkl')\n",
    "ratings = pd.read_pickle('ratings_sample.pkl')\n",
    "ratings = ratings.reset_index()\n",
    "movies_raitings = pd.read_parquet('movies_ratings.parq')\n",
    "movies_raitings = movies_raitings.rename(columns={\"avg\": \"Average_Ratings\"})"
   ]
  },
  {
   "cell_type": "code",
   "execution_count": 3,
   "metadata": {},
   "outputs": [],
   "source": [
    "movies = df.drop(columns = ['movieId', 'title_eng', 'year'])"
   ]
  },
  {
   "cell_type": "markdown",
   "metadata": {},
   "source": [
    "## Build Recommendations for 1 User\n",
    "To Do:\n",
    "- Extend to all users (function) -done\n",
    "- Test/train split so hold out some recommendations to evaluate against --> evaluate\n",
    "\n",
    "Extensions:\n",
    "- Include year (decade)?\n",
    "- Include text from description or genome tags\n",
    "- Downweight older ratings \n",
    "\n",
    "Modification/Addition:\n",
    "\n",
    "- Added Personalization\n",
    "- Added Average Raitings with User Recommendation"
   ]
  },
  {
   "cell_type": "code",
   "execution_count": 6,
   "metadata": {},
   "outputs": [],
   "source": [
    "# limit to one user\n",
    "ratings_user = ratings[ratings.userId == 100]\n",
    "movies_user = df[df.movieId.isin(ratings_user.movieId.unique())]\n",
    "\n",
    "# keep track of movies already watched\n",
    "watched = movies_user.movieId.unique()\n",
    "\n",
    "movies_user = movies_user.drop(columns = ['movieId', 'title_eng', 'year'])"
   ]
  },
  {
   "cell_type": "code",
   "execution_count": 7,
   "metadata": {
    "scrolled": false
   },
   "outputs": [
    {
     "name": "stderr",
     "output_type": "stream",
     "text": [
      "/opt/anaconda3/lib/python3.7/site-packages/pandas/core/generic.py:5303: SettingWithCopyWarning: \n",
      "A value is trying to be set on a copy of a slice from a DataFrame.\n",
      "Try using .loc[row_indexer,col_indexer] = value instead\n",
      "\n",
      "See the caveats in the documentation: https://pandas.pydata.org/pandas-docs/stable/user_guide/indexing.html#returning-a-view-versus-a-copy\n",
      "  self[name] = value\n"
     ]
    }
   ],
   "source": [
    "# normalize ratings: subtract mean rating  from ratings\n",
    "# if rating < mean, normalized rating will be negative. Which is worse than 0 aka not rating movie at all.\n",
    "\n",
    "#### should this be averaged??\n",
    "\n",
    "mean_rating = np.mean(ratings_user.rating)\n",
    "ratings_user.rating = ratings_user.rating - mean_rating"
   ]
  },
  {
   "cell_type": "code",
   "execution_count": 8,
   "metadata": {},
   "outputs": [],
   "source": [
    "# create user profile: multiply item profile by user ratings --> sum of ratings for each attribute \n",
    "profile = movies_user.T.dot(ratings_user.rating.values)"
   ]
  },
  {
   "cell_type": "code",
   "execution_count": 12,
   "metadata": {
    "scrolled": true
   },
   "outputs": [],
   "source": [
    "# cosine similarity between movie and user profile \n",
    "movies = df.drop(columns = ['movieId', 'title_eng', 'year'])\n",
    "recommendations = metrics.pairwise.cosine_similarity(movies, np.asmatrix(profile.values))"
   ]
  },
  {
   "cell_type": "code",
   "execution_count": 13,
   "metadata": {},
   "outputs": [],
   "source": [
    "recommendations = pd.DataFrame(recommendations)\n",
    "recommendations.columns = ['prediction']\n",
    "\n",
    "# merge to get title\n",
    "recommendations = pd.merge(recommendations, df[['title_eng', 'movieId']], left_index = True, right_index = True, how = 'left')\n",
    "\n",
    "# sort \n",
    "recommendations = recommendations.sort_values('prediction', ascending = False)"
   ]
  },
  {
   "cell_type": "code",
   "execution_count": 14,
   "metadata": {},
   "outputs": [],
   "source": [
    "# remove recommendations already watched\n",
    "recommendations = recommendations[~recommendations.movieId.isin(watched)]"
   ]
  },
  {
   "cell_type": "code",
   "execution_count": 20,
   "metadata": {},
   "outputs": [
    {
     "data": {
      "text/plain": [
       "(44986, 3)"
      ]
     },
     "execution_count": 20,
     "metadata": {},
     "output_type": "execute_result"
    }
   ],
   "source": [
    "# movies with the same prediction -- should we secondarily sort by overall popularity of the movie?\n",
    "recommendations.shape"
   ]
  },
  {
   "cell_type": "code",
   "execution_count": 4,
   "metadata": {},
   "outputs": [],
   "source": [
    "def user_content_recommendations(user_id):   \n",
    "    \"\"\"\n",
    "    ratings_user: limit to one user\n",
    "    \n",
    "    movies_user: movies rated by that user\n",
    "    \n",
    "    watched: keep track of movies already watched\n",
    "    \n",
    "    normalize ratings: subtract mean rating  from ratings\n",
    "                       if rating < mean, normalized rating will be negative. Which is worse than 0 aka not rating movie at all.\n",
    "    \n",
    "    profile:create user profile: multiply item profile by user ratings --> sum of ratings for each attribute \n",
    "    \n",
    "    recommendations: cosine similarity between movie and user profile \n",
    "                     merge to get title\n",
    "                     sort\n",
    "                     remove recommendations already watched\n",
    "    \"\"\"\n",
    "\n",
    "    ratings_user = ratings[ratings.userId == user_id]\n",
    "    movies_user = df[df.movieId.isin(ratings_user.movieId.unique())]\n",
    "    watched = movies_user.movieId.unique()\n",
    "    movies_user = movies_user.drop(columns = ['movieId', 'title_eng', 'year'])\n",
    "    \n",
    "    mean_rating = np.mean(ratings_user.rating)\n",
    "    ratings_user.rating = ratings_user.rating - mean_rating\n",
    "\n",
    "    profile = movies_user.T.dot(ratings_user.rating.values)\n",
    "    \n",
    "    movies = df.drop(columns = ['movieId', 'title_eng', 'year'])\n",
    "   \n",
    "    recommendations = metrics.pairwise.cosine_similarity(movies, np.asmatrix(profile.values))\n",
    "    recommendations = pd.DataFrame(recommendations)\n",
    "    recommendations.columns = ['prediction']\n",
    "    recommendations = pd.merge(recommendations, df[['title_eng', 'movieId']], left_index = True, right_index = True, how = 'left')\n",
    "    recommendations = recommendations.sort_values('prediction', ascending = False)\n",
    "    recommendations = recommendations[~recommendations.movieId.isin(watched)]\n",
    "    recommen_ratings = pd.merge(recommendations,movies_raitings)\n",
    "    return recommen_ratings\n",
    "\n",
    "def user_top(movies,n):\n",
    "    return movies[['title_eng','Average_Ratings']][:n]\n",
    "\n",
    "def user_movie_id(movies,n):\n",
    "    return movies['movieId'][:n]"
   ]
  },
  {
   "cell_type": "markdown",
   "metadata": {},
   "source": [
    "### Getting top 10 and top 5 recommendation for user_id = 100 with Average Ratings"
   ]
  },
  {
   "cell_type": "code",
   "execution_count": 5,
   "metadata": {},
   "outputs": [
    {
     "name": "stderr",
     "output_type": "stream",
     "text": [
      "/opt/anaconda3/lib/python3.7/site-packages/pandas/core/generic.py:5303: SettingWithCopyWarning: \n",
      "A value is trying to be set on a copy of a slice from a DataFrame.\n",
      "Try using .loc[row_indexer,col_indexer] = value instead\n",
      "\n",
      "See the caveats in the documentation: https://pandas.pydata.org/pandas-docs/stable/user_guide/indexing.html#returning-a-view-versus-a-copy\n",
      "  self[name] = value\n"
     ]
    }
   ],
   "source": [
    "userId=100\n",
    "recommendation = user_content_recommendations(userId)"
   ]
  },
  {
   "cell_type": "code",
   "execution_count": 8,
   "metadata": {},
   "outputs": [
    {
     "data": {
      "text/html": [
       "<div>\n",
       "<style scoped>\n",
       "    .dataframe tbody tr th:only-of-type {\n",
       "        vertical-align: middle;\n",
       "    }\n",
       "\n",
       "    .dataframe tbody tr th {\n",
       "        vertical-align: top;\n",
       "    }\n",
       "\n",
       "    .dataframe thead th {\n",
       "        text-align: right;\n",
       "    }\n",
       "</style>\n",
       "<table border=\"1\" class=\"dataframe\">\n",
       "  <thead>\n",
       "    <tr style=\"text-align: right;\">\n",
       "      <th></th>\n",
       "      <th>title_eng</th>\n",
       "      <th>Average_Ratings</th>\n",
       "    </tr>\n",
       "  </thead>\n",
       "  <tbody>\n",
       "    <tr>\n",
       "      <th>0</th>\n",
       "      <td>Deadline (1987)</td>\n",
       "      <td>2.000000</td>\n",
       "    </tr>\n",
       "    <tr>\n",
       "      <th>1</th>\n",
       "      <td>In August of 1944 (2001)</td>\n",
       "      <td>2.000000</td>\n",
       "    </tr>\n",
       "    <tr>\n",
       "      <th>2</th>\n",
       "      <td>Forbidden Christ, The (Cristo proibito, Il) (1...</td>\n",
       "      <td>3.395833</td>\n",
       "    </tr>\n",
       "    <tr>\n",
       "      <th>3</th>\n",
       "      <td>Broken (2014)</td>\n",
       "      <td>3.583333</td>\n",
       "    </tr>\n",
       "    <tr>\n",
       "      <th>4</th>\n",
       "      <td>Crimes of the Past (2009)</td>\n",
       "      <td>1.500000</td>\n",
       "    </tr>\n",
       "    <tr>\n",
       "      <th>5</th>\n",
       "      <td>Ground Zero (1987)</td>\n",
       "      <td>3.250000</td>\n",
       "    </tr>\n",
       "    <tr>\n",
       "      <th>6</th>\n",
       "      <td>Deo pa-i-beu (2013)</td>\n",
       "      <td>3.000000</td>\n",
       "    </tr>\n",
       "    <tr>\n",
       "      <th>7</th>\n",
       "      <td>Electra Glide in Blue (1973)</td>\n",
       "      <td>3.400000</td>\n",
       "    </tr>\n",
       "    <tr>\n",
       "      <th>8</th>\n",
       "      <td>N.H 10 (2015)</td>\n",
       "      <td>3.666667</td>\n",
       "    </tr>\n",
       "    <tr>\n",
       "      <th>9</th>\n",
       "      <td>Citizen (2001)</td>\n",
       "      <td>3.500000</td>\n",
       "    </tr>\n",
       "  </tbody>\n",
       "</table>\n",
       "</div>"
      ],
      "text/plain": [
       "                                           title_eng  Average_Ratings\n",
       "0                                    Deadline (1987)         2.000000\n",
       "1                           In August of 1944 (2001)         2.000000\n",
       "2  Forbidden Christ, The (Cristo proibito, Il) (1...         3.395833\n",
       "3                                      Broken (2014)         3.583333\n",
       "4                          Crimes of the Past (2009)         1.500000\n",
       "5                                 Ground Zero (1987)         3.250000\n",
       "6                                Deo pa-i-beu (2013)         3.000000\n",
       "7                       Electra Glide in Blue (1973)         3.400000\n",
       "8                                      N.H 10 (2015)         3.666667\n",
       "9                                     Citizen (2001)         3.500000"
      ]
     },
     "execution_count": 8,
     "metadata": {},
     "output_type": "execute_result"
    }
   ],
   "source": [
    "# Get the top 10 Movie recommendation for the user\n",
    "user_top(recommendation,10)"
   ]
  },
  {
   "cell_type": "code",
   "execution_count": 9,
   "metadata": {},
   "outputs": [
    {
     "data": {
      "text/html": [
       "<div>\n",
       "<style scoped>\n",
       "    .dataframe tbody tr th:only-of-type {\n",
       "        vertical-align: middle;\n",
       "    }\n",
       "\n",
       "    .dataframe tbody tr th {\n",
       "        vertical-align: top;\n",
       "    }\n",
       "\n",
       "    .dataframe thead th {\n",
       "        text-align: right;\n",
       "    }\n",
       "</style>\n",
       "<table border=\"1\" class=\"dataframe\">\n",
       "  <thead>\n",
       "    <tr style=\"text-align: right;\">\n",
       "      <th></th>\n",
       "      <th>title_eng</th>\n",
       "      <th>Average_Ratings</th>\n",
       "    </tr>\n",
       "  </thead>\n",
       "  <tbody>\n",
       "    <tr>\n",
       "      <th>0</th>\n",
       "      <td>Deadline (1987)</td>\n",
       "      <td>2.000000</td>\n",
       "    </tr>\n",
       "    <tr>\n",
       "      <th>1</th>\n",
       "      <td>In August of 1944 (2001)</td>\n",
       "      <td>2.000000</td>\n",
       "    </tr>\n",
       "    <tr>\n",
       "      <th>2</th>\n",
       "      <td>Forbidden Christ, The (Cristo proibito, Il) (1...</td>\n",
       "      <td>3.395833</td>\n",
       "    </tr>\n",
       "    <tr>\n",
       "      <th>3</th>\n",
       "      <td>Broken (2014)</td>\n",
       "      <td>3.583333</td>\n",
       "    </tr>\n",
       "    <tr>\n",
       "      <th>4</th>\n",
       "      <td>Crimes of the Past (2009)</td>\n",
       "      <td>1.500000</td>\n",
       "    </tr>\n",
       "  </tbody>\n",
       "</table>\n",
       "</div>"
      ],
      "text/plain": [
       "                                           title_eng  Average_Ratings\n",
       "0                                    Deadline (1987)         2.000000\n",
       "1                           In August of 1944 (2001)         2.000000\n",
       "2  Forbidden Christ, The (Cristo proibito, Il) (1...         3.395833\n",
       "3                                      Broken (2014)         3.583333\n",
       "4                          Crimes of the Past (2009)         1.500000"
      ]
     },
     "execution_count": 9,
     "metadata": {},
     "output_type": "execute_result"
    }
   ],
   "source": [
    "# Get the top 5 Movie recommendation for the user\n",
    "user_top(recommendation,5)"
   ]
  },
  {
   "cell_type": "markdown",
   "metadata": {},
   "source": [
    "## Evaluation: Personalization\n",
    "\n"
   ]
  },
  {
   "cell_type": "code",
   "execution_count": 35,
   "metadata": {},
   "outputs": [],
   "source": [
    "\"\"\"\n",
    "get_users_prediction: returns user prediction\n",
    "\n",
    "user_matrix: generated user by movies, 0: movie not recommended, 1: movie got recommended\n",
    "\n",
    "\"\"\"\n",
    "def get_users_prediction(users_list,top_n,users_prediction):\n",
    "    for i in users_list:\n",
    "        recommendation = user_content_recommendations(i)\n",
    "        prediction = user_movie_id(recommendation,top_n).astype(int).values\n",
    "        users_prediction = users_prediction.append(pd.Series(prediction),ignore_index=True)\n",
    "        \n",
    "    return users_prediction\n",
    "\n",
    "def user_matrix(users_pred):\n",
    "    data_melt= pd.DataFrame(data=users_pred).reset_index().melt(id_vars='index', value_name='movieId',)\n",
    "    data_melt = data_melt[['index', 'movieId']].pivot(index='index', columns='movieId', values='movieId')\n",
    "    cols = data_melt.columns\n",
    "    for i in cols:\n",
    "        data_melt[i] = np.where(data_melt[i].isna(), 0, 1)\n",
    "    return data_melt\n",
    "\n",
    "\n",
    "def personalization(users_matrix,n):\n",
    "    # generating cosine similarity between the users\n",
    "    #then getting the indicies of elements above diagonal (giving diagonal offsert =1 in triu_indices)\n",
    "    #calculating the avg of the element above diagonal \n",
    "    #Personalization means 1 - similarity\n",
    "    #higher the personalization score, better the recommendation system in recommending personalized movies\n",
    "   \n",
    "    users_sim = sklearn.metrics.pairwise.cosine_similarity(users_matrix)\n",
    "    iu1 = np.triu_indices(n,k=1)\n",
    "    similarity_avg = np.mean(users_sim[iu1])\n",
    "    personalization_score = 1 - similarity_avg\n",
    "\n",
    "    return personalization_score\n",
    "\n",
    "def cross_fold_eval(unique_users,k_fold=5,n=5,top_n=10):\n",
    "    #users_list: List of random n users\n",
    "    \n",
    "    kfold_personalization=0\n",
    "    for i in range(k_fold):\n",
    "        users_list = random.sample(unique_users, n)\n",
    "        \n",
    "        #columns: top_n recommendations\n",
    "        #users_prediction:  top_n recommendations for n users\n",
    "        column_names = list(range(top_n))\n",
    "        users_prediction = pd.DataFrame(columns = column_names)\n",
    "        \n",
    "        # getting predictions for sampled users\n",
    "        users_pred = get_users_prediction(users_list,top_n,users_prediction)\n",
    "        \n",
    "        # getting user by movies matrix with binary indicators 0: movie not recommended, 1: movie got recommended\n",
    "        users_matrix = user_matrix(users_pred)\n",
    "        kfold_personalization+=personalization(users_matrix,n)\n",
    "    kfold_eval = kfold_personalization/k_fold\n",
    "    print(f'Personalization score for {k_fold} k_fols validation: {kfold_eval}')\n",
    "        "
   ]
  },
  {
   "cell_type": "code",
   "execution_count": 36,
   "metadata": {
    "scrolled": false
   },
   "outputs": [
    {
     "name": "stderr",
     "output_type": "stream",
     "text": [
      "/opt/anaconda3/envs/Peritia1/lib/python3.7/site-packages/pandas/core/generic.py:5303: SettingWithCopyWarning: \n",
      "A value is trying to be set on a copy of a slice from a DataFrame.\n",
      "Try using .loc[row_indexer,col_indexer] = value instead\n",
      "\n",
      "See the caveats in the documentation: https://pandas.pydata.org/pandas-docs/stable/user_guide/indexing.html#returning-a-view-versus-a-copy\n",
      "  self[name] = value\n",
      "/opt/anaconda3/envs/Peritia1/lib/python3.7/site-packages/pandas/core/generic.py:5303: SettingWithCopyWarning: \n",
      "A value is trying to be set on a copy of a slice from a DataFrame.\n",
      "Try using .loc[row_indexer,col_indexer] = value instead\n",
      "\n",
      "See the caveats in the documentation: https://pandas.pydata.org/pandas-docs/stable/user_guide/indexing.html#returning-a-view-versus-a-copy\n",
      "  self[name] = value\n",
      "/opt/anaconda3/envs/Peritia1/lib/python3.7/site-packages/pandas/core/generic.py:5303: SettingWithCopyWarning: \n",
      "A value is trying to be set on a copy of a slice from a DataFrame.\n",
      "Try using .loc[row_indexer,col_indexer] = value instead\n",
      "\n",
      "See the caveats in the documentation: https://pandas.pydata.org/pandas-docs/stable/user_guide/indexing.html#returning-a-view-versus-a-copy\n",
      "  self[name] = value\n",
      "/opt/anaconda3/envs/Peritia1/lib/python3.7/site-packages/pandas/core/generic.py:5303: SettingWithCopyWarning: \n",
      "A value is trying to be set on a copy of a slice from a DataFrame.\n",
      "Try using .loc[row_indexer,col_indexer] = value instead\n",
      "\n",
      "See the caveats in the documentation: https://pandas.pydata.org/pandas-docs/stable/user_guide/indexing.html#returning-a-view-versus-a-copy\n",
      "  self[name] = value\n",
      "/opt/anaconda3/envs/Peritia1/lib/python3.7/site-packages/pandas/core/generic.py:5303: SettingWithCopyWarning: \n",
      "A value is trying to be set on a copy of a slice from a DataFrame.\n",
      "Try using .loc[row_indexer,col_indexer] = value instead\n",
      "\n",
      "See the caveats in the documentation: https://pandas.pydata.org/pandas-docs/stable/user_guide/indexing.html#returning-a-view-versus-a-copy\n",
      "  self[name] = value\n",
      "/opt/anaconda3/envs/Peritia1/lib/python3.7/site-packages/pandas/core/generic.py:5303: SettingWithCopyWarning: \n",
      "A value is trying to be set on a copy of a slice from a DataFrame.\n",
      "Try using .loc[row_indexer,col_indexer] = value instead\n",
      "\n",
      "See the caveats in the documentation: https://pandas.pydata.org/pandas-docs/stable/user_guide/indexing.html#returning-a-view-versus-a-copy\n",
      "  self[name] = value\n",
      "/opt/anaconda3/envs/Peritia1/lib/python3.7/site-packages/pandas/core/generic.py:5303: SettingWithCopyWarning: \n",
      "A value is trying to be set on a copy of a slice from a DataFrame.\n",
      "Try using .loc[row_indexer,col_indexer] = value instead\n",
      "\n",
      "See the caveats in the documentation: https://pandas.pydata.org/pandas-docs/stable/user_guide/indexing.html#returning-a-view-versus-a-copy\n",
      "  self[name] = value\n",
      "/opt/anaconda3/envs/Peritia1/lib/python3.7/site-packages/pandas/core/generic.py:5303: SettingWithCopyWarning: \n",
      "A value is trying to be set on a copy of a slice from a DataFrame.\n",
      "Try using .loc[row_indexer,col_indexer] = value instead\n",
      "\n",
      "See the caveats in the documentation: https://pandas.pydata.org/pandas-docs/stable/user_guide/indexing.html#returning-a-view-versus-a-copy\n",
      "  self[name] = value\n",
      "/opt/anaconda3/envs/Peritia1/lib/python3.7/site-packages/pandas/core/generic.py:5303: SettingWithCopyWarning: \n",
      "A value is trying to be set on a copy of a slice from a DataFrame.\n",
      "Try using .loc[row_indexer,col_indexer] = value instead\n",
      "\n",
      "See the caveats in the documentation: https://pandas.pydata.org/pandas-docs/stable/user_guide/indexing.html#returning-a-view-versus-a-copy\n",
      "  self[name] = value\n",
      "/opt/anaconda3/envs/Peritia1/lib/python3.7/site-packages/pandas/core/generic.py:5303: SettingWithCopyWarning: \n",
      "A value is trying to be set on a copy of a slice from a DataFrame.\n",
      "Try using .loc[row_indexer,col_indexer] = value instead\n",
      "\n",
      "See the caveats in the documentation: https://pandas.pydata.org/pandas-docs/stable/user_guide/indexing.html#returning-a-view-versus-a-copy\n",
      "  self[name] = value\n",
      "/opt/anaconda3/envs/Peritia1/lib/python3.7/site-packages/pandas/core/generic.py:5303: SettingWithCopyWarning: \n",
      "A value is trying to be set on a copy of a slice from a DataFrame.\n",
      "Try using .loc[row_indexer,col_indexer] = value instead\n",
      "\n",
      "See the caveats in the documentation: https://pandas.pydata.org/pandas-docs/stable/user_guide/indexing.html#returning-a-view-versus-a-copy\n",
      "  self[name] = value\n",
      "/opt/anaconda3/envs/Peritia1/lib/python3.7/site-packages/pandas/core/generic.py:5303: SettingWithCopyWarning: \n",
      "A value is trying to be set on a copy of a slice from a DataFrame.\n",
      "Try using .loc[row_indexer,col_indexer] = value instead\n",
      "\n",
      "See the caveats in the documentation: https://pandas.pydata.org/pandas-docs/stable/user_guide/indexing.html#returning-a-view-versus-a-copy\n",
      "  self[name] = value\n",
      "/opt/anaconda3/envs/Peritia1/lib/python3.7/site-packages/pandas/core/generic.py:5303: SettingWithCopyWarning: \n",
      "A value is trying to be set on a copy of a slice from a DataFrame.\n",
      "Try using .loc[row_indexer,col_indexer] = value instead\n",
      "\n",
      "See the caveats in the documentation: https://pandas.pydata.org/pandas-docs/stable/user_guide/indexing.html#returning-a-view-versus-a-copy\n",
      "  self[name] = value\n",
      "/opt/anaconda3/envs/Peritia1/lib/python3.7/site-packages/pandas/core/generic.py:5303: SettingWithCopyWarning: \n",
      "A value is trying to be set on a copy of a slice from a DataFrame.\n",
      "Try using .loc[row_indexer,col_indexer] = value instead\n",
      "\n",
      "See the caveats in the documentation: https://pandas.pydata.org/pandas-docs/stable/user_guide/indexing.html#returning-a-view-versus-a-copy\n",
      "  self[name] = value\n",
      "/opt/anaconda3/envs/Peritia1/lib/python3.7/site-packages/pandas/core/generic.py:5303: SettingWithCopyWarning: \n",
      "A value is trying to be set on a copy of a slice from a DataFrame.\n",
      "Try using .loc[row_indexer,col_indexer] = value instead\n",
      "\n",
      "See the caveats in the documentation: https://pandas.pydata.org/pandas-docs/stable/user_guide/indexing.html#returning-a-view-versus-a-copy\n",
      "  self[name] = value\n",
      "/opt/anaconda3/envs/Peritia1/lib/python3.7/site-packages/pandas/core/generic.py:5303: SettingWithCopyWarning: \n",
      "A value is trying to be set on a copy of a slice from a DataFrame.\n",
      "Try using .loc[row_indexer,col_indexer] = value instead\n",
      "\n",
      "See the caveats in the documentation: https://pandas.pydata.org/pandas-docs/stable/user_guide/indexing.html#returning-a-view-versus-a-copy\n",
      "  self[name] = value\n",
      "/opt/anaconda3/envs/Peritia1/lib/python3.7/site-packages/pandas/core/generic.py:5303: SettingWithCopyWarning: \n",
      "A value is trying to be set on a copy of a slice from a DataFrame.\n",
      "Try using .loc[row_indexer,col_indexer] = value instead\n",
      "\n",
      "See the caveats in the documentation: https://pandas.pydata.org/pandas-docs/stable/user_guide/indexing.html#returning-a-view-versus-a-copy\n",
      "  self[name] = value\n",
      "/opt/anaconda3/envs/Peritia1/lib/python3.7/site-packages/pandas/core/generic.py:5303: SettingWithCopyWarning: \n",
      "A value is trying to be set on a copy of a slice from a DataFrame.\n",
      "Try using .loc[row_indexer,col_indexer] = value instead\n",
      "\n",
      "See the caveats in the documentation: https://pandas.pydata.org/pandas-docs/stable/user_guide/indexing.html#returning-a-view-versus-a-copy\n",
      "  self[name] = value\n",
      "/opt/anaconda3/envs/Peritia1/lib/python3.7/site-packages/pandas/core/generic.py:5303: SettingWithCopyWarning: \n",
      "A value is trying to be set on a copy of a slice from a DataFrame.\n",
      "Try using .loc[row_indexer,col_indexer] = value instead\n",
      "\n",
      "See the caveats in the documentation: https://pandas.pydata.org/pandas-docs/stable/user_guide/indexing.html#returning-a-view-versus-a-copy\n",
      "  self[name] = value\n",
      "/opt/anaconda3/envs/Peritia1/lib/python3.7/site-packages/pandas/core/generic.py:5303: SettingWithCopyWarning: \n",
      "A value is trying to be set on a copy of a slice from a DataFrame.\n",
      "Try using .loc[row_indexer,col_indexer] = value instead\n",
      "\n",
      "See the caveats in the documentation: https://pandas.pydata.org/pandas-docs/stable/user_guide/indexing.html#returning-a-view-versus-a-copy\n",
      "  self[name] = value\n",
      "/opt/anaconda3/envs/Peritia1/lib/python3.7/site-packages/pandas/core/generic.py:5303: SettingWithCopyWarning: \n",
      "A value is trying to be set on a copy of a slice from a DataFrame.\n",
      "Try using .loc[row_indexer,col_indexer] = value instead\n",
      "\n",
      "See the caveats in the documentation: https://pandas.pydata.org/pandas-docs/stable/user_guide/indexing.html#returning-a-view-versus-a-copy\n",
      "  self[name] = value\n"
     ]
    },
    {
     "name": "stderr",
     "output_type": "stream",
     "text": [
      "/opt/anaconda3/envs/Peritia1/lib/python3.7/site-packages/pandas/core/generic.py:5303: SettingWithCopyWarning: \n",
      "A value is trying to be set on a copy of a slice from a DataFrame.\n",
      "Try using .loc[row_indexer,col_indexer] = value instead\n",
      "\n",
      "See the caveats in the documentation: https://pandas.pydata.org/pandas-docs/stable/user_guide/indexing.html#returning-a-view-versus-a-copy\n",
      "  self[name] = value\n",
      "/opt/anaconda3/envs/Peritia1/lib/python3.7/site-packages/pandas/core/generic.py:5303: SettingWithCopyWarning: \n",
      "A value is trying to be set on a copy of a slice from a DataFrame.\n",
      "Try using .loc[row_indexer,col_indexer] = value instead\n",
      "\n",
      "See the caveats in the documentation: https://pandas.pydata.org/pandas-docs/stable/user_guide/indexing.html#returning-a-view-versus-a-copy\n",
      "  self[name] = value\n",
      "/opt/anaconda3/envs/Peritia1/lib/python3.7/site-packages/pandas/core/generic.py:5303: SettingWithCopyWarning: \n",
      "A value is trying to be set on a copy of a slice from a DataFrame.\n",
      "Try using .loc[row_indexer,col_indexer] = value instead\n",
      "\n",
      "See the caveats in the documentation: https://pandas.pydata.org/pandas-docs/stable/user_guide/indexing.html#returning-a-view-versus-a-copy\n",
      "  self[name] = value\n",
      "/opt/anaconda3/envs/Peritia1/lib/python3.7/site-packages/pandas/core/generic.py:5303: SettingWithCopyWarning: \n",
      "A value is trying to be set on a copy of a slice from a DataFrame.\n",
      "Try using .loc[row_indexer,col_indexer] = value instead\n",
      "\n",
      "See the caveats in the documentation: https://pandas.pydata.org/pandas-docs/stable/user_guide/indexing.html#returning-a-view-versus-a-copy\n",
      "  self[name] = value\n"
     ]
    },
    {
     "name": "stdout",
     "output_type": "stream",
     "text": [
      "Personalization score for 5 k_fols validation: 1.0\n",
      "Time take 964.5071740150452 seconds\n"
     ]
    }
   ],
   "source": [
    "\"\"\"\n",
    "    unique_users: getting unique user set \n",
    "    \n",
    "    default values given in function\n",
    "    n: number of users (5)\n",
    "    top_n: top number of recommendations (10)\n",
    "\"\"\"\n",
    "\n",
    "unique_users = set(ratings.userId)\n",
    "start_time = time.time()\n",
    "cross_fold_eval(unique_users)\n",
    "\n",
    "end_time = time.time() - start_time\n",
    "print(f'Time take {end_time} seconds')\n",
    "    \n",
    "    \n",
    "\n",
    "\n",
    "\n"
   ]
  },
  {
   "cell_type": "markdown",
   "metadata": {},
   "source": [
    "# Precision and Recall "
   ]
  },
  {
   "cell_type": "markdown",
   "metadata": {},
   "source": [
    "### Keeping the users who have rated minimum of 20 movies"
   ]
  },
  {
   "cell_type": "code",
   "execution_count": 10,
   "metadata": {},
   "outputs": [],
   "source": [
    "user_list = ratings.groupby('userId')['userId'].count().reset_index(name=\"rating_count\")"
   ]
  },
  {
   "cell_type": "code",
   "execution_count": 39,
   "metadata": {},
   "outputs": [],
   "source": [
    "users_list = set(user_list[user_list['rating_count']>=20]['userId'].values)"
   ]
  },
  {
   "cell_type": "code",
   "execution_count": 40,
   "metadata": {},
   "outputs": [
    {
     "name": "stdout",
     "output_type": "stream",
     "text": [
      " Number of users who rated at least 20 movies: 115856\n"
     ]
    }
   ],
   "source": [
    "print(f' Number of users who rated at least 20 movies: {len(users_list)}')"
   ]
  },
  {
   "cell_type": "code",
   "execution_count": 41,
   "metadata": {},
   "outputs": [],
   "source": [
    "n_users = 1000\n",
    "random_users = random.sample(users_list, n_users)"
   ]
  },
  {
   "cell_type": "code",
   "execution_count": 42,
   "metadata": {},
   "outputs": [],
   "source": [
    "users_ratings = ratings[ratings.userId.isin(random_users)]"
   ]
  },
  {
   "cell_type": "code",
   "execution_count": 43,
   "metadata": {},
   "outputs": [
    {
     "data": {
      "text/plain": [
       "94364"
      ]
     },
     "execution_count": 43,
     "metadata": {},
     "output_type": "execute_result"
    }
   ],
   "source": [
    "len(users_ratings)"
   ]
  },
  {
   "cell_type": "markdown",
   "metadata": {},
   "source": [
    "### train/test split - Keeping the users distribution similar"
   ]
  },
  {
   "cell_type": "code",
   "execution_count": 44,
   "metadata": {},
   "outputs": [],
   "source": [
    "# creating train/test empty dataframe\n",
    "\n",
    "train = pd.DataFrame(columns=['index','userId', 'movieId', 'rating','timestamp'])\n",
    "test = pd.DataFrame(columns=['index','userId', 'movieId', 'rating','timestamp'])"
   ]
  },
  {
   "cell_type": "code",
   "execution_count": 45,
   "metadata": {},
   "outputs": [],
   "source": [
    "# spliting each user data equally in train test\n",
    "for i in random_users:\n",
    "    #getting individual user index\n",
    "    random_index =set(users_ratings[users_ratings['userId'] == i].index.values)\n",
    "    \n",
    "    # dividing the user ratings count/2\n",
    "    n_len = np.math.floor(len(random_index)/2)\n",
    "    \n",
    "\n",
    "    # getting index for train data\n",
    "    train_ind = set(random.sample(random_index, n_len))\n",
    "\n",
    "    # getting index for test data by removing train index from all index for that user\n",
    "    test_ind = set(random_index-train_ind)\n",
    "    \n",
    "\n",
    "    # getting data for that user\n",
    "    df_train = users_ratings.loc[train_ind]\n",
    "    df_test = users_ratings.loc[test_ind]\n",
    "    # appending that user data to train/test df\n",
    "    \n",
    "    train = train.append(df_train)\n",
    "    test = test.append(df_test)"
   ]
  },
  {
   "cell_type": "markdown",
   "metadata": {},
   "source": [
    "#### Train Records"
   ]
  },
  {
   "cell_type": "code",
   "execution_count": 46,
   "metadata": {},
   "outputs": [
    {
     "data": {
      "text/plain": [
       "(46937, 5)"
      ]
     },
     "execution_count": 46,
     "metadata": {},
     "output_type": "execute_result"
    }
   ],
   "source": [
    "train.shape"
   ]
  },
  {
   "cell_type": "markdown",
   "metadata": {},
   "source": [
    "#### Test Records"
   ]
  },
  {
   "cell_type": "code",
   "execution_count": 47,
   "metadata": {},
   "outputs": [
    {
     "data": {
      "text/plain": [
       "(47427, 5)"
      ]
     },
     "execution_count": 47,
     "metadata": {},
     "output_type": "execute_result"
    }
   ],
   "source": [
    "test.shape"
   ]
  },
  {
   "cell_type": "markdown",
   "metadata": {},
   "source": [
    "#### random sample a user from train set"
   ]
  },
  {
   "cell_type": "code",
   "execution_count": 48,
   "metadata": {},
   "outputs": [
    {
     "data": {
      "text/plain": [
       "70527"
      ]
     },
     "execution_count": 48,
     "metadata": {},
     "output_type": "execute_result"
    }
   ],
   "source": [
    "train_user_id = set(train.userId.values)\n",
    "random_userId = random.sample(train_user_id, 1)\n",
    "random_userId[0]"
   ]
  },
  {
   "cell_type": "markdown",
   "metadata": {},
   "source": [
    "## get recommendations for the user"
   ]
  },
  {
   "cell_type": "code",
   "execution_count": 49,
   "metadata": {},
   "outputs": [
    {
     "name": "stderr",
     "output_type": "stream",
     "text": [
      "/opt/anaconda3/lib/python3.7/site-packages/pandas/core/generic.py:5303: SettingWithCopyWarning: \n",
      "A value is trying to be set on a copy of a slice from a DataFrame.\n",
      "Try using .loc[row_indexer,col_indexer] = value instead\n",
      "\n",
      "See the caveats in the documentation: https://pandas.pydata.org/pandas-docs/stable/user_guide/indexing.html#returning-a-view-versus-a-copy\n",
      "  self[name] = value\n"
     ]
    },
    {
     "data": {
      "text/html": [
       "<div>\n",
       "<style scoped>\n",
       "    .dataframe tbody tr th:only-of-type {\n",
       "        vertical-align: middle;\n",
       "    }\n",
       "\n",
       "    .dataframe tbody tr th {\n",
       "        vertical-align: top;\n",
       "    }\n",
       "\n",
       "    .dataframe thead th {\n",
       "        text-align: right;\n",
       "    }\n",
       "</style>\n",
       "<table border=\"1\" class=\"dataframe\">\n",
       "  <thead>\n",
       "    <tr style=\"text-align: right;\">\n",
       "      <th></th>\n",
       "      <th>title_eng</th>\n",
       "      <th>Average_Ratings</th>\n",
       "    </tr>\n",
       "  </thead>\n",
       "  <tbody>\n",
       "    <tr>\n",
       "      <th>0</th>\n",
       "      <td>High Lane (2009)</td>\n",
       "      <td>3.000000</td>\n",
       "    </tr>\n",
       "    <tr>\n",
       "      <th>1</th>\n",
       "      <td>Fury: The Tales of Ronan Pierce (2014)</td>\n",
       "      <td>5.000000</td>\n",
       "    </tr>\n",
       "    <tr>\n",
       "      <th>2</th>\n",
       "      <td>Jaws 3-D (1983)</td>\n",
       "      <td>1.828405</td>\n",
       "    </tr>\n",
       "    <tr>\n",
       "      <th>3</th>\n",
       "      <td>Extinction (2014)</td>\n",
       "      <td>1.000000</td>\n",
       "    </tr>\n",
       "    <tr>\n",
       "      <th>4</th>\n",
       "      <td>Robin Hood (2018)</td>\n",
       "      <td>2.587500</td>\n",
       "    </tr>\n",
       "    <tr>\n",
       "      <th>5</th>\n",
       "      <td>A Viking Saga: The Darkest Day (2013)</td>\n",
       "      <td>5.000000</td>\n",
       "    </tr>\n",
       "    <tr>\n",
       "      <th>6</th>\n",
       "      <td>On Deadly Ground (1994)</td>\n",
       "      <td>1.919118</td>\n",
       "    </tr>\n",
       "    <tr>\n",
       "      <th>7</th>\n",
       "      <td>Tough Luck (2004)</td>\n",
       "      <td>2.000000</td>\n",
       "    </tr>\n",
       "    <tr>\n",
       "      <th>8</th>\n",
       "      <td>Soldiers of Fortune (2012)</td>\n",
       "      <td>2.636364</td>\n",
       "    </tr>\n",
       "    <tr>\n",
       "      <th>9</th>\n",
       "      <td>Contract Killers (2009)</td>\n",
       "      <td>2.666667</td>\n",
       "    </tr>\n",
       "  </tbody>\n",
       "</table>\n",
       "</div>"
      ],
      "text/plain": [
       "                                title_eng  Average_Ratings\n",
       "0                        High Lane (2009)         3.000000\n",
       "1  Fury: The Tales of Ronan Pierce (2014)         5.000000\n",
       "2                         Jaws 3-D (1983)         1.828405\n",
       "3                       Extinction (2014)         1.000000\n",
       "4                       Robin Hood (2018)         2.587500\n",
       "5   A Viking Saga: The Darkest Day (2013)         5.000000\n",
       "6                 On Deadly Ground (1994)         1.919118\n",
       "7                       Tough Luck (2004)         2.000000\n",
       "8              Soldiers of Fortune (2012)         2.636364\n",
       "9                 Contract Killers (2009)         2.666667"
      ]
     },
     "execution_count": 49,
     "metadata": {},
     "output_type": "execute_result"
    }
   ],
   "source": [
    "recommendation = user_content_recommendations(random_userId[0])\n",
    "user_top(recommendation,10)"
   ]
  },
  {
   "cell_type": "markdown",
   "metadata": {},
   "source": [
    "## Precision@k  and Recall @k\n",
    "\n",
    "\n",
    "### Relevant item: Has in test with rating >= 3\n",
    "### Precision@k = (# of recommended items @k that are relevant) / (# of recommended items @k)\n",
    "\n",
    "### Recall@k = (# of recommended items @k that are relevant) / (total # of relevant items)"
   ]
  },
  {
   "cell_type": "code",
   "execution_count": 59,
   "metadata": {},
   "outputs": [],
   "source": [
    "# giving k\n",
    "k =5\n",
    "\n",
    "# getting the recommended movies @k\n",
    "recommended_movies = set(recommendation[:k].movieId)\n",
    "\n",
    "# number of recommended movie @k\n",
    "recommended_count = k"
   ]
  },
  {
   "cell_type": "code",
   "execution_count": 60,
   "metadata": {},
   "outputs": [],
   "source": [
    "# getting relevant movies, where ratings >=3.5\n",
    "\n",
    "relevant_movies =set(test[(test['userId']==random_userId[0]) & (test['rating']>=3) ]['movieId'].values)"
   ]
  },
  {
   "cell_type": "code",
   "execution_count": 61,
   "metadata": {},
   "outputs": [],
   "source": [
    "# Total number of relevant movie\n",
    "relevant_count = len(relevant_movies)"
   ]
  },
  {
   "cell_type": "code",
   "execution_count": 62,
   "metadata": {},
   "outputs": [],
   "source": [
    "# Getting movies that are relevant and recommended\n",
    "recommended_relevant_movies = recommended_movies.intersection(relevant_movies)"
   ]
  },
  {
   "cell_type": "code",
   "execution_count": 63,
   "metadata": {},
   "outputs": [],
   "source": [
    "# number of relevant recommended movies\n",
    "recommended_relevant_count = len(recommended_relevant_movies)"
   ]
  },
  {
   "cell_type": "code",
   "execution_count": 65,
   "metadata": {},
   "outputs": [
    {
     "name": "stdout",
     "output_type": "stream",
     "text": [
      "K : 5\n",
      "\n",
      "Number of recommended movie @ k: 5 \n",
      "\n",
      "Number of relevant movie: 10 from test set \n",
      "\n",
      "Number of recommended movies that are relevent @ k: 0\n",
      "\n"
     ]
    }
   ],
   "source": [
    "print(f'K : {k}\\n')\n",
    "print(f'Number of recommended movie @ k: {recommended_count} \\n')\n",
    "print(f'Number of relevant movie: {relevant_count} from test set \\n')\n",
    "print(f'Number of recommended movies that are relevent @ k: {recommended_relevant_count}\\n')"
   ]
  },
  {
   "cell_type": "code",
   "execution_count": 66,
   "metadata": {},
   "outputs": [],
   "source": [
    "def calc_precision_k(recommended_relevant_count,recommended_count):\n",
    "    precision_k = recommended_relevant_count/recommended_count\n",
    "    return precision_k\n",
    "\n",
    "def calc_recall_k(recommended_relevant_count,relevant_count):\n",
    "    if relevant_count==0:\n",
    "        return 0\n",
    "    else:\n",
    "        recall_k = recommended_relevant_count/relevant_count\n",
    "        return recall_k"
   ]
  },
  {
   "cell_type": "code",
   "execution_count": 67,
   "metadata": {},
   "outputs": [
    {
     "name": "stdout",
     "output_type": "stream",
     "text": [
      " Precision at 5 is: 0.0 \n"
     ]
    }
   ],
   "source": [
    "precision_k = calc_precision_k(recommended_relevant_count,recommended_count)\n",
    "print(f' Precision at {k} is: {precision_k} ')"
   ]
  },
  {
   "cell_type": "code",
   "execution_count": 58,
   "metadata": {},
   "outputs": [
    {
     "name": "stdout",
     "output_type": "stream",
     "text": [
      " Recall at 5 is: 0.0\n"
     ]
    }
   ],
   "source": [
    "recall_k = calc_recall_k(recommended_relevant_count,relevant_count)\n",
    "print(f' Recall at {k} is: {recall_k}')"
   ]
  }
 ],
 "metadata": {
  "kernelspec": {
   "display_name": "Python 3",
   "language": "python",
   "name": "python3"
  },
  "language_info": {
   "codemirror_mode": {
    "name": "ipython",
    "version": 3
   },
   "file_extension": ".py",
   "mimetype": "text/x-python",
   "name": "python",
   "nbconvert_exporter": "python",
   "pygments_lexer": "ipython3",
   "version": "3.7.6"
  }
 },
 "nbformat": 4,
 "nbformat_minor": 4
}
