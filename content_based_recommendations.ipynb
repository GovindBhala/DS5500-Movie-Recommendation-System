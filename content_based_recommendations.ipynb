{
 "cells": [
  {
   "cell_type": "code",
   "execution_count": 190,
   "metadata": {},
   "outputs": [],
   "source": [
    "import pandas as pd\n",
    "import os\n",
    "import numpy as np\n",
    "import matplotlib.pyplot as plt\n",
    "import seaborn as sns\n",
    "import datetime as datetime\n",
    "import operator\n",
    "import scipy.spatial.distance as distance\n",
    "import sklearn.metrics\n",
    "import random"
   ]
  },
  {
   "cell_type": "code",
   "execution_count": 191,
   "metadata": {},
   "outputs": [],
   "source": [
    "df = pd.read_pickle('processed_df.pkl')\n",
    "ratings = pd.read_pickle('ratings_sample.pkl')\n",
    "ratings = ratings.reset_index()"
   ]
  },
  {
   "cell_type": "code",
   "execution_count": 192,
   "metadata": {},
   "outputs": [],
   "source": [
    "movies = df.drop(columns = ['movieId', 'title_eng', 'year'])"
   ]
  },
  {
   "cell_type": "markdown",
   "metadata": {},
   "source": [
    "## Build Recommendations for 1 User\n",
    "To Do:\n",
    "- Extend to all users (function) -done\n",
    "- Test/train split so hold out some recommendations to evaluate against --> evaluate\n",
    "\n",
    "Extensions:\n",
    "- Include year (decade)?\n",
    "- Include text from description or genome tags\n",
    "- Downweight older ratings "
   ]
  },
  {
   "cell_type": "code",
   "execution_count": 89,
   "metadata": {},
   "outputs": [],
   "source": [
    "# limit to one user\n",
    "ratings_user = ratings[ratings.userId == 100]\n",
    "movies_user = df[df.movieId.isin(ratings_user.movieId.unique())]\n",
    "\n",
    "# keep track of movies already watched\n",
    "watched = movies_user.movieId.unique()\n",
    "\n",
    "movies_user = movies_user.drop(columns = ['movieId', 'title_eng', 'year'])"
   ]
  },
  {
   "cell_type": "code",
   "execution_count": 90,
   "metadata": {
    "scrolled": false
   },
   "outputs": [
    {
     "name": "stderr",
     "output_type": "stream",
     "text": [
      "C:\\ProgramData\\Anaconda3\\lib\\site-packages\\pandas\\core\\generic.py:5208: SettingWithCopyWarning: \n",
      "A value is trying to be set on a copy of a slice from a DataFrame.\n",
      "Try using .loc[row_indexer,col_indexer] = value instead\n",
      "\n",
      "See the caveats in the documentation: http://pandas.pydata.org/pandas-docs/stable/user_guide/indexing.html#returning-a-view-versus-a-copy\n",
      "  self[name] = value\n"
     ]
    }
   ],
   "source": [
    "# normalize ratings: subtract mean rating  from ratings\n",
    "# if rating < mean, normalized rating will be negative. Which is worse than 0 aka not rating movie at all.\n",
    "\n",
    "#### should this be averaged??\n",
    "\n",
    "mean_rating = np.mean(ratings_user.rating)\n",
    "ratings_user.rating = ratings_user.rating - mean_rating"
   ]
  },
  {
   "cell_type": "code",
   "execution_count": 73,
   "metadata": {},
   "outputs": [],
   "source": [
    "# create user profile: multiply item profile by user ratings --> sum of ratings for each attribute \n",
    "profile = movies_user.T.dot(ratings_user.rating.values)"
   ]
  },
  {
   "cell_type": "code",
   "execution_count": 74,
   "metadata": {
    "scrolled": true
   },
   "outputs": [],
   "source": [
    "# cosine similarity between movie and user profile \n",
    "movies = df.drop(columns = ['movieId', 'title_eng', 'year'])\n",
    "recommendations = sklearn.metrics.pairwise.cosine_similarity(movies, np.asmatrix(profile.values))"
   ]
  },
  {
   "cell_type": "code",
   "execution_count": 75,
   "metadata": {},
   "outputs": [],
   "source": [
    "recommendations = pd.DataFrame(recommendations)\n",
    "recommendations.columns = ['prediction']\n",
    "\n",
    "# merge to get title\n",
    "recommendations = pd.merge(recommendations, df[['title_eng', 'movieId']], left_index = True, right_index = True, how = 'left')\n",
    "\n",
    "# sort \n",
    "recommendations = recommendations.sort_values('prediction', ascending = False)"
   ]
  },
  {
   "cell_type": "code",
   "execution_count": 76,
   "metadata": {},
   "outputs": [],
   "source": [
    "# remove recommendations already watched\n",
    "recommendations = recommendations[~recommendations.movieId.isin(watched)]"
   ]
  },
  {
   "cell_type": "code",
   "execution_count": 77,
   "metadata": {},
   "outputs": [
    {
     "data": {
      "text/html": [
       "<div>\n",
       "<style scoped>\n",
       "    .dataframe tbody tr th:only-of-type {\n",
       "        vertical-align: middle;\n",
       "    }\n",
       "\n",
       "    .dataframe tbody tr th {\n",
       "        vertical-align: top;\n",
       "    }\n",
       "\n",
       "    .dataframe thead th {\n",
       "        text-align: right;\n",
       "    }\n",
       "</style>\n",
       "<table border=\"1\" class=\"dataframe\">\n",
       "  <thead>\n",
       "    <tr style=\"text-align: right;\">\n",
       "      <th></th>\n",
       "      <th>prediction</th>\n",
       "      <th>title_eng</th>\n",
       "      <th>movieId</th>\n",
       "    </tr>\n",
       "  </thead>\n",
       "  <tbody>\n",
       "    <tr>\n",
       "      <td>13773</td>\n",
       "      <td>0.390358</td>\n",
       "      <td>Cargo (2009)</td>\n",
       "      <td>77795.0</td>\n",
       "    </tr>\n",
       "    <tr>\n",
       "      <td>41581</td>\n",
       "      <td>0.390358</td>\n",
       "      <td>Magellan (2017)</td>\n",
       "      <td>191217.0</td>\n",
       "    </tr>\n",
       "    <tr>\n",
       "      <td>33414</td>\n",
       "      <td>0.390358</td>\n",
       "      <td>Reality XL (2012)</td>\n",
       "      <td>161139.0</td>\n",
       "    </tr>\n",
       "    <tr>\n",
       "      <td>41529</td>\n",
       "      <td>0.390358</td>\n",
       "      <td>7 Splinters in Time (2018)</td>\n",
       "      <td>190953.0</td>\n",
       "    </tr>\n",
       "    <tr>\n",
       "      <td>42148</td>\n",
       "      <td>0.390358</td>\n",
       "      <td>Alien Code (2017)</td>\n",
       "      <td>193683.0</td>\n",
       "    </tr>\n",
       "    <tr>\n",
       "      <td>28470</td>\n",
       "      <td>0.390358</td>\n",
       "      <td>Narcopolis (2014)</td>\n",
       "      <td>143255.0</td>\n",
       "    </tr>\n",
       "    <tr>\n",
       "      <td>26577</td>\n",
       "      <td>0.390358</td>\n",
       "      <td>Moebius (1996)</td>\n",
       "      <td>136712.0</td>\n",
       "    </tr>\n",
       "    <tr>\n",
       "      <td>41847</td>\n",
       "      <td>0.388752</td>\n",
       "      <td>Iru Mugan (2016)</td>\n",
       "      <td>192335.0</td>\n",
       "    </tr>\n",
       "    <tr>\n",
       "      <td>35694</td>\n",
       "      <td>0.362640</td>\n",
       "      <td>Pornography: A Thriller (2009)</td>\n",
       "      <td>169162.0</td>\n",
       "    </tr>\n",
       "    <tr>\n",
       "      <td>36599</td>\n",
       "      <td>0.362640</td>\n",
       "      <td>The Man Who Was Thursday (2016)</td>\n",
       "      <td>172389.0</td>\n",
       "    </tr>\n",
       "  </tbody>\n",
       "</table>\n",
       "</div>"
      ],
      "text/plain": [
       "       prediction                        title_eng   movieId\n",
       "13773    0.390358                     Cargo (2009)   77795.0\n",
       "41581    0.390358                  Magellan (2017)  191217.0\n",
       "33414    0.390358                Reality XL (2012)  161139.0\n",
       "41529    0.390358       7 Splinters in Time (2018)  190953.0\n",
       "42148    0.390358                Alien Code (2017)  193683.0\n",
       "28470    0.390358                Narcopolis (2014)  143255.0\n",
       "26577    0.390358                   Moebius (1996)  136712.0\n",
       "41847    0.388752                 Iru Mugan (2016)  192335.0\n",
       "35694    0.362640   Pornography: A Thriller (2009)  169162.0\n",
       "36599    0.362640  The Man Who Was Thursday (2016)  172389.0"
      ]
     },
     "execution_count": 77,
     "metadata": {},
     "output_type": "execute_result"
    }
   ],
   "source": [
    "# movies with the same prediction -- should we secondarily sort by overall popularity of the movie?\n",
    "recommendations[:10]"
   ]
  },
  {
   "cell_type": "code",
   "execution_count": 154,
   "metadata": {},
   "outputs": [],
   "source": [
    "def user_content_recommendations(user_id):   \n",
    "    \"\"\"\n",
    "    ratings_user: limit to one user\n",
    "    \n",
    "    movies_user: movies rated by that user\n",
    "    \n",
    "    watched: keep track of movies already watched\n",
    "    \n",
    "    normalize ratings: subtract mean rating  from ratings\n",
    "                       if rating < mean, normalized rating will be negative. Which is worse than 0 aka not rating movie at all.\n",
    "    \n",
    "    profile:create user profile: multiply item profile by user ratings --> sum of ratings for each attribute \n",
    "    \n",
    "    recommendations: cosine similarity between movie and user profile \n",
    "                     merge to get title\n",
    "                     sort\n",
    "                     remove recommendations already watched\n",
    "    \"\"\"\n",
    "\n",
    "    ratings_user = ratings[ratings.userId == user_id]\n",
    "    movies_user = df[df.movieId.isin(ratings_user.movieId.unique())]\n",
    "    watched = movies_user.movieId.unique()\n",
    "    movies_user = movies_user.drop(columns = ['movieId', 'title_eng', 'year'])\n",
    "    \n",
    "    mean_rating = np.mean(ratings_user.rating)\n",
    "    ratings_user.rating = ratings_user.rating - mean_rating\n",
    "\n",
    "    profile = movies_user.T.dot(ratings_user.rating.values)\n",
    "    \n",
    "    movies = df.drop(columns = ['movieId', 'title_eng', 'year'])\n",
    "   \n",
    "    recommendations = sklearn.metrics.pairwise.cosine_similarity(movies, np.asmatrix(profile.values))\n",
    "    recommendations = pd.DataFrame(recommendations)\n",
    "    recommendations.columns = ['prediction']\n",
    "    recommendations = pd.merge(recommendations, df[['title_eng', 'movieId']], left_index = True, right_index = True, how = 'left')\n",
    "    recommendations = recommendations.sort_values('prediction', ascending = False)\n",
    "    recommendations = recommendations[~recommendations.movieId.isin(watched)]\n",
    "    return recommendations\n",
    "\n",
    "def user_top(movies,n):\n",
    "    return movies['title_eng'][:n]\n",
    "\n",
    "def user_movie_id(movies,n):\n",
    "    return movies['movieId'][:n]"
   ]
  },
  {
   "cell_type": "markdown",
   "metadata": {},
   "source": [
    "### Getting top 10 and top 5 recommendation for user_id = 100"
   ]
  },
  {
   "cell_type": "code",
   "execution_count": 101,
   "metadata": {},
   "outputs": [],
   "source": [
    "userId=100\n",
    "recommendation = user_content_recommendations(userId)"
   ]
  },
  {
   "cell_type": "code",
   "execution_count": 116,
   "metadata": {},
   "outputs": [
    {
     "data": {
      "text/plain": [
       "13773                       Cargo (2009)\n",
       "41581                    Magellan (2017)\n",
       "33414                  Reality XL (2012)\n",
       "41529         7 Splinters in Time (2018)\n",
       "42148                  Alien Code (2017)\n",
       "28470                  Narcopolis (2014)\n",
       "26577                     Moebius (1996)\n",
       "41847                   Iru Mugan (2016)\n",
       "35694     Pornography: A Thriller (2009)\n",
       "36599    The Man Who Was Thursday (2016)\n",
       "Name: title_eng, dtype: object"
      ]
     },
     "execution_count": 116,
     "metadata": {},
     "output_type": "execute_result"
    }
   ],
   "source": [
    "# Get the top 10 Movie recommendation for the user\n",
    "user_top(recommendation,10)"
   ]
  },
  {
   "cell_type": "code",
   "execution_count": 118,
   "metadata": {},
   "outputs": [
    {
     "data": {
      "text/plain": [
       "13773                  Cargo (2009)\n",
       "41581               Magellan (2017)\n",
       "33414             Reality XL (2012)\n",
       "41529    7 Splinters in Time (2018)\n",
       "42148             Alien Code (2017)\n",
       "Name: title_eng, dtype: object"
      ]
     },
     "execution_count": 118,
     "metadata": {},
     "output_type": "execute_result"
    }
   ],
   "source": [
    "# Get the top 5 Movie recommendation for the user\n",
    "user_top(recommendation,5)"
   ]
  },
  {
   "cell_type": "markdown",
   "metadata": {},
   "source": [
    "### Personalization based Evaluation\n",
    "\n"
   ]
  },
  {
   "cell_type": "code",
   "execution_count": 280,
   "metadata": {},
   "outputs": [],
   "source": [
    "\"\"\"\n",
    "    unique_users: getting unique user set \n",
    "    n: number of users\n",
    "    users_list: List of random n users\n",
    "    top_n: top number of recommendations\n",
    "    columns: top_n recommendations\n",
    "    users_prediction:  top_n recommendations for n users\n",
    "\"\"\"\n",
    "unique_users = set(ratings.userId)\n",
    "n = 5\n",
    "users_list = random.sample(unique_users, n)\n",
    "top_n=10\n",
    "column_names = list(range(top_n))\n",
    "users_prediction = pd.DataFrame(columns = column_names)"
   ]
  },
  {
   "cell_type": "code",
   "execution_count": 286,
   "metadata": {},
   "outputs": [],
   "source": [
    "\"\"\"\n",
    "Function retuens users top_n predictions\n",
    "\"\"\"\n",
    "def get_users_prediction(users_list,top_n,users_prediction):\n",
    "    for i in users_list:\n",
    "        recommendation = user_content_recommendations(i)\n",
    "        prediction = user_movie_id(recommendation,top_n).astype(int).values\n",
    "        users_prediction = users_prediction.append(pd.Series(prediction),ignore_index=True)\n",
    "        \n",
    "    return users_prediction\n",
    "\n",
    "def user_matrix(df):\n",
    "    data_melt= pd.DataFrame(data=users_pred).reset_index().melt(id_vars='index', value_name='movieId',)\n",
    "    data_melt = data_melt[['index', 'movieId']].pivot(index='index', columns='movieId', values='movieId')\n",
    "    cols = data_melt.columns\n",
    "    for i in cols:\n",
    "        data_melt[i] = np.where(data_melt[i].isna(), 0, 1)\n",
    "    return data_melt\n",
    "\n",
    "def personalization(users_matrix):\n",
    "    \n",
    "    users_sim = sklearn.metrics.pairwise.cosine_similarity(users_matrix)\n",
    "    return users_sim"
   ]
  },
  {
   "cell_type": "code",
   "execution_count": 283,
   "metadata": {},
   "outputs": [
    {
     "name": "stderr",
     "output_type": "stream",
     "text": [
      "C:\\ProgramData\\Anaconda3\\lib\\site-packages\\pandas\\core\\generic.py:5208: SettingWithCopyWarning: \n",
      "A value is trying to be set on a copy of a slice from a DataFrame.\n",
      "Try using .loc[row_indexer,col_indexer] = value instead\n",
      "\n",
      "See the caveats in the documentation: http://pandas.pydata.org/pandas-docs/stable/user_guide/indexing.html#returning-a-view-versus-a-copy\n",
      "  self[name] = value\n",
      "C:\\ProgramData\\Anaconda3\\lib\\site-packages\\pandas\\core\\generic.py:5208: SettingWithCopyWarning: \n",
      "A value is trying to be set on a copy of a slice from a DataFrame.\n",
      "Try using .loc[row_indexer,col_indexer] = value instead\n",
      "\n",
      "See the caveats in the documentation: http://pandas.pydata.org/pandas-docs/stable/user_guide/indexing.html#returning-a-view-versus-a-copy\n",
      "  self[name] = value\n",
      "C:\\ProgramData\\Anaconda3\\lib\\site-packages\\pandas\\core\\generic.py:5208: SettingWithCopyWarning: \n",
      "A value is trying to be set on a copy of a slice from a DataFrame.\n",
      "Try using .loc[row_indexer,col_indexer] = value instead\n",
      "\n",
      "See the caveats in the documentation: http://pandas.pydata.org/pandas-docs/stable/user_guide/indexing.html#returning-a-view-versus-a-copy\n",
      "  self[name] = value\n",
      "C:\\ProgramData\\Anaconda3\\lib\\site-packages\\pandas\\core\\generic.py:5208: SettingWithCopyWarning: \n",
      "A value is trying to be set on a copy of a slice from a DataFrame.\n",
      "Try using .loc[row_indexer,col_indexer] = value instead\n",
      "\n",
      "See the caveats in the documentation: http://pandas.pydata.org/pandas-docs/stable/user_guide/indexing.html#returning-a-view-versus-a-copy\n",
      "  self[name] = value\n",
      "C:\\ProgramData\\Anaconda3\\lib\\site-packages\\pandas\\core\\generic.py:5208: SettingWithCopyWarning: \n",
      "A value is trying to be set on a copy of a slice from a DataFrame.\n",
      "Try using .loc[row_indexer,col_indexer] = value instead\n",
      "\n",
      "See the caveats in the documentation: http://pandas.pydata.org/pandas-docs/stable/user_guide/indexing.html#returning-a-view-versus-a-copy\n",
      "  self[name] = value\n"
     ]
    },
    {
     "name": "stdout",
     "output_type": "stream",
     "text": [
      "Time take 49.98124980926514 seconds\n"
     ]
    }
   ],
   "source": [
    "import time\n",
    "start_time = time.time()\n",
    "\n",
    "# getting predictions for sampled users\n",
    "users_pred = get_users_prediction(users_list,top_n,users_prediction)\n",
    "\n",
    "# getting user by movies matrix with binary indicators 0: movie not recommended, 1: movie got recommended\n",
    "users_matrix = user_matrix(users_pred)\n",
    "end_time = time.time() - start_time\n",
    "print(f'Time take {end_time} seconds')"
   ]
  },
  {
   "cell_type": "code",
   "execution_count": 289,
   "metadata": {},
   "outputs": [
    {
     "data": {
      "text/plain": [
       "array([[1., 0., 0., 0., 0.],\n",
       "       [0., 1., 0., 0., 0.],\n",
       "       [0., 0., 1., 0., 0.],\n",
       "       [0., 0., 0., 1., 0.],\n",
       "       [0., 0., 0., 0., 1.]])"
      ]
     },
     "execution_count": 289,
     "metadata": {},
     "output_type": "execute_result"
    }
   ],
   "source": [
    "personalization(users_matrix)"
   ]
  }
 ],
 "metadata": {
  "kernelspec": {
   "display_name": "Python 3",
   "language": "python",
   "name": "python3"
  },
  "language_info": {
   "codemirror_mode": {
    "name": "ipython",
    "version": 3
   },
   "file_extension": ".py",
   "mimetype": "text/x-python",
   "name": "python",
   "nbconvert_exporter": "python",
   "pygments_lexer": "ipython3",
   "version": "3.7.4"
  }
 },
 "nbformat": 4,
 "nbformat_minor": 4
}
