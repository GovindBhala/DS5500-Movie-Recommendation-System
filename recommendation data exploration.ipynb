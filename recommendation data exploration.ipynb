{
 "cells": [
  {
   "cell_type": "markdown",
   "metadata": {},
   "source": [
    "# Data Exploration\n",
    "- No missing data in original data. Lots of missing data in IMDB set\n",
    "- There are \"rare\" movies at the tail\n",
    "    - 17% of movies have only 1 rating\n",
    "    - 43% of movies have 5 or less ratings \n",
    "- Merge loses 17410 movies that aren't in the IMDB dataset"
   ]
  },
  {
   "cell_type": "code",
   "execution_count": 1,
   "metadata": {},
   "outputs": [],
   "source": [
    "import pandas as pd\n",
    "import os"
   ]
  },
  {
   "cell_type": "code",
   "execution_count": 2,
   "metadata": {
    "scrolled": true
   },
   "outputs": [],
   "source": [
    "links = pd.read_csv('ml-25m/links.csv')\n",
    "movies = pd.read_csv('ml-25m/movies.csv')\n",
    "ratings = pd.read_csv('ml-25m/ratings.csv')"
   ]
  },
  {
   "cell_type": "code",
   "execution_count": 3,
   "metadata": {},
   "outputs": [
    {
     "data": {
      "text/plain": [
       "count    59047.000000\n",
       "mean       423.393144\n",
       "std       2477.885821\n",
       "min          1.000000\n",
       "25%          2.000000\n",
       "50%          6.000000\n",
       "75%         36.000000\n",
       "max      81491.000000\n",
       "Name: userId, dtype: float64"
      ]
     },
     "execution_count": 3,
     "metadata": {},
     "output_type": "execute_result"
    }
   ],
   "source": [
    "# distribution of number of ratings per movie. Many don't have many ratings. \n",
    "x = ratings.groupby('movieId').count()\n",
    "x.userId.describe()"
   ]
  },
  {
   "cell_type": "code",
   "execution_count": 95,
   "metadata": {},
   "outputs": [
    {
     "data": {
      "text/plain": [
       "0.174403441326401"
      ]
     },
     "execution_count": 95,
     "metadata": {},
     "output_type": "execute_result"
    }
   ],
   "source": [
    "len(x[x.userId == 1]) / len(x)"
   ]
  },
  {
   "cell_type": "code",
   "execution_count": 96,
   "metadata": {},
   "outputs": [
    {
     "data": {
      "text/plain": [
       "0.3036733449624875"
      ]
     },
     "execution_count": 96,
     "metadata": {},
     "output_type": "execute_result"
    }
   ],
   "source": [
    "len(x[x.userId <= 2]) / len(x)"
   ]
  },
  {
   "cell_type": "code",
   "execution_count": 93,
   "metadata": {},
   "outputs": [
    {
     "data": {
      "text/plain": [
       "0.42730294507333627"
      ]
     },
     "execution_count": 93,
     "metadata": {},
     "output_type": "execute_result"
    }
   ],
   "source": [
    "len(x[x.userId <= 5]) / len(x)"
   ]
  },
  {
   "cell_type": "markdown",
   "metadata": {},
   "source": [
    "### Merge all Data (including IMDB dataset)\n",
    "Searched kaggle for a larger set and did not find one that also had IMDB IDs"
   ]
  },
  {
   "cell_type": "code",
   "execution_count": 5,
   "metadata": {},
   "outputs": [],
   "source": [
    "# IMDB dataset\n",
    "imdb_movies = pd.read_csv('imdb/IMDb movies.csv')\n",
    "\n",
    "# standardize IMDB IDs\n",
    "imdb_movies['imdbId'] = imdb_movies.imdb_title_id.str.split('tt').str[1]\n",
    "imdb_movies.imdbId = pd.to_numeric(imdb_movies.imdbId)"
   ]
  },
  {
   "cell_type": "code",
   "execution_count": 38,
   "metadata": {
    "scrolled": true
   },
   "outputs": [],
   "source": [
    "# merge all dataset together \n",
    "num_movies = len(movies)\n",
    "# links (has imdb rating) + movies\n",
    "df = pd.merge(links, movies, on = 'movieId')\n",
    "# merge with imdb data\n",
    "df = pd.merge(df, imdb_movies, on = 'imdbId')\n",
    "# titles are different in movielens vs imdb because imdb in the original language whereas movielens all english translated\n",
    "df = df.rename(columns = {'title_x':'title_eng', 'title_y':'title_orig'})\n",
    "\n",
    "new_num_movies = len(df)"
   ]
  },
  {
   "cell_type": "markdown",
   "metadata": {},
   "source": [
    "## Missing Data Post Merge"
   ]
  },
  {
   "cell_type": "code",
   "execution_count": 12,
   "metadata": {},
   "outputs": [
    {
     "data": {
      "text/plain": [
       "17410"
      ]
     },
     "execution_count": 12,
     "metadata": {},
     "output_type": "execute_result"
    }
   ],
   "source": [
    "# number of movies lost in merge\n",
    "num_movies - new_num_movies"
   ]
  },
  {
   "cell_type": "code",
   "execution_count": 13,
   "metadata": {},
   "outputs": [
    {
     "data": {
      "text/plain": [
       "45013"
      ]
     },
     "execution_count": 13,
     "metadata": {},
     "output_type": "execute_result"
    }
   ],
   "source": [
    "new_num_movies"
   ]
  },
  {
   "cell_type": "code",
   "execution_count": 14,
   "metadata": {},
   "outputs": [
    {
     "data": {
      "text/plain": [
       "userId                         0\n",
       "movieId                        0\n",
       "rating                         0\n",
       "timestamp                      0\n",
       "imdbId                         0\n",
       "tmdbId                        30\n",
       "title_eng                      0\n",
       "genres                         0\n",
       "imdb_title_id                  0\n",
       "title_orig                     0\n",
       "original_title                 0\n",
       "year                           0\n",
       "date_published                 0\n",
       "genre                          0\n",
       "duration                       0\n",
       "country                       46\n",
       "language                    5241\n",
       "director                     235\n",
       "writer                      7783\n",
       "production_company         12419\n",
       "actors                       588\n",
       "description                12438\n",
       "avg_vote                       0\n",
       "votes                          0\n",
       "budget                   2149711\n",
       "usa_gross_income         1476438\n",
       "worlwide_gross_income     975608\n",
       "metascore                2212228\n",
       "reviews_from_users          5451\n",
       "reviews_from_critics       10354\n",
       "dtype: int64"
      ]
     },
     "execution_count": 14,
     "metadata": {},
     "output_type": "execute_result"
    }
   ],
   "source": [
    "df.isnull().sum()"
   ]
  },
  {
   "cell_type": "markdown",
   "metadata": {},
   "source": [
    "## Separate Genres -> Dummy Variables\n",
    "IMDB and MovieLens sometimes have a differnet genre list for thes same movie. Take the union of both lists to get the max number of genres/information.  "
   ]
  },
  {
   "cell_type": "code",
   "execution_count": 39,
   "metadata": {
    "scrolled": true
   },
   "outputs": [],
   "source": [
    "# convert into sets and take union \n",
    "df.genre = df.genre.str.split(', ')\n",
    "df.genres = df.genres.str.split('|')\n",
    "\n",
    "df.genre = df.genre.apply(set)\n",
    "df.genres = df.genres.apply(set)\n",
    "\n",
    "df['genres_all'] = df.apply(lambda x: x['genre'].union(x['genres']), axis=1)\n",
    "df.genres_all = df.genres_all.apply(list)"
   ]
  },
  {
   "cell_type": "code",
   "execution_count": 40,
   "metadata": {
    "scrolled": true
   },
   "outputs": [],
   "source": [
    "# dummy variables\n",
    "genre_dummies = pd.get_dummies(df.genres_all.apply(pd.Series).stack(), prefix = 'genre').sum(level = 0)\n",
    "\n",
    "# merge back in\n",
    "df = pd.merge(df, genre_dummies, left_index = True, right_index = True)"
   ]
  },
  {
   "cell_type": "markdown",
   "metadata": {},
   "source": [
    "## Merge with Ratings Data"
   ]
  },
  {
   "cell_type": "code",
   "execution_count": null,
   "metadata": {},
   "outputs": [],
   "source": [
    "df = pd.merge(ratings, df, on = 'movieId')"
   ]
  }
 ],
 "metadata": {
  "kernelspec": {
   "display_name": "Python 3",
   "language": "python",
   "name": "python3"
  },
  "language_info": {
   "codemirror_mode": {
    "name": "ipython",
    "version": 3
   },
   "file_extension": ".py",
   "mimetype": "text/x-python",
   "name": "python",
   "nbconvert_exporter": "python",
   "pygments_lexer": "ipython3",
   "version": "3.8.3"
  }
 },
 "nbformat": 4,
 "nbformat_minor": 4
}
