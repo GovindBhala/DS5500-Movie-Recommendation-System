{
 "cells": [
  {
   "cell_type": "markdown",
   "metadata": {},
   "source": [
    "# Data Exploration\n",
    "- No missing data in original data. Lots of missing data in IMDB set\n",
    "- There are \"rare\" movies at the tail\n",
    "    - 17% of movies have only 1 rating\n",
    "    - 43% of movies have 5 or less ratings \n",
    "- Merge loses 17410 movies that aren't in the IMDB dataset"
   ]
  },
  {
   "cell_type": "code",
   "execution_count": 1,
   "metadata": {},
   "outputs": [],
   "source": [
    "import pandas as pd\n",
    "import os\n",
    "import numpy as np\n",
    "from scipy.sparse import csc_matrix\n",
    "from pandas.api.types import CategoricalDtype"
   ]
  },
  {
   "cell_type": "code",
   "execution_count": 2,
   "metadata": {
    "scrolled": true
   },
   "outputs": [],
   "source": [
    "links = pd.read_csv('data/ml-25m/links.csv')\n",
    "movies = pd.read_csv('data/ml-25m/movies.csv')\n",
    "ratings = pd.read_csv('data/ml-25m/ratings.csv')"
   ]
  },
  {
   "cell_type": "code",
   "execution_count": 3,
   "metadata": {},
   "outputs": [
    {
     "data": {
      "text/plain": [
       "count    59047.000000\n",
       "mean       423.393144\n",
       "std       2477.885821\n",
       "min          1.000000\n",
       "25%          2.000000\n",
       "50%          6.000000\n",
       "75%         36.000000\n",
       "max      81491.000000\n",
       "Name: userId, dtype: float64"
      ]
     },
     "execution_count": 3,
     "metadata": {},
     "output_type": "execute_result"
    }
   ],
   "source": [
    "# distribution of number of ratings per movie. Many don't have many ratings. \n",
    "x = ratings.groupby('movieId').count()\n",
    "x.userId.describe()"
   ]
  },
  {
   "cell_type": "code",
   "execution_count": 4,
   "metadata": {},
   "outputs": [
    {
     "data": {
      "text/plain": [
       "0.174403441326401"
      ]
     },
     "execution_count": 4,
     "metadata": {},
     "output_type": "execute_result"
    }
   ],
   "source": [
    "len(x[x.userId == 1]) / len(x)"
   ]
  },
  {
   "cell_type": "code",
   "execution_count": 5,
   "metadata": {},
   "outputs": [
    {
     "data": {
      "text/plain": [
       "0.3036733449624875"
      ]
     },
     "execution_count": 5,
     "metadata": {},
     "output_type": "execute_result"
    }
   ],
   "source": [
    "len(x[x.userId <= 2]) / len(x)"
   ]
  },
  {
   "cell_type": "code",
   "execution_count": 6,
   "metadata": {},
   "outputs": [
    {
     "data": {
      "text/plain": [
       "0.48842447541788747"
      ]
     },
     "execution_count": 6,
     "metadata": {},
     "output_type": "execute_result"
    }
   ],
   "source": [
    "len(x[x.userId <= 5]) / len(x)"
   ]
  },
  {
   "cell_type": "markdown",
   "metadata": {},
   "source": [
    "### Merge all Data (including IMDB dataset)\n",
    "Searched kaggle for a larger set and did not find one that also had IMDB IDs"
   ]
  },
  {
   "cell_type": "code",
   "execution_count": 7,
   "metadata": {},
   "outputs": [],
   "source": [
    "# IMDB dataset\n",
    "imdb_movies = pd.read_csv('data/imdb/IMDb movies.csv')\n",
    "\n",
    "# standardize IMDB IDs\n",
    "imdb_movies['imdbId'] = imdb_movies.imdb_title_id.str.split('tt').str[1]\n",
    "imdb_movies.imdbId = pd.to_numeric(imdb_movies.imdbId)"
   ]
  },
  {
   "cell_type": "code",
   "execution_count": 8,
   "metadata": {
    "scrolled": true
   },
   "outputs": [],
   "source": [
    "# merge all dataset together \n",
    "num_movies = len(movies)\n",
    "# links (has imdb rating) + movies\n",
    "df = pd.merge(links, movies, on = 'movieId')\n",
    "# merge with imdb data\n",
    "df = pd.merge(df, imdb_movies, on = 'imdbId')\n",
    "# titles are different in movielens vs imdb because imdb in the original language whereas movielens all english translated\n",
    "df = df.rename(columns = {'title_x':'title_eng', 'title_y':'title_orig'})\n",
    "\n",
    "new_num_movies = len(df)"
   ]
  },
  {
   "cell_type": "markdown",
   "metadata": {},
   "source": [
    "## Missing Data Post Merge"
   ]
  },
  {
   "cell_type": "code",
   "execution_count": 9,
   "metadata": {},
   "outputs": [
    {
     "data": {
      "text/plain": [
       "17410"
      ]
     },
     "execution_count": 9,
     "metadata": {},
     "output_type": "execute_result"
    }
   ],
   "source": [
    "# number of movies lost in merge\n",
    "num_movies - new_num_movies"
   ]
  },
  {
   "cell_type": "code",
   "execution_count": 10,
   "metadata": {},
   "outputs": [
    {
     "data": {
      "text/plain": [
       "45013"
      ]
     },
     "execution_count": 10,
     "metadata": {},
     "output_type": "execute_result"
    }
   ],
   "source": [
    "new_num_movies"
   ]
  },
  {
   "cell_type": "code",
   "execution_count": 11,
   "metadata": {},
   "outputs": [
    {
     "data": {
      "text/plain": [
       "movieId                      0\n",
       "imdbId                       0\n",
       "tmdbId                      11\n",
       "title_eng                    0\n",
       "genres                       0\n",
       "imdb_title_id                0\n",
       "title_orig                   0\n",
       "original_title               0\n",
       "year                         0\n",
       "date_published               0\n",
       "genre                        0\n",
       "duration                     0\n",
       "country                     10\n",
       "language                   318\n",
       "director                    13\n",
       "writer                     348\n",
       "production_company        1230\n",
       "actors                      20\n",
       "description                404\n",
       "avg_vote                     0\n",
       "votes                        0\n",
       "budget                   29122\n",
       "usa_gross_income         31246\n",
       "worlwide_gross_income    23695\n",
       "metascore                33044\n",
       "reviews_from_users        1383\n",
       "reviews_from_critics      2152\n",
       "dtype: int64"
      ]
     },
     "execution_count": 11,
     "metadata": {},
     "output_type": "execute_result"
    }
   ],
   "source": [
    "df.isnull().sum()"
   ]
  },
  {
   "cell_type": "markdown",
   "metadata": {},
   "source": [
    "## Separate Genres -> Dummy Variables\n",
    "IMDB and MovieLens sometimes have a differnet genre list for thes same movie. Take the union of both lists to get the max number of genres/information.  "
   ]
  },
  {
   "cell_type": "code",
   "execution_count": 12,
   "metadata": {
    "scrolled": true
   },
   "outputs": [],
   "source": [
    "# convert into sets and take union \n",
    "df.genre = df.genre.str.split(', ')\n",
    "df.genres = df.genres.str.split('|')\n",
    "\n",
    "df.genre = df.genre.apply(set)\n",
    "df.genres = df.genres.apply(set)\n",
    "\n",
    "df['genres_all'] = df.apply(lambda x: x['genre'].union(x['genres']), axis=1)\n",
    "df.genres_all = df.genres_all.apply(list)"
   ]
  },
  {
   "cell_type": "code",
   "execution_count": 13,
   "metadata": {
    "scrolled": true
   },
   "outputs": [],
   "source": [
    "# dummy variables\n",
    "genre_dummies = pd.get_dummies(df.genres_all.apply(pd.Series).stack(), prefix = 'genre').sum(level = 0)\n",
    "\n",
    "# merge back in\n",
    "df = pd.merge(df, genre_dummies, left_index = True, right_index = True)"
   ]
  },
  {
   "cell_type": "markdown",
   "metadata": {},
   "source": [
    "## Create User-Ratings Utility Matrix"
   ]
  },
  {
   "cell_type": "code",
   "execution_count": 24,
   "metadata": {},
   "outputs": [],
   "source": [
    "ratings = ratings.sort_values(['userId', 'movieId'])\n",
    "users_c = CategoricalDtype(sorted(ratings.userId.unique()), ordered=True)\n",
    "movies_c = CategoricalDtype(sorted(ratings.movieId.unique()), ordered=True)\n",
    "\n",
    "row = ratings.userId.astype(users_c).cat.codes\n",
    "col = ratings.movieId.astype(movies_c).cat.codes\n",
    "utility_matrix = csc_matrix((ratings.rating, (row, col)), \n",
    "                           shape=(users_c.categories.size, movies_c.categories.size))\n",
    "\n",
    "utility_matrix.shape # row = users, columns = movies"
   ]
  },
  {
   "cell_type": "code",
   "execution_count": 72,
   "metadata": {},
   "outputs": [
    {
     "name": "stdout",
     "output_type": "stream",
     "text": [
      "(array([0, 0, 0, 0, 0, 0, 0, 0, 0, 0, 0, 0, 0, 0, 0, 0, 0, 0, 0, 0, 0, 0,\n",
      "       0, 0, 0, 0, 0, 0, 0, 0, 0, 0, 0, 0, 0, 0, 0, 0, 0, 0, 0, 0, 0, 0,\n",
      "       0, 0, 0, 0, 0, 0, 0, 0, 0, 0, 0, 0, 0, 0, 0, 0, 0, 0, 0, 0, 0, 0,\n",
      "       0, 0, 0, 0]), array([ 292,  302,  303,  654,  878, 1061, 1147, 1186, 1205, 1217, 1227,\n",
      "       1591, 1922, 1923, 1979, 2071, 2260, 2482, 2541, 2600, 2751, 3352,\n",
      "       3470, 3845, 4040, 4203, 4220, 4317, 4598, 4867, 5041, 5161, 5573,\n",
      "       5655, 5766, 5800, 5840, 5904, 6252, 6258, 6416, 6588, 6829, 7084,\n",
      "       7109, 7193, 7198, 7202, 7236, 7240, 7476, 7547, 7548, 7549, 7550,\n",
      "       7593, 7653, 7720, 7734, 7775, 7972, 8015, 8072, 8158, 8258, 9120,\n",
      "       9143, 9304, 9645, 9778]))\n"
     ]
    },
    {
     "data": {
      "text/plain": [
       "292"
      ]
     },
     "execution_count": 72,
     "metadata": {},
     "output_type": "execute_result"
    }
   ],
   "source": [
    "# check: look at userId = 1, what movies have non-zero values in the matrix?\n",
    "print(utility_matrix[0,:].nonzero())\n",
    "\n",
    "# find indexes of movie IDs \n",
    "movies_lst = sorted(ratings.movieId.unique())\n",
    "movies_lst.index(296) # movieId 296 = index 292. First nonzero element in sparse matrix. "
   ]
  },
  {
   "cell_type": "code",
   "execution_count": 73,
   "metadata": {},
   "outputs": [
    {
     "data": {
      "text/html": [
       "<div>\n",
       "<style scoped>\n",
       "    .dataframe tbody tr th:only-of-type {\n",
       "        vertical-align: middle;\n",
       "    }\n",
       "\n",
       "    .dataframe tbody tr th {\n",
       "        vertical-align: top;\n",
       "    }\n",
       "\n",
       "    .dataframe thead th {\n",
       "        text-align: right;\n",
       "    }\n",
       "</style>\n",
       "<table border=\"1\" class=\"dataframe\">\n",
       "  <thead>\n",
       "    <tr style=\"text-align: right;\">\n",
       "      <th></th>\n",
       "      <th>userId</th>\n",
       "      <th>movieId</th>\n",
       "      <th>rating</th>\n",
       "      <th>timestamp</th>\n",
       "    </tr>\n",
       "  </thead>\n",
       "  <tbody>\n",
       "    <tr>\n",
       "      <th>0</th>\n",
       "      <td>1</td>\n",
       "      <td>296</td>\n",
       "      <td>5.0</td>\n",
       "      <td>1147880044</td>\n",
       "    </tr>\n",
       "    <tr>\n",
       "      <th>1</th>\n",
       "      <td>1</td>\n",
       "      <td>306</td>\n",
       "      <td>3.5</td>\n",
       "      <td>1147868817</td>\n",
       "    </tr>\n",
       "    <tr>\n",
       "      <th>2</th>\n",
       "      <td>1</td>\n",
       "      <td>307</td>\n",
       "      <td>5.0</td>\n",
       "      <td>1147868828</td>\n",
       "    </tr>\n",
       "    <tr>\n",
       "      <th>3</th>\n",
       "      <td>1</td>\n",
       "      <td>665</td>\n",
       "      <td>5.0</td>\n",
       "      <td>1147878820</td>\n",
       "    </tr>\n",
       "    <tr>\n",
       "      <th>4</th>\n",
       "      <td>1</td>\n",
       "      <td>899</td>\n",
       "      <td>3.5</td>\n",
       "      <td>1147868510</td>\n",
       "    </tr>\n",
       "    <tr>\n",
       "      <th>...</th>\n",
       "      <td>...</td>\n",
       "      <td>...</td>\n",
       "      <td>...</td>\n",
       "      <td>...</td>\n",
       "    </tr>\n",
       "    <tr>\n",
       "      <th>65</th>\n",
       "      <td>1</td>\n",
       "      <td>27193</td>\n",
       "      <td>3.0</td>\n",
       "      <td>1147879774</td>\n",
       "    </tr>\n",
       "    <tr>\n",
       "      <th>66</th>\n",
       "      <td>1</td>\n",
       "      <td>27266</td>\n",
       "      <td>4.5</td>\n",
       "      <td>1147879365</td>\n",
       "    </tr>\n",
       "    <tr>\n",
       "      <th>67</th>\n",
       "      <td>1</td>\n",
       "      <td>27721</td>\n",
       "      <td>3.0</td>\n",
       "      <td>1147869115</td>\n",
       "    </tr>\n",
       "    <tr>\n",
       "      <th>68</th>\n",
       "      <td>1</td>\n",
       "      <td>31956</td>\n",
       "      <td>3.5</td>\n",
       "      <td>1147877610</td>\n",
       "    </tr>\n",
       "    <tr>\n",
       "      <th>69</th>\n",
       "      <td>1</td>\n",
       "      <td>32591</td>\n",
       "      <td>5.0</td>\n",
       "      <td>1147879538</td>\n",
       "    </tr>\n",
       "  </tbody>\n",
       "</table>\n",
       "<p>70 rows × 4 columns</p>\n",
       "</div>"
      ],
      "text/plain": [
       "    userId  movieId  rating   timestamp\n",
       "0        1      296     5.0  1147880044\n",
       "1        1      306     3.5  1147868817\n",
       "2        1      307     5.0  1147868828\n",
       "3        1      665     5.0  1147878820\n",
       "4        1      899     3.5  1147868510\n",
       "..     ...      ...     ...         ...\n",
       "65       1    27193     3.0  1147879774\n",
       "66       1    27266     4.5  1147879365\n",
       "67       1    27721     3.0  1147869115\n",
       "68       1    31956     3.5  1147877610\n",
       "69       1    32591     5.0  1147879538\n",
       "\n",
       "[70 rows x 4 columns]"
      ]
     },
     "execution_count": 73,
     "metadata": {},
     "output_type": "execute_result"
    }
   ],
   "source": [
    "ratings[ratings.userId == 1]"
   ]
  }
 ],
 "metadata": {
  "kernelspec": {
   "display_name": "Python 3",
   "language": "python",
   "name": "python3"
  },
  "language_info": {
   "codemirror_mode": {
    "name": "ipython",
    "version": 3
   },
   "file_extension": ".py",
   "mimetype": "text/x-python",
   "name": "python",
   "nbconvert_exporter": "python",
   "pygments_lexer": "ipython3",
   "version": "3.8.3"
  }
 },
 "nbformat": 4,
 "nbformat_minor": 4
}
