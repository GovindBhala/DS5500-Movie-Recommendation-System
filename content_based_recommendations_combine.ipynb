{
 "cells": [
  {
   "cell_type": "markdown",
   "metadata": {},
   "source": [
    "# Combine two content recommendation results \n",
    "Produce half recommendations from one model and half from the other (half based on specified number of recommendations top_n)"
   ]
  },
  {
   "cell_type": "code",
   "execution_count": null,
   "metadata": {},
   "outputs": [],
   "source": [
    "import pandas as pd\n",
    "import os\n",
    "import numpy as np\n",
    "import matplotlib.pyplot as plt\n",
    "import seaborn as sns\n",
    "import datetime as datetime\n",
    "import operator\n",
    "import scipy.spatial.distance as distance\n",
    "from sklearn import metrics \n",
    "import random\n",
    "import time\n",
    "from sklearn.model_selection import train_test_split\n",
    "from sklearn.linear_model import LinearRegression\n",
    "import fastparquet\n",
    "import pickle\n",
    "import scipy\n",
    "import sklearn\n",
    "import content_based_recommendations"
   ]
  },
  {
   "cell_type": "code",
   "execution_count": null,
   "metadata": {},
   "outputs": [],
   "source": [
    "def content_models_combine(user_id, df1, ratings, movieIds, keep_movies1, df2, keep_movies2, recommendation_system, top_n = 10):\n",
    "    \n",
    "    # generate recommendations from each model with respective dataframes and kept movies\n",
    "    recommend1 = recommendation_system(user_id, df1, ratings, movieIds, keep_movies1)\n",
    "    recommend2 = recommendation_system(user_id, df2, ratings, movieIds, keep_movies2)\n",
    "    \n",
    "    # concat half top recommendations from each model \n",
    "    recommendations = pd.concat([recommend1.head(int(top_n/2)), recommend2.head(int(top_n/2))])\n",
    "    \n",
    "    # resort based on similarity scores\n",
    "    recommendations = recommendations.sort_values('prediction', ascending = False)\n",
    "    \n",
    "    return recommendations"
   ]
  }
 ],
 "metadata": {
  "kernelspec": {
   "display_name": "Python 3",
   "language": "python",
   "name": "python3"
  },
  "language_info": {
   "codemirror_mode": {
    "name": "ipython",
    "version": 3
   },
   "file_extension": ".py",
   "mimetype": "text/x-python",
   "name": "python",
   "nbconvert_exporter": "python",
   "pygments_lexer": "ipython3",
   "version": "3.8.3"
  }
 },
 "nbformat": 4,
 "nbformat_minor": 4
}
