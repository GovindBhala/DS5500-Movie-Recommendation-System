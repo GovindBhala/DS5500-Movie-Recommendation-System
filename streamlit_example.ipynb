{
 "cells": [
  {
   "cell_type": "markdown",
   "metadata": {},
   "source": [
    "## To Run:\n",
    "1. Convert notebook to py file\n",
    "    - Run in command line: py -m jupyter nbconvert --to script streamlit_example.ipynb\n",
    "2. Run streamlit app\n",
    "    - Run in command line: streamlit run streamlit_example.py"
   ]
  },
  {
   "cell_type": "code",
   "execution_count": 36,
   "metadata": {},
   "outputs": [],
   "source": [
    "import streamlit as st\n",
    "import pandas as pd\n",
    "import numpy as np\n",
    "import matplotlib.pyplot as plt\n",
    "import matplotlib"
   ]
  },
  {
   "cell_type": "code",
   "execution_count": 16,
   "metadata": {},
   "outputs": [],
   "source": [
    "movies = pd.read_csv('data/ml-25m/movies.csv')"
   ]
  },
  {
   "cell_type": "code",
   "execution_count": 17,
   "metadata": {},
   "outputs": [],
   "source": [
    "movies['year'] = movies.title.str.split('(').str[1].str.split(')').str[0]\n",
    "movies.year = pd.to_numeric(movies.year, errors = 'coerce')"
   ]
  },
  {
   "cell_type": "code",
   "execution_count": 18,
   "metadata": {},
   "outputs": [
    {
     "data": {
      "text/plain": [
       "<streamlit.DeltaGenerator.DeltaGenerator at 0x2070d19a490>"
      ]
     },
     "execution_count": 18,
     "metadata": {},
     "output_type": "execute_result"
    }
   ],
   "source": [
    "# app title \n",
    "st.title('EDA')"
   ]
  },
  {
   "cell_type": "code",
   "execution_count": 28,
   "metadata": {},
   "outputs": [],
   "source": [
    "# create interactive slider \n",
    "yr_selection = st.slider(\n",
    "    'Select minimum and maximum year',\n",
    "    1900, 2020, (1900, 2020))"
   ]
  },
  {
   "cell_type": "code",
   "execution_count": 38,
   "metadata": {},
   "outputs": [
    {
     "data": {
      "text/plain": [
       "<streamlit.DeltaGenerator.DeltaGenerator at 0x2070d19a490>"
      ]
     },
     "execution_count": 38,
     "metadata": {},
     "output_type": "execute_result"
    },
    {
     "data": {
      "text/plain": [
       "<Figure size 432x288 with 0 Axes>"
      ]
     },
     "metadata": {},
     "output_type": "display_data"
    },
    {
     "data": {
      "image/png": "[encoded data removed]",
      "text/plain": [
       "<Figure size 576x432 with 1 Axes>"
      ]
     },
     "metadata": {
      "needs_background": "light"
     },
     "output_type": "display_data"
    }
   ],
   "source": [
    "# plot number of movies by year\n",
    "st.subheader('Number of Movies by Year')\n",
    "\n",
    "# specify st plot\n",
    "plot = st.pyplot(plt)\n",
    "\n",
    "# create matplotlib plot based on input from slider\n",
    "fig, ax = plt.subplots(figsize = (8,6))\n",
    "movies_yr = movies.groupby('year').movieId.count().to_frame()\n",
    "movies_yr = movies_yr[(movies_yr.index >= yr_selection[0]) & (movies_yr.index <= yr_selection[1])]\n",
    "plt.plot(movies_yr.index, movies_yr.movieId)\n",
    "ax.set_xlabel('Year')\n",
    "ax.set_ylabel('Number of Movies')\n",
    "\n",
    "# update plot \n",
    "plot.pyplot(plt)"
   ]
  },
  {
   "cell_type": "code",
   "execution_count": 39,
   "metadata": {},
   "outputs": [
    {
     "data": {
      "text/plain": [
       "<streamlit.DeltaGenerator.DeltaGenerator at 0x2070d19a490>"
      ]
     },
     "execution_count": 39,
     "metadata": {},
     "output_type": "execute_result"
    }
   ],
   "source": [
    "# add some markdown text\n",
    "st.markdown(\"Testing text\")"
   ]
  }
 ],
 "metadata": {
  "kernelspec": {
   "display_name": "Python 3",
   "language": "python",
   "name": "python3"
  },
  "language_info": {
   "codemirror_mode": {
    "name": "ipython",
    "version": 3
   },
   "file_extension": ".py",
   "mimetype": "text/x-python",
   "name": "python",
   "nbconvert_exporter": "python",
   "pygments_lexer": "ipython3",
   "version": "3.8.3"
  }
 },
 "nbformat": 4,
 "nbformat_minor": 4
}
