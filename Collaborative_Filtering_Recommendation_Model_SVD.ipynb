{
 "cells": [
  {
   "cell_type": "code",
   "execution_count": 1,
   "metadata": {},
   "outputs": [],
   "source": [
    "import pandas as pd\n",
    "import os\n",
    "import numpy as np\n",
    "import matplotlib.pyplot as plt\n",
    "import seaborn as sns\n",
    "import datetime as datetime\n",
    "import operator\n",
    "import scipy.spatial.distance as distance\n",
    "from sklearn import metrics \n",
    "import random\n",
    "import time\n",
    "from sklearn.model_selection import train_test_split\n",
    "from sklearn.linear_model import LinearRegression\n",
    "import fastparquet\n",
    "from scipy.sparse import csr_matrix\n",
    "from surprise import SVD,Dataset,Reader \n",
    "from surprise.model_selection import cross_validate"
   ]
  },
  {
   "cell_type": "code",
   "execution_count": 23,
   "metadata": {},
   "outputs": [],
   "source": [
    "df = pd.read_pickle('processed_df.pkl')\n",
    "ratings = pd.read_pickle('ratings_sample.pkl')\n",
    "ratings = ratings.reset_index()\n",
    "movies_raitings = pd.read_parquet('movies_ratings.parq')\n",
    "movies_raitings = movies_raitings.rename(columns={\"avg\": \"Average_Ratings\"})"
   ]
  },
  {
   "cell_type": "markdown",
   "metadata": {},
   "source": [
    "# Filtering movies rated at most by 50 users"
   ]
  },
  {
   "cell_type": "code",
   "execution_count": 24,
   "metadata": {},
   "outputs": [
    {
     "data": {
      "text/plain": [
       "(38191, 5)"
      ]
     },
     "execution_count": 24,
     "metadata": {},
     "output_type": "execute_result"
    }
   ],
   "source": [
    "df_titles = df[['movieId','title_eng']]"
   ]
  },
  {
   "cell_type": "code",
   "execution_count": 26,
   "metadata": {},
   "outputs": [],
   "source": [
    "filtered_movies = movies_raitings[movies_raitings['cnt']>50].movieId.values"
   ]
  },
  {
   "cell_type": "code",
   "execution_count": 27,
   "metadata": {},
   "outputs": [],
   "source": [
    "movie_rating = ratings[ratings.movieId.isin(filtered_movies)]"
   ]
  },
  {
   "cell_type": "markdown",
   "metadata": {},
   "source": [
    "# Keeping the users who have rated minimum of 20 movies"
   ]
  },
  {
   "cell_type": "code",
   "execution_count": 28,
   "metadata": {},
   "outputs": [
    {
     "name": "stdout",
     "output_type": "stream",
     "text": [
      " Number of users who rated at least 20 movies: 115856\n"
     ]
    }
   ],
   "source": [
    "user_list = ratings.groupby('userId')['userId'].count().reset_index(name=\"rating_count\")\n",
    "users_list = set(user_list[user_list['rating_count']>=20]['userId'].values)\n",
    "print(f' Number of users who rated at least 20 movies: {len(users_list)}')"
   ]
  },
  {
   "cell_type": "code",
   "execution_count": 30,
   "metadata": {},
   "outputs": [
    {
     "data": {
      "text/plain": [
       "93506"
      ]
     },
     "execution_count": 30,
     "metadata": {},
     "output_type": "execute_result"
    }
   ],
   "source": [
    "random.seed(42)\n",
    "n_users = 1000\n",
    "random_users = random.sample(users_list, n_users)\n",
    "users_ratings = movie_rating[movie_rating.userId.isin(random_users)]\n",
    "len(users_ratings)"
   ]
  },
  {
   "cell_type": "code",
   "execution_count": 40,
   "metadata": {},
   "outputs": [],
   "source": [
    "users_ratings = users_ratings[['userId','movieId','rating']]"
   ]
  },
  {
   "cell_type": "markdown",
   "metadata": {},
   "source": [
    "# getting the min max rating "
   ]
  },
  {
   "cell_type": "code",
   "execution_count": 41,
   "metadata": {},
   "outputs": [],
   "source": [
    "min_rat = users_ratings.rating.min()"
   ]
  },
  {
   "cell_type": "code",
   "execution_count": 42,
   "metadata": {},
   "outputs": [],
   "source": [
    "max_rat = users_ratings.rating.max()"
   ]
  },
  {
   "cell_type": "markdown",
   "metadata": {},
   "source": [
    "# specify the range of rating"
   ]
  },
  {
   "cell_type": "code",
   "execution_count": 43,
   "metadata": {},
   "outputs": [],
   "source": [
    "\n",
    "reader = Reader(rating_scale=(min_rat,max_rat))"
   ]
  },
  {
   "cell_type": "markdown",
   "metadata": {},
   "source": [
    "# Loading users_ratings using load_from_df: \n",
    "The columns must correspond to user id, item id and ratings (in that order)"
   ]
  },
  {
   "cell_type": "code",
   "execution_count": 44,
   "metadata": {},
   "outputs": [],
   "source": [
    "data = Dataset.load_from_df(users_ratings, reader)"
   ]
  },
  {
   "cell_type": "code",
   "execution_count": 46,
   "metadata": {},
   "outputs": [],
   "source": [
    "svd = SVD()"
   ]
  },
  {
   "cell_type": "code",
   "execution_count": 47,
   "metadata": {},
   "outputs": [
    {
     "data": {
      "text/plain": [
       "{'test_rmse': array([0.88949058, 0.90434075, 0.89987271]),\n",
       " 'test_mae': array([0.68493541, 0.69473909, 0.69226673]),\n",
       " 'fit_time': (3.009891986846924, 2.9300239086151123, 2.870229959487915),\n",
       " 'test_time': (0.149277925491333, 0.2303600311279297, 0.21065807342529297)}"
      ]
     },
     "execution_count": 47,
     "metadata": {},
     "output_type": "execute_result"
    }
   ],
   "source": [
    "cross_validate(svd, data, measures=['RMSE', 'MAE'], cv = 3)"
   ]
  },
  {
   "cell_type": "code",
   "execution_count": 59,
   "metadata": {},
   "outputs": [],
   "source": [
    "trainset = data.build_full_trainset()"
   ]
  },
  {
   "cell_type": "code",
   "execution_count": 60,
   "metadata": {},
   "outputs": [
    {
     "data": {
      "text/plain": [
       "<surprise.prediction_algorithms.matrix_factorization.SVD at 0x7f7e24b45b50>"
      ]
     },
     "execution_count": 60,
     "metadata": {},
     "output_type": "execute_result"
    }
   ],
   "source": [
    "svd.fit(trainset)"
   ]
  },
  {
   "cell_type": "code",
   "execution_count": 62,
   "metadata": {},
   "outputs": [],
   "source": [
    "# First predict the User Item rating not in train data\n",
    "# Then recommend the top n movies for a user"
   ]
  },
  {
   "cell_type": "code",
   "execution_count": 61,
   "metadata": {},
   "outputs": [],
   "source": [
    "testset = trainset.build_anti_testset()\n",
    "predictions = svd.test(testset)"
   ]
  },
  {
   "cell_type": "code",
   "execution_count": 75,
   "metadata": {},
   "outputs": [],
   "source": [
    "predicted_ratings = pd.DataFrame(predictions)"
   ]
  },
  {
   "cell_type": "code",
   "execution_count": 96,
   "metadata": {},
   "outputs": [],
   "source": [
    "user_id = 17218\n",
    "top_n = 10"
   ]
  },
  {
   "cell_type": "code",
   "execution_count": 97,
   "metadata": {},
   "outputs": [],
   "source": [
    "single_user = predicted_ratings[predicted_ratings['uid']==user_id]"
   ]
  },
  {
   "cell_type": "code",
   "execution_count": 98,
   "metadata": {},
   "outputs": [],
   "source": [
    "top_nmovies = single_user.sort_values(by = ['est'] , ascending = False)[:top_n]['iid']"
   ]
  },
  {
   "cell_type": "code",
   "execution_count": 104,
   "metadata": {
    "scrolled": true
   },
   "outputs": [
    {
     "data": {
      "text/html": [
       "<div>\n",
       "<style scoped>\n",
       "    .dataframe tbody tr th:only-of-type {\n",
       "        vertical-align: middle;\n",
       "    }\n",
       "\n",
       "    .dataframe tbody tr th {\n",
       "        vertical-align: top;\n",
       "    }\n",
       "\n",
       "    .dataframe thead th {\n",
       "        text-align: right;\n",
       "    }\n",
       "</style>\n",
       "<table border=\"1\" class=\"dataframe\">\n",
       "  <thead>\n",
       "    <tr style=\"text-align: right;\">\n",
       "      <th></th>\n",
       "      <th>iid</th>\n",
       "      <th>Average_Ratings</th>\n",
       "      <th>id</th>\n",
       "      <th>movieId</th>\n",
       "      <th>title_eng</th>\n",
       "      <th>cnt</th>\n",
       "    </tr>\n",
       "  </thead>\n",
       "  <tbody>\n",
       "    <tr>\n",
       "      <th>0</th>\n",
       "      <td>2395</td>\n",
       "      <td>3.865771</td>\n",
       "      <td>2395</td>\n",
       "      <td>2395</td>\n",
       "      <td>Rushmore (1998)</td>\n",
       "      <td>7409</td>\n",
       "    </tr>\n",
       "    <tr>\n",
       "      <th>1</th>\n",
       "      <td>7361</td>\n",
       "      <td>4.061290</td>\n",
       "      <td>7361</td>\n",
       "      <td>7361</td>\n",
       "      <td>Eternal Sunshine of the Spotless Mind (2004)</td>\n",
       "      <td>16626</td>\n",
       "    </tr>\n",
       "    <tr>\n",
       "      <th>2</th>\n",
       "      <td>2019</td>\n",
       "      <td>4.247055</td>\n",
       "      <td>2019</td>\n",
       "      <td>2019</td>\n",
       "      <td>Seven Samurai (Shichinin no samurai) (1954)</td>\n",
       "      <td>6622</td>\n",
       "    </tr>\n",
       "    <tr>\n",
       "      <th>3</th>\n",
       "      <td>2959</td>\n",
       "      <td>4.230584</td>\n",
       "      <td>2959</td>\n",
       "      <td>2959</td>\n",
       "      <td>Fight Club (1999)</td>\n",
       "      <td>29408</td>\n",
       "    </tr>\n",
       "    <tr>\n",
       "      <th>4</th>\n",
       "      <td>908</td>\n",
       "      <td>4.198842</td>\n",
       "      <td>908</td>\n",
       "      <td>908</td>\n",
       "      <td>North by Northwest (1959)</td>\n",
       "      <td>8464</td>\n",
       "    </tr>\n",
       "    <tr>\n",
       "      <th>5</th>\n",
       "      <td>232</td>\n",
       "      <td>4.031884</td>\n",
       "      <td>232</td>\n",
       "      <td>232</td>\n",
       "      <td>Eat Drink Man Woman (Yin shi nan nu) (1994)</td>\n",
       "      <td>2760</td>\n",
       "    </tr>\n",
       "    <tr>\n",
       "      <th>6</th>\n",
       "      <td>142488</td>\n",
       "      <td>4.071162</td>\n",
       "      <td>142488</td>\n",
       "      <td>142488</td>\n",
       "      <td>Spotlight (2015)</td>\n",
       "      <td>2684</td>\n",
       "    </tr>\n",
       "    <tr>\n",
       "      <th>7</th>\n",
       "      <td>1203</td>\n",
       "      <td>4.252906</td>\n",
       "      <td>1203</td>\n",
       "      <td>1203</td>\n",
       "      <td>12 Angry Men (1957)</td>\n",
       "      <td>8258</td>\n",
       "    </tr>\n",
       "    <tr>\n",
       "      <th>8</th>\n",
       "      <td>1172</td>\n",
       "      <td>4.125316</td>\n",
       "      <td>1172</td>\n",
       "      <td>1172</td>\n",
       "      <td>Cinema Paradiso (Nuovo cinema Paradiso) (1989)</td>\n",
       "      <td>4744</td>\n",
       "    </tr>\n",
       "    <tr>\n",
       "      <th>9</th>\n",
       "      <td>318</td>\n",
       "      <td>4.413564</td>\n",
       "      <td>318</td>\n",
       "      <td>318</td>\n",
       "      <td>Shawshank Redemption, The (1994)</td>\n",
       "      <td>40550</td>\n",
       "    </tr>\n",
       "  </tbody>\n",
       "</table>\n",
       "</div>"
      ],
      "text/plain": [
       "      iid  Average_Ratings      id  movieId  \\\n",
       "0    2395         3.865771    2395     2395   \n",
       "1    7361         4.061290    7361     7361   \n",
       "2    2019         4.247055    2019     2019   \n",
       "3    2959         4.230584    2959     2959   \n",
       "4     908         4.198842     908      908   \n",
       "5     232         4.031884     232      232   \n",
       "6  142488         4.071162  142488   142488   \n",
       "7    1203         4.252906    1203     1203   \n",
       "8    1172         4.125316    1172     1172   \n",
       "9     318         4.413564     318      318   \n",
       "\n",
       "                                        title_eng    cnt  \n",
       "0                                 Rushmore (1998)   7409  \n",
       "1    Eternal Sunshine of the Spotless Mind (2004)  16626  \n",
       "2     Seven Samurai (Shichinin no samurai) (1954)   6622  \n",
       "3                               Fight Club (1999)  29408  \n",
       "4                       North by Northwest (1959)   8464  \n",
       "5     Eat Drink Man Woman (Yin shi nan nu) (1994)   2760  \n",
       "6                                Spotlight (2015)   2684  \n",
       "7                             12 Angry Men (1957)   8258  \n",
       "8  Cinema Paradiso (Nuovo cinema Paradiso) (1989)   4744  \n",
       "9                Shawshank Redemption, The (1994)  40550  "
      ]
     },
     "execution_count": 104,
     "metadata": {},
     "output_type": "execute_result"
    }
   ],
   "source": [
    "pd.merge(top_nmovies,movies_raitings, how='left', left_on='iid',right_on='movieId')"
   ]
  }
 ],
 "metadata": {
  "kernelspec": {
   "display_name": "Python 3",
   "language": "python",
   "name": "python3"
  },
  "language_info": {
   "codemirror_mode": {
    "name": "ipython",
    "version": 3
   },
   "file_extension": ".py",
   "mimetype": "text/x-python",
   "name": "python",
   "nbconvert_exporter": "python",
   "pygments_lexer": "ipython3",
   "version": "3.7.7"
  }
 },
 "nbformat": 4,
 "nbformat_minor": 4
}
