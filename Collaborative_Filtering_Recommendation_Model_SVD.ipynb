{
 "cells": [
  {
   "cell_type": "code",
   "execution_count": 491,
   "metadata": {},
   "outputs": [],
   "source": [
    "import pandas as pd\n",
    "import os\n",
    "import numpy as np\n",
    "import matplotlib.pyplot as plt\n",
    "import seaborn as sns\n",
    "import datetime as datetime\n",
    "import operator\n",
    "import scipy.spatial.distance as distance\n",
    "from sklearn import metrics \n",
    "import random\n",
    "import pickle\n",
    "import time\n",
    "from sklearn.model_selection import train_test_split\n",
    "from sklearn.linear_model import LinearRegression\n",
    "import fastparquet\n",
    "from scipy.sparse import csr_matrix\n",
    "from surprise import SVD,Dataset,Reader\n",
    "from collections import defaultdict\n",
    "from surprise.model_selection import cross_validate,KFold\n",
    "from surprise import SVDpp, SlopeOne, NMF, NormalPredictor, KNNBaseline, KNNBasic, KNNWithMeans, KNNWithZScore, BaselineOnly, CoClustering"
   ]
  },
  {
   "cell_type": "markdown",
   "metadata": {},
   "source": [
    "# so far\n",
    "\n",
    "- Using rating sample, in future we can run for complete user_ratings \n",
    "\n",
    "- comparison between all the surprise models using cv = 5, stored comparison in test_rmse_score_comparison\n",
    "\n",
    "- selected the model with the least test_rmse\n",
    "\n",
    "- recommend ratings to the user\n",
    "\n",
    "- added evaluations \n",
    "\n",
    "\n",
    "\n",
    "# Note:\n",
    "- a separate file for model retrain\n",
    "\n",
    "- requires minimum 20 ratings from the user to retrain model\n",
    "\n",
    "- run evaluations \n",
    "\n",
    "\n",
    "\n",
    "\n",
    "\n",
    "# No of users = 1000\n",
    "\n",
    "# Commented part not to be executed\n",
    "\n",
    "\n"
   ]
  },
  {
   "cell_type": "markdown",
   "metadata": {},
   "source": [
    "# Reading all the files\n",
    "\n",
    "Execute the recommendation exploration with subsample 50% and rename the following files to \n",
    "\n",
    "- processed_df -> processed_df_collab\n",
    "\n",
    "- ratings_sample -> ratings_sample_collab\n",
    "\n",
    "- movies_ratings -> movies_ratings_collab"
   ]
  },
  {
   "cell_type": "code",
   "execution_count": 425,
   "metadata": {},
   "outputs": [],
   "source": [
    "df = pd.read_parquet('processed_df_collab.parq')\n",
    "ratings = pd.read_parquet('ratings_sample_collab.parq')\n",
    "ratings = ratings.reset_index()\n",
    "movies_raitings = pd.read_parquet('movies_ratings_collab.parq')\n",
    "movies_raitings = movies_raitings.rename(columns={\"avg\": \"Average_Ratings\"})"
   ]
  },
  {
   "cell_type": "code",
   "execution_count": 426,
   "metadata": {},
   "outputs": [],
   "source": [
    "with open('sparse_metadata', \"rb\") as f:\n",
    "    cols = pickle.load(f)\n",
    "    movieIds = pickle.load(f)"
   ]
  },
  {
   "cell_type": "markdown",
   "metadata": {},
   "source": [
    "# Filtering movies rated at most by 50 users"
   ]
  },
  {
   "cell_type": "code",
   "execution_count": 427,
   "metadata": {},
   "outputs": [],
   "source": [
    "filtered_movies = movies_raitings[movies_raitings['cnt']>50].movieId.values"
   ]
  },
  {
   "cell_type": "code",
   "execution_count": 428,
   "metadata": {},
   "outputs": [],
   "source": [
    "moviesfilters = ratings[ratings.movieId.isin(filtered_movies)]"
   ]
  },
  {
   "cell_type": "markdown",
   "metadata": {},
   "source": [
    "# Keeping the users who have rated minimum of 20 movies"
   ]
  },
  {
   "cell_type": "code",
   "execution_count": 429,
   "metadata": {},
   "outputs": [
    {
     "name": "stdout",
     "output_type": "stream",
     "text": [
      " Number of users who rated at least 20 movies: 161586\n"
     ]
    }
   ],
   "source": [
    "user_list = ratings.groupby('userId')['userId'].count().reset_index(name=\"rating_count\")\n",
    "users_list = set(user_list[user_list['rating_count']>=20]['userId'].values)\n",
    "print(f' Number of users who rated at least 20 movies: {len(users_list)}')"
   ]
  },
  {
   "cell_type": "markdown",
   "metadata": {},
   "source": [
    "# Comparing models using 1000 users data"
   ]
  },
  {
   "cell_type": "code",
   "execution_count": 430,
   "metadata": {},
   "outputs": [
    {
     "data": {
      "text/plain": [
       "145854"
      ]
     },
     "execution_count": 430,
     "metadata": {},
     "output_type": "execute_result"
    }
   ],
   "source": [
    "random.seed(42)\n",
    "n_users = 1000\n",
    "random_users = random.sample(users_list, n_users)\n",
    "users_ratings = moviesfilters[moviesfilters.userId.isin(random_users)]\n",
    "len(users_ratings)"
   ]
  },
  {
   "cell_type": "code",
   "execution_count": 431,
   "metadata": {},
   "outputs": [],
   "source": [
    "movies_filters = np.unique(users_ratings.movieId.values)"
   ]
  },
  {
   "cell_type": "code",
   "execution_count": 432,
   "metadata": {},
   "outputs": [
    {
     "data": {
      "text/html": [
       "<div>\n",
       "<style scoped>\n",
       "    .dataframe tbody tr th:only-of-type {\n",
       "        vertical-align: middle;\n",
       "    }\n",
       "\n",
       "    .dataframe tbody tr th {\n",
       "        vertical-align: top;\n",
       "    }\n",
       "\n",
       "    .dataframe thead th {\n",
       "        text-align: right;\n",
       "    }\n",
       "</style>\n",
       "<table border=\"1\" class=\"dataframe\">\n",
       "  <thead>\n",
       "    <tr style=\"text-align: right;\">\n",
       "      <th></th>\n",
       "      <th>Average_Ratings</th>\n",
       "      <th>id</th>\n",
       "      <th>movieId</th>\n",
       "      <th>title_eng</th>\n",
       "      <th>cnt</th>\n",
       "    </tr>\n",
       "    <tr>\n",
       "      <th>index</th>\n",
       "      <th></th>\n",
       "      <th></th>\n",
       "      <th></th>\n",
       "      <th></th>\n",
       "      <th></th>\n",
       "    </tr>\n",
       "  </thead>\n",
       "  <tbody>\n",
       "    <tr>\n",
       "      <th>6020</th>\n",
       "      <td>1.027578</td>\n",
       "      <td>6483</td>\n",
       "      <td>6483</td>\n",
       "      <td>From Justin to Kelly (2003)</td>\n",
       "      <td>417</td>\n",
       "    </tr>\n",
       "    <tr>\n",
       "      <th>4420</th>\n",
       "      <td>1.125561</td>\n",
       "      <td>4775</td>\n",
       "      <td>4775</td>\n",
       "      <td>Glitter (2001)</td>\n",
       "      <td>669</td>\n",
       "    </tr>\n",
       "    <tr>\n",
       "      <th>1614</th>\n",
       "      <td>1.195214</td>\n",
       "      <td>1826</td>\n",
       "      <td>1826</td>\n",
       "      <td>Barney's Great Adventure (1998)</td>\n",
       "      <td>397</td>\n",
       "    </tr>\n",
       "    <tr>\n",
       "      <th>11720</th>\n",
       "      <td>1.205566</td>\n",
       "      <td>61348</td>\n",
       "      <td>61348</td>\n",
       "      <td>Disaster Movie (2008)</td>\n",
       "      <td>557</td>\n",
       "    </tr>\n",
       "    <tr>\n",
       "      <th>6124</th>\n",
       "      <td>1.214380</td>\n",
       "      <td>6587</td>\n",
       "      <td>6587</td>\n",
       "      <td>Gigli (2003)</td>\n",
       "      <td>758</td>\n",
       "    </tr>\n",
       "    <tr>\n",
       "      <th>...</th>\n",
       "      <td>...</td>\n",
       "      <td>...</td>\n",
       "      <td>...</td>\n",
       "      <td>...</td>\n",
       "      <td>...</td>\n",
       "    </tr>\n",
       "    <tr>\n",
       "      <th>1798</th>\n",
       "      <td>4.254769</td>\n",
       "      <td>2019</td>\n",
       "      <td>2019</td>\n",
       "      <td>Seven Samurai (Shichinin no samurai) (1954)</td>\n",
       "      <td>13367</td>\n",
       "    </tr>\n",
       "    <tr>\n",
       "      <th>1104</th>\n",
       "      <td>4.261759</td>\n",
       "      <td>1221</td>\n",
       "      <td>1221</td>\n",
       "      <td>Godfather: Part II, The (1974)</td>\n",
       "      <td>34188</td>\n",
       "    </tr>\n",
       "    <tr>\n",
       "      <th>48</th>\n",
       "      <td>4.284353</td>\n",
       "      <td>50</td>\n",
       "      <td>50</td>\n",
       "      <td>Usual Suspects, The (1995)</td>\n",
       "      <td>55366</td>\n",
       "    </tr>\n",
       "    <tr>\n",
       "      <th>781</th>\n",
       "      <td>4.324336</td>\n",
       "      <td>858</td>\n",
       "      <td>858</td>\n",
       "      <td>Godfather, The (1972)</td>\n",
       "      <td>52498</td>\n",
       "    </tr>\n",
       "    <tr>\n",
       "      <th>294</th>\n",
       "      <td>4.413576</td>\n",
       "      <td>318</td>\n",
       "      <td>318</td>\n",
       "      <td>Shawshank Redemption, The (1994)</td>\n",
       "      <td>81482</td>\n",
       "    </tr>\n",
       "  </tbody>\n",
       "</table>\n",
       "<p>8494 rows × 5 columns</p>\n",
       "</div>"
      ],
      "text/plain": [
       "       Average_Ratings     id  movieId  \\\n",
       "index                                    \n",
       "6020          1.027578   6483     6483   \n",
       "4420          1.125561   4775     4775   \n",
       "1614          1.195214   1826     1826   \n",
       "11720         1.205566  61348    61348   \n",
       "6124          1.214380   6587     6587   \n",
       "...                ...    ...      ...   \n",
       "1798          4.254769   2019     2019   \n",
       "1104          4.261759   1221     1221   \n",
       "48            4.284353     50       50   \n",
       "781           4.324336    858      858   \n",
       "294           4.413576    318      318   \n",
       "\n",
       "                                         title_eng    cnt  \n",
       "index                                                      \n",
       "6020                   From Justin to Kelly (2003)    417  \n",
       "4420                                Glitter (2001)    669  \n",
       "1614               Barney's Great Adventure (1998)    397  \n",
       "11720                        Disaster Movie (2008)    557  \n",
       "6124                                  Gigli (2003)    758  \n",
       "...                                            ...    ...  \n",
       "1798   Seven Samurai (Shichinin no samurai) (1954)  13367  \n",
       "1104                Godfather: Part II, The (1974)  34188  \n",
       "48                      Usual Suspects, The (1995)  55366  \n",
       "781                          Godfather, The (1972)  52498  \n",
       "294               Shawshank Redemption, The (1994)  81482  \n",
       "\n",
       "[8494 rows x 5 columns]"
      ]
     },
     "execution_count": 432,
     "metadata": {},
     "output_type": "execute_result"
    }
   ],
   "source": [
    "movie_rating = movies_raitings[movies_raitings.movieId.isin(movies_filters)]\n",
    "movie_rating"
   ]
  },
  {
   "cell_type": "code",
   "execution_count": 433,
   "metadata": {},
   "outputs": [],
   "source": [
    "users_ratings = users_ratings[['userId','movieId','rating']]"
   ]
  },
  {
   "cell_type": "markdown",
   "metadata": {},
   "source": [
    "# getting the min max rating "
   ]
  },
  {
   "cell_type": "code",
   "execution_count": 434,
   "metadata": {},
   "outputs": [],
   "source": [
    "#min_rat = users_ratings.rating.min()\n",
    "#max_rat = users_ratings.rating.max()"
   ]
  },
  {
   "cell_type": "markdown",
   "metadata": {},
   "source": [
    "# specify the range of rating"
   ]
  },
  {
   "cell_type": "code",
   "execution_count": 435,
   "metadata": {},
   "outputs": [],
   "source": [
    "#reader = Reader(rating_scale=(min_rat,max_rat))"
   ]
  },
  {
   "cell_type": "markdown",
   "metadata": {},
   "source": [
    "# Loading users_ratings using load_from_df for model comparison: \n",
    "The columns must correspond to user id, item id and ratings (in that order)"
   ]
  },
  {
   "cell_type": "code",
   "execution_count": 436,
   "metadata": {},
   "outputs": [],
   "source": [
    "#data = Dataset.load_from_df(users_ratings, reader)"
   ]
  },
  {
   "cell_type": "markdown",
   "metadata": {},
   "source": [
    "# Comparing models using:\n",
    "\n",
    "- Filtering movies that are atleast rated by 50 users\n",
    "\n",
    "- Filtering users have atleast rated 20 movies\n",
    "\n",
    "- Taking only 2000 users data \n",
    "\n",
    "\n",
    "## Models compared - SVD()\n",
    "\n",
    "- SVD()\n",
    "\n",
    "- SVDpp()\n",
    "\n",
    "- SlopeOne() \n",
    "\n",
    "- NMF()\n",
    "\n",
    "- NormalPredictor()\n",
    "\n",
    "- KNNBaseline()\n",
    "\n",
    "- KNNBasic()\n",
    "\n",
    "- KNNWithMeans()\n",
    "\n",
    "- KNNWithZScore()\n",
    "\n",
    "- BaselineOnly()\n",
    "\n",
    "- CoClustering()\n",
    "\n",
    "The below block has been executed once, I have commented it now. The results are stored and can be read from the parq file."
   ]
  },
  {
   "cell_type": "code",
   "execution_count": 323,
   "metadata": {},
   "outputs": [
    {
     "name": "stdout",
     "output_type": "stream",
     "text": [
      "Estimating biases using als...\n",
      "Computing the msd similarity matrix...\n",
      "Done computing similarity matrix.\n",
      "Estimating biases using als...\n",
      "Computing the msd similarity matrix...\n",
      "Done computing similarity matrix.\n",
      "Estimating biases using als...\n",
      "Computing the msd similarity matrix...\n",
      "Done computing similarity matrix.\n",
      "Estimating biases using als...\n",
      "Computing the msd similarity matrix...\n",
      "Done computing similarity matrix.\n",
      "Estimating biases using als...\n",
      "Computing the msd similarity matrix...\n",
      "Done computing similarity matrix.\n",
      "Computing the msd similarity matrix...\n",
      "Done computing similarity matrix.\n",
      "Computing the msd similarity matrix...\n",
      "Done computing similarity matrix.\n",
      "Computing the msd similarity matrix...\n",
      "Done computing similarity matrix.\n",
      "Computing the msd similarity matrix...\n",
      "Done computing similarity matrix.\n",
      "Computing the msd similarity matrix...\n",
      "Done computing similarity matrix.\n",
      "Computing the msd similarity matrix...\n",
      "Done computing similarity matrix.\n",
      "Computing the msd similarity matrix...\n",
      "Done computing similarity matrix.\n",
      "Computing the msd similarity matrix...\n",
      "Done computing similarity matrix.\n",
      "Computing the msd similarity matrix...\n",
      "Done computing similarity matrix.\n",
      "Computing the msd similarity matrix...\n",
      "Done computing similarity matrix.\n",
      "Computing the msd similarity matrix...\n",
      "Done computing similarity matrix.\n",
      "Computing the msd similarity matrix...\n",
      "Done computing similarity matrix.\n",
      "Computing the msd similarity matrix...\n",
      "Done computing similarity matrix.\n",
      "Computing the msd similarity matrix...\n",
      "Done computing similarity matrix.\n",
      "Computing the msd similarity matrix...\n",
      "Done computing similarity matrix.\n",
      "Estimating biases using als...\n",
      "Estimating biases using als...\n",
      "Estimating biases using als...\n",
      "Estimating biases using als...\n",
      "Estimating biases using als...\n"
     ]
    },
    {
     "data": {
      "text/html": [
       "<div>\n",
       "<style scoped>\n",
       "    .dataframe tbody tr th:only-of-type {\n",
       "        vertical-align: middle;\n",
       "    }\n",
       "\n",
       "    .dataframe tbody tr th {\n",
       "        vertical-align: top;\n",
       "    }\n",
       "\n",
       "    .dataframe thead th {\n",
       "        text-align: right;\n",
       "    }\n",
       "</style>\n",
       "<table border=\"1\" class=\"dataframe\">\n",
       "  <thead>\n",
       "    <tr style=\"text-align: right;\">\n",
       "      <th></th>\n",
       "      <th>test_rmse</th>\n",
       "      <th>fit_time</th>\n",
       "      <th>test_time</th>\n",
       "    </tr>\n",
       "    <tr>\n",
       "      <th>Algorithm</th>\n",
       "      <th></th>\n",
       "      <th></th>\n",
       "      <th></th>\n",
       "    </tr>\n",
       "  </thead>\n",
       "  <tbody>\n",
       "    <tr>\n",
       "      <th>SVDpp</th>\n",
       "      <td>0.861129</td>\n",
       "      <td>462.958016</td>\n",
       "      <td>10.322501</td>\n",
       "    </tr>\n",
       "    <tr>\n",
       "      <th>KNNBaseline</th>\n",
       "      <td>0.872298</td>\n",
       "      <td>0.837598</td>\n",
       "      <td>4.294919</td>\n",
       "    </tr>\n",
       "    <tr>\n",
       "      <th>SVD</th>\n",
       "      <td>0.873201</td>\n",
       "      <td>6.605405</td>\n",
       "      <td>0.887461</td>\n",
       "    </tr>\n",
       "    <tr>\n",
       "      <th>BaselineOnly</th>\n",
       "      <td>0.873619</td>\n",
       "      <td>0.468036</td>\n",
       "      <td>0.219396</td>\n",
       "    </tr>\n",
       "    <tr>\n",
       "      <th>KNNWithZScore</th>\n",
       "      <td>0.888305</td>\n",
       "      <td>0.484463</td>\n",
       "      <td>3.748407</td>\n",
       "    </tr>\n",
       "    <tr>\n",
       "      <th>SlopeOne</th>\n",
       "      <td>0.890172</td>\n",
       "      <td>4.729213</td>\n",
       "      <td>8.984330</td>\n",
       "    </tr>\n",
       "    <tr>\n",
       "      <th>KNNWithMeans</th>\n",
       "      <td>0.890277</td>\n",
       "      <td>0.375818</td>\n",
       "      <td>3.360498</td>\n",
       "    </tr>\n",
       "    <tr>\n",
       "      <th>NMF</th>\n",
       "      <td>0.910947</td>\n",
       "      <td>8.046180</td>\n",
       "      <td>0.339043</td>\n",
       "    </tr>\n",
       "    <tr>\n",
       "      <th>KNNBasic</th>\n",
       "      <td>0.933375</td>\n",
       "      <td>0.357826</td>\n",
       "      <td>3.366534</td>\n",
       "    </tr>\n",
       "    <tr>\n",
       "      <th>CoClustering</th>\n",
       "      <td>0.934589</td>\n",
       "      <td>3.150512</td>\n",
       "      <td>0.353182</td>\n",
       "    </tr>\n",
       "    <tr>\n",
       "      <th>NormalPredictor</th>\n",
       "      <td>1.405882</td>\n",
       "      <td>0.213049</td>\n",
       "      <td>0.300255</td>\n",
       "    </tr>\n",
       "  </tbody>\n",
       "</table>\n",
       "</div>"
      ],
      "text/plain": [
       "                 test_rmse    fit_time  test_time\n",
       "Algorithm                                        \n",
       "SVDpp             0.861129  462.958016  10.322501\n",
       "KNNBaseline       0.872298    0.837598   4.294919\n",
       "SVD               0.873201    6.605405   0.887461\n",
       "BaselineOnly      0.873619    0.468036   0.219396\n",
       "KNNWithZScore     0.888305    0.484463   3.748407\n",
       "SlopeOne          0.890172    4.729213   8.984330\n",
       "KNNWithMeans      0.890277    0.375818   3.360498\n",
       "NMF               0.910947    8.046180   0.339043\n",
       "KNNBasic          0.933375    0.357826   3.366534\n",
       "CoClustering      0.934589    3.150512   0.353182\n",
       "NormalPredictor   1.405882    0.213049   0.300255"
      ]
     },
     "execution_count": 323,
     "metadata": {},
     "output_type": "execute_result"
    }
   ],
   "source": [
    "\"\"\"\n",
    "results_test_df = []\n",
    "# Iterate over all surprise algorithms\n",
    "\n",
    "for algorithm in [SVD(), SVDpp(), SlopeOne(), NMF(), NormalPredictor(), KNNBaseline(), KNNBasic(), KNNWithMeans(), KNNWithZScore(), BaselineOnly(), CoClustering()]:\n",
    "    # Perform cross validation cv =5\n",
    "    results = cross_validate(algorithm, data, measures=['RMSE'], cv=5, verbose=False)\n",
    "    \n",
    "    # Get results & append into results_test_df\n",
    "    tmp = pd.DataFrame.from_dict(results).mean(axis=0)\n",
    "    tmp = tmp.append(pd.Series([str(algorithm).split(' ')[0].split('.')[-1]], index=['Algorithm']))\n",
    "    results_test_df.append(tmp)\n",
    "    \n",
    "pd.DataFrame(results_test_df).set_index('Algorithm').sort_values('test_rmse')  \n",
    "\n",
    "\"\"\"\n",
    "\n",
    "\n",
    "\n"
   ]
  },
  {
   "cell_type": "markdown",
   "metadata": {},
   "source": [
    "# df_test_score contains the comparison statistics of the above models "
   ]
  },
  {
   "cell_type": "code",
   "execution_count": 324,
   "metadata": {},
   "outputs": [],
   "source": [
    "#df_test_score = pd.DataFrame(results_test_df).set_index('Algorithm').sort_values('test_rmse')  "
   ]
  },
  {
   "cell_type": "markdown",
   "metadata": {},
   "source": [
    "# Storing the comparison results"
   ]
  },
  {
   "cell_type": "code",
   "execution_count": 325,
   "metadata": {},
   "outputs": [],
   "source": [
    "#df_test_score.to_parquet('test_rmse_score_comparison.parq', engine = 'fastparquet', compression = 'GZIP')"
   ]
  },
  {
   "cell_type": "markdown",
   "metadata": {},
   "source": [
    "# getting the model with least rmse"
   ]
  },
  {
   "cell_type": "code",
   "execution_count": 327,
   "metadata": {},
   "outputs": [
    {
     "data": {
      "text/html": [
       "<div>\n",
       "<style scoped>\n",
       "    .dataframe tbody tr th:only-of-type {\n",
       "        vertical-align: middle;\n",
       "    }\n",
       "\n",
       "    .dataframe tbody tr th {\n",
       "        vertical-align: top;\n",
       "    }\n",
       "\n",
       "    .dataframe thead th {\n",
       "        text-align: right;\n",
       "    }\n",
       "</style>\n",
       "<table border=\"1\" class=\"dataframe\">\n",
       "  <thead>\n",
       "    <tr style=\"text-align: right;\">\n",
       "      <th></th>\n",
       "      <th>test_rmse</th>\n",
       "      <th>fit_time</th>\n",
       "      <th>test_time</th>\n",
       "    </tr>\n",
       "    <tr>\n",
       "      <th>Algorithm</th>\n",
       "      <th></th>\n",
       "      <th></th>\n",
       "      <th></th>\n",
       "    </tr>\n",
       "  </thead>\n",
       "  <tbody>\n",
       "    <tr>\n",
       "      <th>SVDpp</th>\n",
       "      <td>0.861129</td>\n",
       "      <td>462.958016</td>\n",
       "      <td>10.322501</td>\n",
       "    </tr>\n",
       "    <tr>\n",
       "      <th>KNNBaseline</th>\n",
       "      <td>0.872298</td>\n",
       "      <td>0.837598</td>\n",
       "      <td>4.294919</td>\n",
       "    </tr>\n",
       "  </tbody>\n",
       "</table>\n",
       "</div>"
      ],
      "text/plain": [
       "             test_rmse    fit_time  test_time\n",
       "Algorithm                                    \n",
       "SVDpp         0.861129  462.958016  10.322501\n",
       "KNNBaseline   0.872298    0.837598   4.294919"
      ]
     },
     "execution_count": 327,
     "metadata": {},
     "output_type": "execute_result"
    }
   ],
   "source": [
    "df_test_score = pd.read_parquet('test_rmse_score_comparison.parq')\n",
    "df_test_score[:2]"
   ]
  },
  {
   "cell_type": "markdown",
   "metadata": {},
   "source": [
    "# Building a recommendation model using SVDpp()\n",
    "\n",
    "The model has beed commented and dumped into a pickle file."
   ]
  },
  {
   "cell_type": "code",
   "execution_count": 328,
   "metadata": {},
   "outputs": [],
   "source": [
    "#svd = SVDpp()"
   ]
  },
  {
   "cell_type": "code",
   "execution_count": 437,
   "metadata": {},
   "outputs": [],
   "source": [
    "#KNN = KNNBaseline()"
   ]
  },
  {
   "cell_type": "markdown",
   "metadata": {},
   "source": [
    "## Building a train set using the complete data"
   ]
  },
  {
   "cell_type": "code",
   "execution_count": 438,
   "metadata": {},
   "outputs": [],
   "source": [
    "#trainset = data.build_full_trainset()"
   ]
  },
  {
   "cell_type": "markdown",
   "metadata": {},
   "source": [
    "## fit the trainset"
   ]
  },
  {
   "cell_type": "code",
   "execution_count": 330,
   "metadata": {},
   "outputs": [
    {
     "data": {
      "text/plain": [
       "<surprise.prediction_algorithms.matrix_factorization.SVDpp at 0x7feb63814350>"
      ]
     },
     "execution_count": 330,
     "metadata": {},
     "output_type": "execute_result"
    }
   ],
   "source": [
    "#svd.fit(trainset)"
   ]
  },
  {
   "cell_type": "code",
   "execution_count": 439,
   "metadata": {},
   "outputs": [
    {
     "name": "stdout",
     "output_type": "stream",
     "text": [
      "Estimating biases using als...\n",
      "Computing the msd similarity matrix...\n",
      "Done computing similarity matrix.\n"
     ]
    },
    {
     "data": {
      "text/plain": [
       "<surprise.prediction_algorithms.knns.KNNBaseline at 0x7feaf0a60ad0>"
      ]
     },
     "execution_count": 439,
     "metadata": {},
     "output_type": "execute_result"
    }
   ],
   "source": [
    "#KNN.fit(trainset)"
   ]
  },
  {
   "cell_type": "markdown",
   "metadata": {},
   "source": [
    "## save the model "
   ]
  },
  {
   "cell_type": "code",
   "execution_count": 331,
   "metadata": {},
   "outputs": [],
   "source": [
    "#filename = 'svdpp_model.pkl'\n",
    "#pickle.dump(svd, open(filename, 'wb'))"
   ]
  },
  {
   "cell_type": "code",
   "execution_count": 440,
   "metadata": {},
   "outputs": [],
   "source": [
    "#filename = 'KNNBaseline_model.pkl'\n",
    "#pickle.dump(KNN, open(filename, 'wb'))"
   ]
  },
  {
   "cell_type": "code",
   "execution_count": null,
   "metadata": {},
   "outputs": [],
   "source": [
    "## load the model from the dump"
   ]
  },
  {
   "cell_type": "code",
   "execution_count": 333,
   "metadata": {},
   "outputs": [],
   "source": [
    "#svdpp = pickle.load(open(filename, 'rb'))"
   ]
  },
  {
   "cell_type": "code",
   "execution_count": 441,
   "metadata": {},
   "outputs": [],
   "source": [
    "#KNNBas = pickle.load(open(filename, 'rb'))"
   ]
  },
  {
   "cell_type": "markdown",
   "metadata": {},
   "source": [
    "## Recommendation:\n",
    "\n",
    "\n",
    "1) testset : Create user Item combination that is not available in the train set.\n",
    "\n",
    "2) predictions: predict ratings for the user-item in the test set\n",
    "\n",
    "3) Save all the predictions data into predicted_ratings\n",
    "\n",
    "All the predictions are saved into the predictions_df\n",
    "\n"
   ]
  },
  {
   "cell_type": "code",
   "execution_count": 442,
   "metadata": {},
   "outputs": [],
   "source": [
    "#testset = trainset.build_anti_testset()"
   ]
  },
  {
   "cell_type": "code",
   "execution_count": 335,
   "metadata": {},
   "outputs": [],
   "source": [
    "#predictions = svdpp.test(testset)"
   ]
  },
  {
   "cell_type": "code",
   "execution_count": 446,
   "metadata": {},
   "outputs": [],
   "source": [
    "#predictions = KNNBas.test(testset)"
   ]
  },
  {
   "cell_type": "code",
   "execution_count": 447,
   "metadata": {},
   "outputs": [],
   "source": [
    "#predicted_ratings = pd.DataFrame(predictions)"
   ]
  },
  {
   "cell_type": "code",
   "execution_count": 448,
   "metadata": {},
   "outputs": [],
   "source": [
    "#predicted_ratings.to_parquet('predictions_df.parq', compression='gzip')"
   ]
  },
  {
   "cell_type": "code",
   "execution_count": 449,
   "metadata": {},
   "outputs": [],
   "source": [
    "#predicted_ratings.to_parquet('KNN_predictions_df.parq', compression='gzip')"
   ]
  },
  {
   "cell_type": "code",
   "execution_count": 492,
   "metadata": {},
   "outputs": [],
   "source": [
    "#predicted_ratings = pd.read_parquet('predictions_df.parq')"
   ]
  },
  {
   "cell_type": "markdown",
   "metadata": {},
   "source": [
    "# Recommendation starts here "
   ]
  },
  {
   "cell_type": "code",
   "execution_count": 494,
   "metadata": {},
   "outputs": [],
   "source": [
    "predicted_ratings = pd.read_parquet('KNN_predictions_df.parq')"
   ]
  },
  {
   "cell_type": "code",
   "execution_count": 495,
   "metadata": {},
   "outputs": [
    {
     "data": {
      "text/html": [
       "<div>\n",
       "<style scoped>\n",
       "    .dataframe tbody tr th:only-of-type {\n",
       "        vertical-align: middle;\n",
       "    }\n",
       "\n",
       "    .dataframe tbody tr th {\n",
       "        vertical-align: top;\n",
       "    }\n",
       "\n",
       "    .dataframe thead th {\n",
       "        text-align: right;\n",
       "    }\n",
       "</style>\n",
       "<table border=\"1\" class=\"dataframe\">\n",
       "  <thead>\n",
       "    <tr style=\"text-align: right;\">\n",
       "      <th></th>\n",
       "      <th>uid</th>\n",
       "      <th>iid</th>\n",
       "      <th>r_ui</th>\n",
       "      <th>est</th>\n",
       "      <th>details</th>\n",
       "    </tr>\n",
       "  </thead>\n",
       "  <tbody>\n",
       "    <tr>\n",
       "      <th>0</th>\n",
       "      <td>107</td>\n",
       "      <td>150</td>\n",
       "      <td>3.561143</td>\n",
       "      <td>3.705131</td>\n",
       "      <td>{'actual_k': 40, 'was_impossible': False}</td>\n",
       "    </tr>\n",
       "    <tr>\n",
       "      <th>1</th>\n",
       "      <td>107</td>\n",
       "      <td>1036</td>\n",
       "      <td>3.561143</td>\n",
       "      <td>3.540487</td>\n",
       "      <td>{'actual_k': 40, 'was_impossible': False}</td>\n",
       "    </tr>\n",
       "    <tr>\n",
       "      <th>2</th>\n",
       "      <td>107</td>\n",
       "      <td>1206</td>\n",
       "      <td>3.561143</td>\n",
       "      <td>3.457514</td>\n",
       "      <td>{'actual_k': 40, 'was_impossible': False}</td>\n",
       "    </tr>\n",
       "    <tr>\n",
       "      <th>3</th>\n",
       "      <td>107</td>\n",
       "      <td>1214</td>\n",
       "      <td>3.561143</td>\n",
       "      <td>3.956070</td>\n",
       "      <td>{'actual_k': 40, 'was_impossible': False}</td>\n",
       "    </tr>\n",
       "    <tr>\n",
       "      <th>4</th>\n",
       "      <td>107</td>\n",
       "      <td>1240</td>\n",
       "      <td>3.561143</td>\n",
       "      <td>3.354731</td>\n",
       "      <td>{'actual_k': 40, 'was_impossible': False}</td>\n",
       "    </tr>\n",
       "    <tr>\n",
       "      <th>...</th>\n",
       "      <td>...</td>\n",
       "      <td>...</td>\n",
       "      <td>...</td>\n",
       "      <td>...</td>\n",
       "      <td>...</td>\n",
       "    </tr>\n",
       "    <tr>\n",
       "      <th>8348141</th>\n",
       "      <td>162413</td>\n",
       "      <td>110407</td>\n",
       "      <td>3.561143</td>\n",
       "      <td>1.205518</td>\n",
       "      <td>{'actual_k': 1, 'was_impossible': False}</td>\n",
       "    </tr>\n",
       "    <tr>\n",
       "      <th>8348142</th>\n",
       "      <td>162413</td>\n",
       "      <td>183909</td>\n",
       "      <td>3.561143</td>\n",
       "      <td>3.211447</td>\n",
       "      <td>{'actual_k': 0, 'was_impossible': False}</td>\n",
       "    </tr>\n",
       "    <tr>\n",
       "      <th>8348143</th>\n",
       "      <td>162413</td>\n",
       "      <td>7613</td>\n",
       "      <td>3.561143</td>\n",
       "      <td>3.121062</td>\n",
       "      <td>{'actual_k': 0, 'was_impossible': False}</td>\n",
       "    </tr>\n",
       "    <tr>\n",
       "      <th>8348144</th>\n",
       "      <td>162413</td>\n",
       "      <td>27040</td>\n",
       "      <td>3.561143</td>\n",
       "      <td>3.121062</td>\n",
       "      <td>{'actual_k': 0, 'was_impossible': False}</td>\n",
       "    </tr>\n",
       "    <tr>\n",
       "      <th>8348145</th>\n",
       "      <td>162413</td>\n",
       "      <td>3086</td>\n",
       "      <td>3.561143</td>\n",
       "      <td>3.208358</td>\n",
       "      <td>{'actual_k': 0, 'was_impossible': False}</td>\n",
       "    </tr>\n",
       "  </tbody>\n",
       "</table>\n",
       "<p>8348146 rows × 5 columns</p>\n",
       "</div>"
      ],
      "text/plain": [
       "            uid     iid      r_ui       est  \\\n",
       "0           107     150  3.561143  3.705131   \n",
       "1           107    1036  3.561143  3.540487   \n",
       "2           107    1206  3.561143  3.457514   \n",
       "3           107    1214  3.561143  3.956070   \n",
       "4           107    1240  3.561143  3.354731   \n",
       "...         ...     ...       ...       ...   \n",
       "8348141  162413  110407  3.561143  1.205518   \n",
       "8348142  162413  183909  3.561143  3.211447   \n",
       "8348143  162413    7613  3.561143  3.121062   \n",
       "8348144  162413   27040  3.561143  3.121062   \n",
       "8348145  162413    3086  3.561143  3.208358   \n",
       "\n",
       "                                           details  \n",
       "0        {'actual_k': 40, 'was_impossible': False}  \n",
       "1        {'actual_k': 40, 'was_impossible': False}  \n",
       "2        {'actual_k': 40, 'was_impossible': False}  \n",
       "3        {'actual_k': 40, 'was_impossible': False}  \n",
       "4        {'actual_k': 40, 'was_impossible': False}  \n",
       "...                                            ...  \n",
       "8348141   {'actual_k': 1, 'was_impossible': False}  \n",
       "8348142   {'actual_k': 0, 'was_impossible': False}  \n",
       "8348143   {'actual_k': 0, 'was_impossible': False}  \n",
       "8348144   {'actual_k': 0, 'was_impossible': False}  \n",
       "8348145   {'actual_k': 0, 'was_impossible': False}  \n",
       "\n",
       "[8348146 rows x 5 columns]"
      ]
     },
     "execution_count": 495,
     "metadata": {},
     "output_type": "execute_result"
    }
   ],
   "source": [
    "predicted_ratings"
   ]
  },
  {
   "cell_type": "code",
   "execution_count": 453,
   "metadata": {},
   "outputs": [],
   "source": [
    "def collaborative_filtering_model(userId,movie_rating,predicted_ratings,top_n):\n",
    "    \n",
    "    \"\"\"\n",
    "    This functions recommends top_n movies to the end user\n",
    "    \n",
    "    \"\"\"\n",
    "\n",
    "    single_user = predicted_ratings[predicted_ratings['uid']==userId]\n",
    "    top_nmovies = single_user.sort_values(by = ['est'] , ascending = False)[:top_n]['iid']\n",
    "    \n",
    "    recommendations = pd.merge(top_nmovies,movie_rating, how='left', left_on='iid',right_on='movieId')\n",
    "    \n",
    "    \n",
    "    recommendations = recommendations[['movieId', 'title_eng', 'Average_Ratings', 'cnt']]\n",
    "    \n",
    "    return recommendations"
   ]
  },
  {
   "cell_type": "code",
   "execution_count": 473,
   "metadata": {},
   "outputs": [],
   "source": [
    "recommendation_system = collaborative_filtering_model"
   ]
  },
  {
   "cell_type": "markdown",
   "metadata": {},
   "source": [
    "## Using the precision_recall_at_k from Surprise documentation\n",
    "\n",
    "An item is considered relevant if its true rating 𝑟𝑢𝑖 is greater than a given threshold.\n",
    "\n",
    "An item is considered recommended if its estimated rating 𝑟̂𝑢𝑖\n",
    "is greater than the threshold, and if it is among the k highest estimated ratings.\n",
    "\n"
   ]
  },
  {
   "cell_type": "code",
   "execution_count": 479,
   "metadata": {},
   "outputs": [],
   "source": [
    "f = open(\"Evaluations_collaborative_filtering_model_KNNothers.txt\", \"w\")"
   ]
  },
  {
   "cell_type": "code",
   "execution_count": 475,
   "metadata": {},
   "outputs": [],
   "source": [
    "def precision_recall_at_k(predictions, k=10, threshold=3.5):\n",
    "    '''Return precision and recall at k metrics for each user.'''\n",
    "\n",
    "    # First map the predictions to each user.\n",
    "    user_est_true = defaultdict(list)\n",
    "    for uid, _, true_r, est, _ in predictions:\n",
    "        user_est_true[uid].append((est, true_r))\n",
    "\n",
    "    precisions = dict()\n",
    "    recalls = dict()\n",
    "    for uid, user_ratings in user_est_true.items():\n",
    "\n",
    "        # Sort user ratings by estimated value\n",
    "        user_ratings.sort(key=lambda x: x[0], reverse=True)\n",
    "\n",
    "        # Number of relevant items\n",
    "        n_rel = sum((true_r >= threshold) for (_, true_r) in user_ratings)\n",
    "\n",
    "        # Number of recommended items in top k\n",
    "        n_rec_k = sum((est >= threshold) for (est, _) in user_ratings[:k])\n",
    "\n",
    "        # Number of relevant and recommended items in top k\n",
    "        n_rel_and_rec_k = sum(((true_r >= threshold) and (est >= threshold))\n",
    "                              for (est, true_r) in user_ratings[:k])\n",
    "\n",
    "        # Precision@K: Proportion of recommended items that are relevant\n",
    "        precisions[uid] = n_rel_and_rec_k / n_rec_k if n_rec_k != 0 else 1\n",
    "\n",
    "        # Recall@K: Proportion of relevant items that are recommended\n",
    "        recalls[uid] = n_rel_and_rec_k / n_rel if n_rel != 0 else 1\n",
    "\n",
    "    return precisions, recalls\n",
    "\n",
    "\n",
    "data = data = Dataset.load_from_df(users_ratings, reader)"
   ]
  },
  {
   "cell_type": "markdown",
   "metadata": {},
   "source": [
    "# With K =5"
   ]
  },
  {
   "cell_type": "code",
   "execution_count": 476,
   "metadata": {},
   "outputs": [
    {
     "ename": "KeyboardInterrupt",
     "evalue": "",
     "output_type": "error",
     "traceback": [
      "\u001b[0;31m---------------------------------------------------------------------------\u001b[0m",
      "\u001b[0;31mKeyboardInterrupt\u001b[0m                         Traceback (most recent call last)",
      "\u001b[0;32m<ipython-input-476-1b74320a7a45>\u001b[0m in \u001b[0;36m<module>\u001b[0;34m\u001b[0m\n\u001b[1;32m      6\u001b[0m \u001b[0;32mfor\u001b[0m \u001b[0mtrainset\u001b[0m\u001b[0;34m,\u001b[0m \u001b[0mtestset\u001b[0m \u001b[0;32min\u001b[0m \u001b[0mkf\u001b[0m\u001b[0;34m.\u001b[0m\u001b[0msplit\u001b[0m\u001b[0;34m(\u001b[0m\u001b[0mdata\u001b[0m\u001b[0;34m)\u001b[0m\u001b[0;34m:\u001b[0m\u001b[0;34m\u001b[0m\u001b[0;34m\u001b[0m\u001b[0m\n\u001b[1;32m      7\u001b[0m     \u001b[0mfold\u001b[0m\u001b[0;34m=\u001b[0m \u001b[0;36m1\u001b[0m\u001b[0;34m\u001b[0m\u001b[0;34m\u001b[0m\u001b[0m\n\u001b[0;32m----> 8\u001b[0;31m     \u001b[0malgo\u001b[0m\u001b[0;34m.\u001b[0m\u001b[0mfit\u001b[0m\u001b[0;34m(\u001b[0m\u001b[0mtrainset\u001b[0m\u001b[0;34m)\u001b[0m\u001b[0;34m\u001b[0m\u001b[0;34m\u001b[0m\u001b[0m\n\u001b[0m\u001b[1;32m      9\u001b[0m     \u001b[0mpredictions\u001b[0m \u001b[0;34m=\u001b[0m \u001b[0malgo\u001b[0m\u001b[0;34m.\u001b[0m\u001b[0mtest\u001b[0m\u001b[0;34m(\u001b[0m\u001b[0mtestset\u001b[0m\u001b[0;34m)\u001b[0m\u001b[0;34m\u001b[0m\u001b[0;34m\u001b[0m\u001b[0m\n\u001b[1;32m     10\u001b[0m     \u001b[0mprecisions\u001b[0m\u001b[0;34m,\u001b[0m \u001b[0mrecalls\u001b[0m \u001b[0;34m=\u001b[0m \u001b[0mprecision_recall_at_k\u001b[0m\u001b[0;34m(\u001b[0m\u001b[0mpredictions\u001b[0m\u001b[0;34m,\u001b[0m \u001b[0mk\u001b[0m\u001b[0;34m=\u001b[0m\u001b[0mk_val\u001b[0m\u001b[0;34m,\u001b[0m \u001b[0mthreshold\u001b[0m\u001b[0;34m=\u001b[0m\u001b[0;36m4\u001b[0m\u001b[0;34m)\u001b[0m\u001b[0;34m\u001b[0m\u001b[0;34m\u001b[0m\u001b[0m\n",
      "\u001b[0;32m/opt/anaconda3/envs/Peritia1/lib/python3.7/site-packages/surprise/prediction_algorithms/matrix_factorization.pyx\u001b[0m in \u001b[0;36msurprise.prediction_algorithms.matrix_factorization.SVDpp.fit\u001b[0;34m()\u001b[0m\n",
      "\u001b[0;32m/opt/anaconda3/envs/Peritia1/lib/python3.7/site-packages/surprise/prediction_algorithms/matrix_factorization.pyx\u001b[0m in \u001b[0;36msurprise.prediction_algorithms.matrix_factorization.SVDpp.sgd\u001b[0;34m()\u001b[0m\n",
      "\u001b[0;32m/opt/anaconda3/envs/Peritia1/lib/python3.7/site-packages/surprise/trainset.py\u001b[0m in \u001b[0;36mall_ratings\u001b[0;34m(self)\u001b[0m\n\u001b[1;32m    187\u001b[0m         \u001b[0;32mfor\u001b[0m \u001b[0mu\u001b[0m\u001b[0;34m,\u001b[0m \u001b[0mu_ratings\u001b[0m \u001b[0;32min\u001b[0m \u001b[0miteritems\u001b[0m\u001b[0;34m(\u001b[0m\u001b[0mself\u001b[0m\u001b[0;34m.\u001b[0m\u001b[0mur\u001b[0m\u001b[0;34m)\u001b[0m\u001b[0;34m:\u001b[0m\u001b[0;34m\u001b[0m\u001b[0;34m\u001b[0m\u001b[0m\n\u001b[1;32m    188\u001b[0m             \u001b[0;32mfor\u001b[0m \u001b[0mi\u001b[0m\u001b[0;34m,\u001b[0m \u001b[0mr\u001b[0m \u001b[0;32min\u001b[0m \u001b[0mu_ratings\u001b[0m\u001b[0;34m:\u001b[0m\u001b[0;34m\u001b[0m\u001b[0;34m\u001b[0m\u001b[0m\n\u001b[0;32m--> 189\u001b[0;31m                 \u001b[0;32myield\u001b[0m \u001b[0mu\u001b[0m\u001b[0;34m,\u001b[0m \u001b[0mi\u001b[0m\u001b[0;34m,\u001b[0m \u001b[0mr\u001b[0m\u001b[0;34m\u001b[0m\u001b[0;34m\u001b[0m\u001b[0m\n\u001b[0m\u001b[1;32m    190\u001b[0m \u001b[0;34m\u001b[0m\u001b[0m\n\u001b[1;32m    191\u001b[0m     \u001b[0;32mdef\u001b[0m \u001b[0mbuild_testset\u001b[0m\u001b[0;34m(\u001b[0m\u001b[0mself\u001b[0m\u001b[0;34m)\u001b[0m\u001b[0;34m:\u001b[0m\u001b[0;34m\u001b[0m\u001b[0;34m\u001b[0m\u001b[0m\n",
      "\u001b[0;31mKeyboardInterrupt\u001b[0m: "
     ]
    }
   ],
   "source": [
    "k_val =5\n",
    "kf = KFold(n_splits=5)\n",
    "algo = SVDpp()\n",
    "avg_precision=[]\n",
    "avg_recall=[]\n",
    "for trainset, testset in kf.split(data):\n",
    "    \n",
    "    algo.fit(trainset)\n",
    "    predictions = algo.test(testset)\n",
    "    precisions, recalls = precision_recall_at_k(predictions, k=k_val, threshold=4)\n",
    "\n",
    "    # Precision and recall can then be averaged over all users\n",
    "    precision_kfold= sum(prec for prec in precisions.values()) / len(precisions)\n",
    "    recall_kfold= sum(rec for rec in recalls.values()) / len(recalls)\n",
    "    \n",
    "    print(f'Precision is {precision_kfold}', file = f)\n",
    "    print(f'Recall is {recall_kfold}', file = f)\n",
    "    \n",
    "    avg_precision.append(precision_kfold)\n",
    "    avg_recall.append(recall_kfold)\n",
    "    \n",
    "    \n",
    "print(f'Avg Precision @{k_val} for kfold ={5} is {np.mean(avg_precision)}', file = f)\n",
    "print(f'Avg Recall @{k_val} for kfold ={5} is {np.mean(avg_recall)}', file = f)"
   ]
  },
  {
   "cell_type": "markdown",
   "metadata": {},
   "source": [
    "# Personalization"
   ]
  },
  {
   "cell_type": "code",
   "execution_count": 480,
   "metadata": {},
   "outputs": [],
   "source": [
    "\"\"\"\n",
    "get_users_prediction: returns user prediction\n",
    "\n",
    "user_matrix: generated user by movies, 0: movie not recommended, 1: movie got recommended\n",
    "\n",
    "\"\"\"\n",
    "def get_users_prediction(users_list,top_n,users_prediction,recommendation_system,movie_rating,predicted_ratings):\n",
    "    for i in users_list:\n",
    "        \n",
    "        recommendation = recommendation_system(i,movie_rating,predicted_ratings,top_n)\n",
    "        \n",
    "        prediction = recommendation['movieId'].astype(int).values\n",
    "        users_prediction = users_prediction.append(pd.Series(prediction),ignore_index=True)\n",
    "        \n",
    "    return users_prediction\n",
    "\n",
    "def user_matrix(users_pred):\n",
    "    \n",
    "    data_melt= pd.DataFrame(data=users_pred).reset_index().melt(id_vars='index', value_name='movieId',)\n",
    "    #print(data_melt)\n",
    "    #print(data_melt.values)\n",
    "    data_melt = data_melt[['index', 'movieId']].pivot(index='index', columns='movieId', values='movieId')\n",
    "    #print(data_melt.values)\n",
    "    cols = data_melt.columns\n",
    "    for i in cols:\n",
    "        data_melt[i] = np.where(data_melt[i].isna(), 0, 1)\n",
    "    return data_melt\n",
    "\n",
    "\n",
    "def personalization(users_matrix,n):\n",
    "    # generating cosine similarity between the users\n",
    "    #then getting the indicies of elements above diagonal (giving diagonal offsert =1 in triu_indices)\n",
    "    #calculating the avg of the element above diagonal \n",
    "    #Personalization means 1 - similarity\n",
    "    #higher the personalization score, better the recommendation system in recommending personalized movies\n",
    "   \n",
    "    users_sim = metrics.pairwise.cosine_similarity(users_matrix)\n",
    "    iu1 = np.triu_indices(n,k=1)\n",
    "    similarity_avg = np.mean(users_sim[iu1])\n",
    "    personalization_score = 1 - similarity_avg\n",
    "\n",
    "    return personalization_score\n",
    "\n",
    "def cross_fold_eval(unique_users,recommendation_system,movie_rating,predicted_ratings,k_fold=10,n=10,top_n=10):\n",
    "    #users_list: List of random n users\n",
    "    \n",
    "    kfold_personalization=0\n",
    "    for i in range(k_fold):\n",
    "        users_list = random.sample(unique_users,n)\n",
    "        #columns: top_n recommendations\n",
    "        #users_prediction:  top_n recommendations for n users\n",
    "        column_names = list(range(top_n))\n",
    "        users_prediction = pd.DataFrame(columns = column_names)\n",
    "        \n",
    "        # getting predictions for sampled users\n",
    "        users_pred = get_users_prediction(users_list,top_n,users_prediction,recommendation_system, movie_rating,predicted_ratings)\n",
    "        \n",
    "        # getting user by movies matrix with binary indicators 0: movie not recommended, 1: movie got recommended\n",
    "        users_matrix = user_matrix(users_pred)\n",
    "        kfold_personalization+=personalization(users_matrix,n)\n",
    "    kfold_eval = kfold_personalization/k_fold\n",
    "    print(f'Personalization score for {k_fold} folds across {n} users for top {top_n} recommendations: {round(kfold_eval,20)}', file = f)"
   ]
  },
  {
   "cell_type": "code",
   "execution_count": 481,
   "metadata": {
    "scrolled": false
   },
   "outputs": [],
   "source": [
    "\"\"\"\n",
    "    unique_users: getting unique user set \n",
    "    \n",
    "    default values given in function\n",
    "    n: number of users \n",
    "    top_n: top number of recommendations (10)\n",
    "    recommendation_system: Name of the recommendation system\n",
    "    \n",
    "\"\"\"\n",
    "\n",
    "unique_users = set(users_ratings.userId)\n",
    "start_time = time.time()\n",
    "cross_fold_eval(unique_users,recommendation_system,movie_rating,predicted_ratings, n = 20)\n"
   ]
  },
  {
   "cell_type": "markdown",
   "metadata": {},
   "source": [
    "# Personal Diversity"
   ]
  },
  {
   "cell_type": "code",
   "execution_count": 482,
   "metadata": {},
   "outputs": [],
   "source": [
    "def personal_diversity(top_n,n,list_user,movie_rating,predicted_ratings,df,movieIds,cols):\n",
    "    #random.seed(42)\n",
    "    rand_user = random.sample(list_user, n)  \n",
    "    length = len(rand_user)\n",
    "    \n",
    "    # storing diversity for n users\n",
    "    diversity =[]\n",
    "    for u in range(length):\n",
    "        # getting recommended movies\n",
    "        recommendation =  recommendation_system(rand_user[u],movie_rating,predicted_ratings,top_n)\n",
    "        prediction = recommendation['movieId'].astype(int).values\n",
    "        predicted_index = [movieIds.index(i) for i in prediction]\n",
    "        user_df = df.loc[predicted_index, :]\n",
    "        user_movie_features = pd.DataFrame()\n",
    "        \n",
    "        # getting only the columns that have any value 1\n",
    "        for k,i in enumerate(predicted_index):\n",
    "            \n",
    "            nonzero_cols = [cols[j] for j in user_df.loc[i,:].to_numpy().nonzero()[0]]\n",
    "            \n",
    "            d = {k:1 for k in nonzero_cols}\n",
    "            d = pd.DataFrame(data = d, index = [prediction[k]])    \n",
    "            user_movie_features = pd.concat([user_movie_features, d])\n",
    "            \n",
    "\n",
    "        # replace NaN with 0\n",
    "        user_movie_features = user_movie_features.fillna(0)\n",
    "        # generating cosine similarity between the users\n",
    "        #then getting the indicies of elements above diagonal (giving diagonal offsert =1 in triu_indices)\n",
    "        #calculating the avg of the element above diagonal \n",
    "        sim = metrics.pairwise.cosine_similarity(np.asmatrix(user_movie_features))\n",
    "\n",
    "        iu1 = np.triu_indices(user_movie_features.shape[0],k=1)\n",
    "        avg = 1 - np.mean(sim[iu1])\n",
    "        \n",
    "        print(f'Diversity of movies recommended for user {rand_user[u]}: {avg}', file = f)\n",
    "        diversity.append(avg)\n",
    "        \n",
    "    # calculating avg diversity over n users\n",
    "    avg_diversity = np.mean(diversity)\n",
    "    print(avg_diversity)\n",
    "    print(f'Average diversity over {n} users for their top {top_n} recommendations (0 = identical): {avg_diversity}', file = f)"
   ]
  },
  {
   "cell_type": "code",
   "execution_count": 483,
   "metadata": {
    "scrolled": false
   },
   "outputs": [
    {
     "name": "stdout",
     "output_type": "stream",
     "text": [
      "0.42221408488485873\n"
     ]
    }
   ],
   "source": [
    "\"\"\"\n",
    "top_n: top n recommendations\n",
    "n: number of users\n",
    "\n",
    "Ignore warning for now - comming from recommendatiom function\n",
    "Fixed the one from this function\n",
    "\"\"\"\n",
    "\n",
    "top_n = 10\n",
    "n = 20\n",
    "list_user = set(users_ratings.userId)\n",
    "\n",
    "personal_diversity(top_n,n,list_user,movie_rating,predicted_ratings,df,movieIds,cols)\n",
    "# function call for personal diversity"
   ]
  },
  {
   "cell_type": "markdown",
   "metadata": {},
   "source": [
    "# Average Rating "
   ]
  },
  {
   "cell_type": "code",
   "execution_count": 484,
   "metadata": {},
   "outputs": [],
   "source": [
    "random.seed(42)\n",
    "rand_user = random.sample(list_user, n)  \n",
    "length = len(rand_user)\n",
    "avg_rating = []\n",
    "for u in range(length):\n",
    "    # getting recommended movies\n",
    "    recommendation = recommendation_system(rand_user[u],movie_rating,predicted_ratings,top_n)\n",
    "    recommendation_rating = recommendation['Average_Ratings'].values\n",
    "    avg_rating.append(recommendation_rating)\n"
   ]
  },
  {
   "cell_type": "code",
   "execution_count": 485,
   "metadata": {},
   "outputs": [],
   "source": [
    "print(f'Average movie rating of top {top_n} movies recommended to {n} users: {np.round(np.mean(avg_rating),2)}', file = f)"
   ]
  },
  {
   "cell_type": "code",
   "execution_count": 486,
   "metadata": {},
   "outputs": [],
   "source": [
    "ranges = ['0-1', '1-2', '2-3', '3-4', '4-5']\n",
    "ad = pd.DataFrame(avg_rating).melt()\n",
    "ad['ratingrange'] = pd.cut(ad['value'], bins=[0,1,2,3,4,5], labels=ranges, right=True)"
   ]
  },
  {
   "cell_type": "code",
   "execution_count": 487,
   "metadata": {},
   "outputs": [
    {
     "data": {
      "text/plain": [
       "Text(0.5, 1.0, 'Ratings - Recommended Movies')"
      ]
     },
     "execution_count": 487,
     "metadata": {},
     "output_type": "execute_result"
    },
    {
     "data": {
      "image/png": "[encoded data removed]",
      "text/plain": [
       "<Figure size 432x288 with 1 Axes>"
      ]
     },
     "metadata": {
      "needs_background": "light"
     },
     "output_type": "display_data"
    }
   ],
   "source": [
    "font = {'weight' : 'bold',\n",
    "        'size'   : 15}\n",
    "plt.rc('font', **font)\n",
    "\n",
    "ax = ad.groupby(['ratingrange'])['ratingrange'].count().plot.bar()\n",
    "ax.set_ylabel('Number of Ratings')\n",
    "ax.set_xlabel('Recommended Movie Rating')\n",
    "ax.set_title('Ratings - Recommended Movies')"
   ]
  },
  {
   "cell_type": "markdown",
   "metadata": {},
   "source": [
    "# Checking for the long tail"
   ]
  },
  {
   "cell_type": "code",
   "execution_count": 488,
   "metadata": {},
   "outputs": [],
   "source": [
    "n = 20\n",
    "top_n = 10\n",
    "random.seed(42)\n",
    "rand_user = random.sample(list_user, n)  \n",
    "length = len(rand_user)\n",
    "top_n\n",
    "min_cnt = []\n",
    "\n",
    "for u in range(length):\n",
    "    # getting recommended movies\n",
    "    recommendation =  recommendation_system(rand_user[u],movie_rating,predicted_ratings,top_n)\n",
    "    recommendation_rating = recommendation['cnt'].values\n",
    "    min_rating_cnt = recommendation_rating.min()\n",
    "    min_cnt.append(min_rating_cnt)\n",
    "avg_min_cnt = np.mean(min_cnt)"
   ]
  },
  {
   "cell_type": "code",
   "execution_count": 489,
   "metadata": {},
   "outputs": [],
   "source": [
    "print(f\"Average of the minimum count of ratings for {n} user's top {top_n} recommendations (long tail): {np.round(avg_min_cnt,2)}\", file = f)"
   ]
  },
  {
   "cell_type": "code",
   "execution_count": 490,
   "metadata": {},
   "outputs": [],
   "source": [
    "f.close()"
   ]
  }
 ],
 "metadata": {
  "kernelspec": {
   "display_name": "Python 3",
   "language": "python",
   "name": "python3"
  },
  "language_info": {
   "codemirror_mode": {
    "name": "ipython",
    "version": 3
   },
   "file_extension": ".py",
   "mimetype": "text/x-python",
   "name": "python",
   "nbconvert_exporter": "python",
   "pygments_lexer": "ipython3",
   "version": "3.7.7"
  }
 },
 "nbformat": 4,
 "nbformat_minor": 4
}
