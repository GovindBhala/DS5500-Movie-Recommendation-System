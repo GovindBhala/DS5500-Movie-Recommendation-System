{
 "cells": [
  {
   "cell_type": "markdown",
   "metadata": {},
   "source": [
    "# Can't get object to be persistant\n",
    "\n",
    "To Do: figure out how to save this profile for use in the personalized recommendations tab\n",
    "- Need to create a userId for them and append to original dataframe?\n",
    "- Or ask if they've create a profile? And then import a specific file that they've created? "
   ]
  },
  {
   "cell_type": "code",
   "execution_count": 1,
   "metadata": {},
   "outputs": [],
   "source": [
    "import streamlit as st \n",
    "import pandas as pd\n",
    "import os\n",
    "import numpy as np\n",
    "import operator\n",
    "import fastparquet\n",
    "import re\n",
    "from fuzzywuzzy import fuzz\n",
    "from sklearn.feature_extraction.text import TfidfVectorizer\n",
    "from sklearn.metrics.pairwise import linear_kernel"
   ]
  },
  {
   "cell_type": "code",
   "execution_count": null,
   "metadata": {},
   "outputs": [],
   "source": [
    "@st.cache(allow_output_mutation=True)\n",
    "def list_create():\n",
    "    return [], [], []"
   ]
  },
  {
   "cell_type": "code",
   "execution_count": null,
   "metadata": {},
   "outputs": [],
   "source": [
    "def write(df):\n",
    "    \n",
    "    st.title('Create a Ratings Profile')\n",
    "    st.write('(1) Type the name of a movie you have watched')\n",
    "    st.write('(2) Select a title from the dropdown of potentially matching movies in our system')\n",
    "    st.write('(3) Provide a rating from 0.5-5.0 (higher better)')\n",
    "    st.write('(4) Click **Submit** to submit this rating')\n",
    "    st.write('Repeat as many times as desired')\n",
    "    st.write('Click **Finished** to submit entire profile')\n",
    "    \n",
    "    \n",
    "    # empty lists to hold user input: will persist across user refresh because of function\n",
    "    ids, ratings, title = list_create()    \n",
    "    \n",
    "    # get user input text\n",
    "    # too many movies for a full drop down \n",
    "    user_text = st.text_input(\"Enter a movie you have watched\")\n",
    "    # downcase input\n",
    "    user_text = user_text.lower()\n",
    "\n",
    "    if user_text == '':\n",
    "        st.write('Waiting for input')\n",
    "    else:\n",
    "\n",
    "        # fuzzy string matching to find similarity ratio between user input and actual movie title (downcased)\n",
    "        # works for misspellings as well \n",
    "        # limit to 70% similarity \n",
    "        options = df.copy()\n",
    "        options['sim'] = options.title_downcased.apply(lambda row: fuzz.ratio(row, user_text))\n",
    "        options = options[options.sim > 70].sort_values('sim', ascending = False).head(10).title_year.unique()\n",
    "\n",
    "        # find movies with titles similar to what they typed\n",
    "        if len(options) > 0:\n",
    "\n",
    "            user_title = st.selectbox('Select Movie', ['<select>'] + list(options))\n",
    "\n",
    "            # once input something, ask for rating\n",
    "            if user_title != '<select>':\n",
    "\n",
    "                # ask for rating\n",
    "                user_rating = st.selectbox('Rate this Movie', [i/2 for i in range(1,11)])\n",
    "\n",
    "                # once hit submit, add to data frame \n",
    "                if st.button('Submit'):\n",
    "\n",
    "                    # find ID of movie they selected\n",
    "                    user_movieid = int(df[df.title_year == user_title].movieId.values[0])\n",
    "\n",
    "                    # add to persistant lists\n",
    "                    ids.append(user_movieid)\n",
    "                    ratings.append(user_rating)\n",
    "                    title.append(user_title)\n",
    "                    \n",
    "                    \n",
    "        # if nothing > 70% similiarity, then can't find a matching movie\n",
    "        else:\n",
    "            st.write(\"Sorry, we can't find any matching movies\")\n",
    "            \n",
    "    if st.button('Finished'):\n",
    "        # create dataframe from lists\n",
    "        d = {'movieId':ids, 'title':title, 'rating':ratings}\n",
    "        profile = pd.DataFrame(d)\n",
    "        st.write('Here is your profile')\n",
    "        st.write(profile)"
   ]
  }
 ],
 "metadata": {
  "kernelspec": {
   "display_name": "Python 3",
   "language": "python",
   "name": "python3"
  },
  "language_info": {
   "codemirror_mode": {
    "name": "ipython",
    "version": 3
   },
   "file_extension": ".py",
   "mimetype": "text/x-python",
   "name": "python",
   "nbconvert_exporter": "python",
   "pygments_lexer": "ipython3",
   "version": "3.8.3"
  }
 },
 "nbformat": 4,
 "nbformat_minor": 4
}
