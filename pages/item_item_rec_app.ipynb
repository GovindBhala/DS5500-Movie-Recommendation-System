{
 "cells": [
  {
   "cell_type": "markdown",
   "metadata": {},
   "source": [
    "# Item-Item Recommendations for Non-Users & Streamlit\n",
    "- Allow users to put in a movie that they liked and output similar movies     \n",
    "- For a first pass, use a simple tf-idf genre-based recommendation model. Will update with movie profiles from personalized recommendations     \n",
    "- If same similarity score (aka same genres), recommend highest rated based on weighted average \n",
    "    - Generally want diverse recommendations, expose long tail HOWEVER these people are already non-users who are not rating movies, thus want to give credibility to draw them in and get them to watch anything \n",
    "    - Nothing to based the diverse recommendations on other than randomness. "
   ]
  },
  {
   "cell_type": "code",
   "execution_count": 2,
   "metadata": {},
   "outputs": [],
   "source": [
    "import pandas as pd\n",
    "import matplotlib.pyplot as plt\n",
    "import numpy as np\n",
    "import re\n",
    "import streamlit as st\n",
    "from sklearn.feature_extraction.text import TfidfVectorizer\n",
    "from sklearn.metrics.pairwise import linear_kernel\n",
    "from fuzzywuzzy import fuzz"
   ]
  },
  {
   "cell_type": "markdown",
   "metadata": {},
   "source": [
    "# Cached Setup"
   ]
  },
  {
   "cell_type": "code",
   "execution_count": 333,
   "metadata": {},
   "outputs": [],
   "source": [
    "def unique_lists(df):\n",
    "    movies_unique = np.sort(df.title_year.unique())\n",
    "    return movies_unique"
   ]
  },
  {
   "cell_type": "code",
   "execution_count": 335,
   "metadata": {},
   "outputs": [],
   "source": [
    "@st.cache(allow_output_mutation=True)\n",
    "def cached_functions():\n",
    "    \n",
    "    # read in data created in recommendation_data_display.ipynb\n",
    "    df = pd.read_parquet('recommendation_display.parq')\n",
    "    \n",
    "    # recombine genre lists to string for tf-idf\n",
    "    df['genre_str'] = df.Genres.apply(lambda row: ' '.join(row))\n",
    "    \n",
    "    # set up tf-idf and indices\n",
    "    tf = TfidfVectorizer(analyzer='word',ngram_range=(1, 2),min_df=0, stop_words='english')\n",
    "    tfidf_matrix = tf.fit_transform(df['genre_str'])\n",
    "    # record list of movie Ids and indices\n",
    "    movieIds = df['movieId']\n",
    "    indices = pd.Series(df.index, index=df['movieId'])\n",
    "    \n",
    "    # get unique list of movies for user input \n",
    "    movies_unique = unique_lists(df)\n",
    "    \n",
    "    return movieIds, indices, tfidf_matrix, movies_unique"
   ]
  },
  {
   "cell_type": "markdown",
   "metadata": {},
   "source": [
    "## Recommend movies based on cosine similarity of genre tf-idf\n",
    "- Input selected_id: movieId \n",
    "    - User input: title (with year) from drop down menu. Need year because some titles are duplicate \n",
    "    - movieId is unique, so good for the funciton input \n",
    "- Find cosine similarity \n",
    "- Merge with display data with metadata\n",
    "- Sort by scores first, weighted average second if same score"
   ]
  },
  {
   "cell_type": "code",
   "execution_count": 355,
   "metadata": {},
   "outputs": [],
   "source": [
    "def recommend_movies(df, selected_id, movieIds, indices, tfidf_matrix):\n",
    "    \n",
    "    # get index of movies in tfidf matrix\n",
    "    idx = indices[selected_id]\n",
    "    tfmat = tfidf_matrix[idx]\n",
    "    \n",
    "    # similarity between movie and other movies\n",
    "    scores = list(linear_kernel(tfmat, tfidf_matrix)[0])\n",
    "\n",
    "    # scores in order of movieIds, concat back together\n",
    "    recs = pd.concat([movieIds, pd.Series(scores)], axis = 1, sort = False)\n",
    "    recs.columns = ['movieId', 'score']\n",
    "\n",
    "    # merge with overall data\n",
    "    recs = pd.merge(recs, df, on = 'movieId')\n",
    "\n",
    "    # remove original movie\n",
    "    recs = recs[recs.movieId != selected_id]\n",
    "    \n",
    "    # sort by score first, then weighted average second\n",
    "    # if same similarity score, recommend higher rated movie\n",
    "    recs = recs.sort_values(['score', 'weighted_avg'], ascending = False)\n",
    "    \n",
    "    return recs"
   ]
  },
  {
   "cell_type": "markdown",
   "metadata": {},
   "source": [
    "# Streamlit App with User Input\n",
    "- User input: text input\n",
    "- Find options that are close to the text input based on fuzzy string matching\n",
    "    - Works for not-quite-right movie title and misspellings\n",
    "    - Top 10 IF similarity ratio > 70. Don't display anything if similarity too low\n",
    "- Select out of drop down. Drop down includes (year) \n",
    "    - Some titles are duplicate so need year\n",
    "- Get movieId from selection and use that as recommendation input"
   ]
  },
  {
   "cell_type": "code",
   "execution_count": null,
   "metadata": {},
   "outputs": [],
   "source": [
    "def write(df, movieIds, indices, tfidf_matrix, movies_unique):\n",
    "\n",
    "    st.title('Similar Movie Recommendations')\n",
    "    st.header('View movies similar to movies you have enjoyed in the past')\n",
    "    st.write('Type a movie title press Enter. You will see a list of potentially matching movies in our system. ' + \n",
    "             'Select your choice and hit \"Display Recommendations\" to see similar movies.')\n",
    "    \n",
    "    # get user input text\n",
    "    # too many movies for a full drop down \n",
    "    user_text = st.text_input(\"Movie Title\")\n",
    "    # downcase input\n",
    "    user_text = user_text.lower()\n",
    "\n",
    "    if user_text == '':\n",
    "        st.write('Waiting for input')\n",
    "    else:\n",
    "\n",
    "        # fuzzy string matching to find similarity ratio between user input and actual movie title (downcased)\n",
    "        # works for misspellings as well \n",
    "        # limit to 70% similarity \n",
    "        df['sim'] = df.title_downcased.apply(lambda row: fuzz.ratio(row, user_text))\n",
    "        options = df[df.sim > 70].sort_values('sim', ascending = False).head(10).title_year.unique()\n",
    "\n",
    "        # find movies that start with what they typed\n",
    "        if len(options) > 0:\n",
    "\n",
    "            user_title = st.selectbox('Select Movie', options)\n",
    "\n",
    "            if st.button('Display Recommendations'):\n",
    "                # get recommendations\n",
    "                recs = recommend_movies(df, df[df.title_year == user_title].movieId.values[0], movieIds, indices, tfidf_matrix)\n",
    "                # top 10\n",
    "                recs = recs.head(10)\n",
    "\n",
    "                st.write(recs.drop(columns = ['movieId', 'weighted_avg', 'actors_downcased', 'directors_downcased',\n",
    "                                              'title_downcased', 'title_year', 'sim', 'score']))\n",
    "\n",
    "        # if nothing > 70% similiarity, then can't find a matching movie\n",
    "        else:\n",
    "            st.write(\"Sorry, we can't find any matching movies\")"
   ]
  }
 ],
 "metadata": {
  "kernelspec": {
   "display_name": "Python 3",
   "language": "python",
   "name": "python3"
  },
  "language_info": {
   "codemirror_mode": {
    "name": "ipython",
    "version": 3
   },
   "file_extension": ".py",
   "mimetype": "text/x-python",
   "name": "python",
   "nbconvert_exporter": "python",
   "pygments_lexer": "ipython3",
   "version": "3.8.3"
  }
 },
 "nbformat": 4,
 "nbformat_minor": 4
}
