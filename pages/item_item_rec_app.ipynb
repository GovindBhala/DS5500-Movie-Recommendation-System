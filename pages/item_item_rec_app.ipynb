{
 "cells": [
  {
   "cell_type": "markdown",
   "metadata": {},
   "source": [
    "# Item-Item Recommendations for Non-Users (Similar Movies)\n",
    "**Use Case**: User without a profile can get recommendations based on a movie they have previously enjoyed by displaying similar movies.    \n",
    "Details:\n",
    "- Allow users to put in a movie that they liked and output similar movies     \n",
    "- For a first pass, use a simple tf-idf genre-based recommendation model. Will update with movie profiles from personalized recommendations     \n",
    "- If same similarity score (aka same genres), recommend highest rated based on weighted average \n",
    "    - Generally want diverse recommendations, expose long tail HOWEVER these people are already non-users who are not rating movies, thus want to give credibility to draw them in and get them to watch anything \n",
    "    - Nothing to based the diverse recommendations on other than randomness. \n",
    "    \n",
    "Process:"
   ]
  },
  {
   "cell_type": "code",
   "execution_count": 1,
   "metadata": {},
   "outputs": [],
   "source": [
    "import pandas as pd\n",
    "import numpy as np\n",
    "import re\n",
    "import streamlit as st\n",
    "from fuzzywuzzy import fuzz\n",
    "import scipy\n",
    "import pickle"
   ]
  },
  {
   "cell_type": "markdown",
   "metadata": {},
   "source": [
    "## Item-Item Recommendations"
   ]
  },
  {
   "cell_type": "code",
   "execution_count": 10,
   "metadata": {},
   "outputs": [],
   "source": [
    "@st.cache(allow_output_mutation = True)\n",
    "def item_recs(df, df_display, movieIds, user_movieId, keep_movies):\n",
    "    \n",
    "    # get profile of selected movie\n",
    "    selected_movie_index = movieIds.index(user_movieId)\n",
    "    selected_movie = df[selected_movie_index,:]\n",
    "    \n",
    "    # similarity with all movies: result is sum of similar features \n",
    "        # ex 9 = 9 identical features. 0 = no identical features\n",
    "    recommendations = pd.DataFrame(df.dot(selected_movie.T).todense())\n",
    "    \n",
    "    # merge similarities with movieIds\n",
    "    recommendations = pd.merge(recommendations, pd.Series(movieIds).to_frame(), left_index = True, right_index = True)\n",
    "    recommendations.columns = ['prediction', 'movieId']\n",
    "\n",
    "    # sort and merge with display data\n",
    "    recommendations = recommendations.sort_values('prediction', ascending = False)\n",
    "    recommendations = pd.merge(recommendations, df_display, on = 'movieId', how = 'left')\n",
    "    \n",
    "    # remove entered movie\n",
    "    recommendations = recommendations[recommendations.movieId != user_movieId]\n",
    "    \n",
    "    # remove movies not in keep_movies options\n",
    "    recommendations = recommendations[recommendations.movieId.isin(keep_movies)]\n",
    "\n",
    "    return recommendations"
   ]
  },
  {
   "cell_type": "code",
   "execution_count": 15,
   "metadata": {},
   "outputs": [],
   "source": [
    "@st.cache(allow_output_mutation = True)\n",
    "def item_recs_combines(df1, df2, df_display, movieIds, user_movieId, keep_movies1, keep_movies2, top_n = 10):\n",
    "    \n",
    "    # recommendations from each model \n",
    "    recs_notags = item_recs(df1, df_display, movieIds, user_movieId, keep_movies = keep_movies1)\n",
    "    recs_tags = item_recs(df2, df_display, movieIds, user_movieId, keep_movies = keep_movies2)\n",
    "    \n",
    "    # concat half top recommendations from each model \n",
    "    recommendations = pd.concat([recs_notags.head(int(top_n/2)), recs_tags.head(int(top_n/2))])\n",
    "\n",
    "    # resort based on weighted average: put most popular movies at the top to gain credibility \n",
    "    recommendations = recommendations.sort_values('weighted_avg', ascending = False)\n",
    "    \n",
    "    return recommendations "
   ]
  },
  {
   "cell_type": "markdown",
   "metadata": {},
   "source": [
    "# Streamlit App with User Input\n",
    "- User input: text input\n",
    "- Find options that are close to the text input based on fuzzy string matching\n",
    "    - Works for not-quite-right movie title and misspellings\n",
    "    - Top 10 IF similarity ratio > 70. Don't display anything if similarity too low\n",
    "- Select out of drop down. Drop down includes (year) \n",
    "    - Some titles are duplicate so need year\n",
    "- Get movieId from selection and use that as recommendation input"
   ]
  },
  {
   "cell_type": "code",
   "execution_count": 17,
   "metadata": {},
   "outputs": [],
   "source": [
    "def write(df_display, df1, df2, movieIds, movieIds_notags, movieIds_tags):\n",
    "\n",
    "    st.title('Similar Movie Recommendations')\n",
    "    st.header('View movies similar to movies that you have enjoyed in the past')\n",
    "    st.write('Type a movie title hit Enter. You will see a list of potentially matching movies in our system.      \\n' + \n",
    "             'Select your choice and select **Display Recommendations** to see similar movies.')\n",
    "    \n",
    "    # get user input text\n",
    "    # too many movies for a full drop down \n",
    "    user_text = st.text_input(\"Movie Title\")\n",
    "    # downcase input\n",
    "    user_text = user_text.lower()\n",
    "\n",
    "    if user_text == '':\n",
    "        st.write('Waiting for input')\n",
    "    else:\n",
    "\n",
    "        # fuzzy string matching to find similarity ratio between user input and actual movie title (downcased)\n",
    "        # works for misspellings as well \n",
    "        # limit to 70% similarity \n",
    "        options = df_display.copy()\n",
    "        options['sim'] = options.title_downcased.apply(lambda row: fuzz.token_sort_ratio(row, user_text))\n",
    "        options = options[options.sim > 70].sort_values('sim', ascending = False).head(10).title_year.unique()\n",
    "\n",
    "        # find movies that are similar to what they typed \n",
    "        if len(options) > 0:\n",
    "\n",
    "            # select from dropdown \n",
    "            user_title = st.selectbox('Select Movie', options)\n",
    "            user_movieid = df_display[df_display.title_year == user_title].movieId.values[0]\n",
    "\n",
    "            if st.button('Display Recommendations'):\n",
    "                \n",
    "                # generate recommendations\n",
    "                #recs = item_recs(df, df_display, movieIds, user_movieid)\n",
    "                recs = item_recs_combines(df1, df2, df_display, movieIds, user_movieid, movieIds_notags, movieIds_tags)\n",
    "                \n",
    "                # top 10\n",
    "                #recs = recs.head(10)\n",
    "\n",
    "                st.write(recs.drop(columns = ['movieId', 'weighted_avg', 'actors_downcased', 'directors_downcased',\n",
    "                                              'title_downcased', 'title_year', 'decade', 'prediction']))\n",
    "\n",
    "        # if nothing > 70% similiarity, then can't find a matching movie\n",
    "        else:\n",
    "            st.write(\"Sorry, we can't find any matching movies\")"
   ]
  }
 ],
 "metadata": {
  "kernelspec": {
   "display_name": "Python 3",
   "language": "python",
   "name": "python3"
  },
  "language_info": {
   "codemirror_mode": {
    "name": "ipython",
    "version": 3
   },
   "file_extension": ".py",
   "mimetype": "text/x-python",
   "name": "python",
   "nbconvert_exporter": "python",
   "pygments_lexer": "ipython3",
   "version": "3.8.3"
  }
 },
 "nbformat": 4,
 "nbformat_minor": 4
}
