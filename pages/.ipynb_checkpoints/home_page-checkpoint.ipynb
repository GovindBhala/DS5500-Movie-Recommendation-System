{
 "cells": [
  {
   "cell_type": "code",
   "execution_count": null,
   "metadata": {},
   "outputs": [],
   "source": [
    "import streamlit as st"
   ]
  },
  {
   "cell_type": "code",
   "execution_count": null,
   "metadata": {},
   "outputs": [],
   "source": [
    "def write():\n",
    "    st.title('Welcome to the Movie Recommender!')\n",
    "    st.header('Select the type of recommendation you want on the left menu')\n",
    "    st.write(\"\"\"\n",
    "    Options:\n",
    "    - Top Rated Movies: apply filters to find the top rated movies in your desired attributes\n",
    "    - Movie Based Recommendations: enter a movie you have previously enjoyed to view similar movies\n",
    "    - Personalized Recommendations: enter your user ID to find your personalized top movies + apply filters\n",
    "    - Add Profile: manually enter movie ratings if you are not in our system, thereby creating a profile to enable personalized recommendations\n",
    "    \"\"\")"
   ]
  }
 ],
 "metadata": {
  "kernelspec": {
   "display_name": "Python 3",
   "language": "python",
   "name": "python3"
  },
  "language_info": {
   "codemirror_mode": {
    "name": "ipython",
    "version": 3
   },
   "file_extension": ".py",
   "mimetype": "text/x-python",
   "name": "python",
   "nbconvert_exporter": "python",
   "pygments_lexer": "ipython3",
   "version": "3.8.3"
  }
 },
 "nbformat": 4,
 "nbformat_minor": 4
}
